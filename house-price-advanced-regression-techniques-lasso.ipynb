{
 "cells": [
  {
   "cell_type": "code",
   "execution_count": 1,
   "id": "convertible-letter",
   "metadata": {
    "_cell_guid": "b1076dfc-b9ad-4769-8c92-a6c4dae69d19",
    "_uuid": "8f2839f25d086af736a60e9eeb907d3b93b6e0e5",
    "execution": {
     "iopub.execute_input": "2021-06-29T11:28:07.864177Z",
     "iopub.status.busy": "2021-06-29T11:28:07.862882Z",
     "iopub.status.idle": "2021-06-29T11:28:07.869437Z",
     "shell.execute_reply": "2021-06-29T11:28:07.868907Z",
     "shell.execute_reply.started": "2021-06-29T08:57:56.084178Z"
    },
    "papermill": {
     "duration": 0.055619,
     "end_time": "2021-06-29T11:28:07.869586",
     "exception": false,
     "start_time": "2021-06-29T11:28:07.813967",
     "status": "completed"
    },
    "tags": []
   },
   "outputs": [
    {
     "name": "stdout",
     "output_type": "stream",
     "text": [
      "/kaggle/input/house-prices-advanced-regression-techniques/sample_submission.csv\n",
      "/kaggle/input/house-prices-advanced-regression-techniques/data_description.txt\n",
      "/kaggle/input/house-prices-advanced-regression-techniques/train.csv\n",
      "/kaggle/input/house-prices-advanced-regression-techniques/test.csv\n"
     ]
    }
   ],
   "source": [
    "# This Python 3 environment comes with many helpful analytics libraries installed\n",
    "# It is defined by the kaggle/python Docker image: https://github.com/kaggle/docker-python\n",
    "# For example, here's several helpful packages to load\n",
    "\n",
    "import numpy as np # linear algebra\n",
    "import pandas as pd # data processing, CSV file I/O (e.g. pd.read_csv)\n",
    "\n",
    "# Input data files are available in the read-only \"../input/\" directory\n",
    "# For example, running this (by clicking run or pressing Shift+Enter) will list all files under the input directory\n",
    "\n",
    "import os\n",
    "for dirname, _, filenames in os.walk('/kaggle/input'):\n",
    "    for filename in filenames:\n",
    "        print(os.path.join(dirname, filename))\n",
    "\n",
    "# You can write up to 20GB to the current directory (/kaggle/working/) that gets preserved as output when you create a version using \"Save & Run All\" \n",
    "# You can also write temporary files to /kaggle/temp/, but they won't be saved outside of the current session"
   ]
  },
  {
   "cell_type": "markdown",
   "id": "experienced-township",
   "metadata": {
    "papermill": {
     "duration": 0.038867,
     "end_time": "2021-06-29T11:28:07.948148",
     "exception": false,
     "start_time": "2021-06-29T11:28:07.909281",
     "status": "completed"
    },
    "tags": []
   },
   "source": [
    "##### *Basic library imports*"
   ]
  },
  {
   "cell_type": "code",
   "execution_count": 2,
   "id": "phantom-shower",
   "metadata": {
    "execution": {
     "iopub.execute_input": "2021-06-29T11:28:08.031137Z",
     "iopub.status.busy": "2021-06-29T11:28:08.030608Z",
     "iopub.status.idle": "2021-06-29T11:28:08.791091Z",
     "shell.execute_reply": "2021-06-29T11:28:08.790154Z",
     "shell.execute_reply.started": "2021-06-29T08:57:56.099874Z"
    },
    "papermill": {
     "duration": 0.804093,
     "end_time": "2021-06-29T11:28:08.791241",
     "exception": false,
     "start_time": "2021-06-29T11:28:07.987148",
     "status": "completed"
    },
    "tags": []
   },
   "outputs": [],
   "source": [
    "import pandas as pd\n",
    "import numpy as np\n",
    "import seaborn as sns\n",
    "import matplotlib.pyplot as plt\n"
   ]
  },
  {
   "cell_type": "code",
   "execution_count": 3,
   "id": "limited-doctor",
   "metadata": {
    "execution": {
     "iopub.execute_input": "2021-06-29T11:28:08.877717Z",
     "iopub.status.busy": "2021-06-29T11:28:08.877042Z",
     "iopub.status.idle": "2021-06-29T11:28:09.319965Z",
     "shell.execute_reply": "2021-06-29T11:28:09.320440Z",
     "shell.execute_reply.started": "2021-06-29T08:57:56.425016Z"
    },
    "papermill": {
     "duration": 0.487169,
     "end_time": "2021-06-29T11:28:09.320601",
     "exception": false,
     "start_time": "2021-06-29T11:28:08.833432",
     "status": "completed"
    },
    "tags": []
   },
   "outputs": [],
   "source": [
    "from sklearn.model_selection import train_test_split\n",
    "from sklearn.preprocessing import StandardScaler, OneHotEncoder\n",
    "from sklearn.model_selection import cross_val_score\n",
    "from sklearn.linear_model import LinearRegression, Ridge, Lasso\n",
    "from sklearn.tree import DecisionTreeRegressor\n",
    "from sklearn.ensemble import RandomForestRegressor\n",
    "from sklearn.metrics import mean_squared_error, make_scorer\n",
    "from sklearn.metrics import mean_squared_log_error\n",
    "from sklearn.metrics import r2_score\n",
    "from sklearn.model_selection import GridSearchCV\n"
   ]
  },
  {
   "cell_type": "markdown",
   "id": "appointed-alignment",
   "metadata": {
    "papermill": {
     "duration": 0.044019,
     "end_time": "2021-06-29T11:28:09.404196",
     "exception": false,
     "start_time": "2021-06-29T11:28:09.360177",
     "status": "completed"
    },
    "tags": []
   },
   "source": []
  },
  {
   "cell_type": "code",
   "execution_count": 4,
   "id": "disturbed-smile",
   "metadata": {
    "execution": {
     "iopub.execute_input": "2021-06-29T11:28:09.486513Z",
     "iopub.status.busy": "2021-06-29T11:28:09.485665Z",
     "iopub.status.idle": "2021-06-29T11:28:09.502775Z",
     "shell.execute_reply": "2021-06-29T11:28:09.503261Z",
     "shell.execute_reply.started": "2021-06-29T08:57:56.533791Z"
    },
    "papermill": {
     "duration": 0.059605,
     "end_time": "2021-06-29T11:28:09.503421",
     "exception": false,
     "start_time": "2021-06-29T11:28:09.443816",
     "status": "completed"
    },
    "tags": []
   },
   "outputs": [],
   "source": [
    "sample_submission = pd.read_csv(\"/kaggle/input/house-prices-advanced-regression-techniques/sample_submission.csv\")\n"
   ]
  },
  {
   "cell_type": "markdown",
   "id": "extraordinary-latino",
   "metadata": {
    "papermill": {
     "duration": 0.039832,
     "end_time": "2021-06-29T11:28:09.582725",
     "exception": false,
     "start_time": "2021-06-29T11:28:09.542893",
     "status": "completed"
    },
    "tags": []
   },
   "source": [
    "##### *Let's take a look at our training data!*"
   ]
  },
  {
   "cell_type": "code",
   "execution_count": 5,
   "id": "breeding-panic",
   "metadata": {
    "execution": {
     "iopub.execute_input": "2021-06-29T11:28:09.664561Z",
     "iopub.status.busy": "2021-06-29T11:28:09.663739Z",
     "iopub.status.idle": "2021-06-29T11:28:09.735218Z",
     "shell.execute_reply": "2021-06-29T11:28:09.735607Z",
     "shell.execute_reply.started": "2021-06-29T08:57:56.545650Z"
    },
    "papermill": {
     "duration": 0.113675,
     "end_time": "2021-06-29T11:28:09.735763",
     "exception": false,
     "start_time": "2021-06-29T11:28:09.622088",
     "status": "completed"
    },
    "tags": []
   },
   "outputs": [
    {
     "data": {
      "text/html": [
       "<div>\n",
       "<style scoped>\n",
       "    .dataframe tbody tr th:only-of-type {\n",
       "        vertical-align: middle;\n",
       "    }\n",
       "\n",
       "    .dataframe tbody tr th {\n",
       "        vertical-align: top;\n",
       "    }\n",
       "\n",
       "    .dataframe thead th {\n",
       "        text-align: right;\n",
       "    }\n",
       "</style>\n",
       "<table border=\"1\" class=\"dataframe\">\n",
       "  <thead>\n",
       "    <tr style=\"text-align: right;\">\n",
       "      <th></th>\n",
       "      <th>Id</th>\n",
       "      <th>MSSubClass</th>\n",
       "      <th>MSZoning</th>\n",
       "      <th>LotFrontage</th>\n",
       "      <th>LotArea</th>\n",
       "      <th>Street</th>\n",
       "      <th>Alley</th>\n",
       "      <th>LotShape</th>\n",
       "      <th>LandContour</th>\n",
       "      <th>Utilities</th>\n",
       "      <th>...</th>\n",
       "      <th>PoolArea</th>\n",
       "      <th>PoolQC</th>\n",
       "      <th>Fence</th>\n",
       "      <th>MiscFeature</th>\n",
       "      <th>MiscVal</th>\n",
       "      <th>MoSold</th>\n",
       "      <th>YrSold</th>\n",
       "      <th>SaleType</th>\n",
       "      <th>SaleCondition</th>\n",
       "      <th>SalePrice</th>\n",
       "    </tr>\n",
       "  </thead>\n",
       "  <tbody>\n",
       "    <tr>\n",
       "      <th>0</th>\n",
       "      <td>1</td>\n",
       "      <td>60</td>\n",
       "      <td>RL</td>\n",
       "      <td>65.0</td>\n",
       "      <td>8450</td>\n",
       "      <td>Pave</td>\n",
       "      <td>NaN</td>\n",
       "      <td>Reg</td>\n",
       "      <td>Lvl</td>\n",
       "      <td>AllPub</td>\n",
       "      <td>...</td>\n",
       "      <td>0</td>\n",
       "      <td>NaN</td>\n",
       "      <td>NaN</td>\n",
       "      <td>NaN</td>\n",
       "      <td>0</td>\n",
       "      <td>2</td>\n",
       "      <td>2008</td>\n",
       "      <td>WD</td>\n",
       "      <td>Normal</td>\n",
       "      <td>208500</td>\n",
       "    </tr>\n",
       "    <tr>\n",
       "      <th>1</th>\n",
       "      <td>2</td>\n",
       "      <td>20</td>\n",
       "      <td>RL</td>\n",
       "      <td>80.0</td>\n",
       "      <td>9600</td>\n",
       "      <td>Pave</td>\n",
       "      <td>NaN</td>\n",
       "      <td>Reg</td>\n",
       "      <td>Lvl</td>\n",
       "      <td>AllPub</td>\n",
       "      <td>...</td>\n",
       "      <td>0</td>\n",
       "      <td>NaN</td>\n",
       "      <td>NaN</td>\n",
       "      <td>NaN</td>\n",
       "      <td>0</td>\n",
       "      <td>5</td>\n",
       "      <td>2007</td>\n",
       "      <td>WD</td>\n",
       "      <td>Normal</td>\n",
       "      <td>181500</td>\n",
       "    </tr>\n",
       "    <tr>\n",
       "      <th>2</th>\n",
       "      <td>3</td>\n",
       "      <td>60</td>\n",
       "      <td>RL</td>\n",
       "      <td>68.0</td>\n",
       "      <td>11250</td>\n",
       "      <td>Pave</td>\n",
       "      <td>NaN</td>\n",
       "      <td>IR1</td>\n",
       "      <td>Lvl</td>\n",
       "      <td>AllPub</td>\n",
       "      <td>...</td>\n",
       "      <td>0</td>\n",
       "      <td>NaN</td>\n",
       "      <td>NaN</td>\n",
       "      <td>NaN</td>\n",
       "      <td>0</td>\n",
       "      <td>9</td>\n",
       "      <td>2008</td>\n",
       "      <td>WD</td>\n",
       "      <td>Normal</td>\n",
       "      <td>223500</td>\n",
       "    </tr>\n",
       "    <tr>\n",
       "      <th>3</th>\n",
       "      <td>4</td>\n",
       "      <td>70</td>\n",
       "      <td>RL</td>\n",
       "      <td>60.0</td>\n",
       "      <td>9550</td>\n",
       "      <td>Pave</td>\n",
       "      <td>NaN</td>\n",
       "      <td>IR1</td>\n",
       "      <td>Lvl</td>\n",
       "      <td>AllPub</td>\n",
       "      <td>...</td>\n",
       "      <td>0</td>\n",
       "      <td>NaN</td>\n",
       "      <td>NaN</td>\n",
       "      <td>NaN</td>\n",
       "      <td>0</td>\n",
       "      <td>2</td>\n",
       "      <td>2006</td>\n",
       "      <td>WD</td>\n",
       "      <td>Abnorml</td>\n",
       "      <td>140000</td>\n",
       "    </tr>\n",
       "    <tr>\n",
       "      <th>4</th>\n",
       "      <td>5</td>\n",
       "      <td>60</td>\n",
       "      <td>RL</td>\n",
       "      <td>84.0</td>\n",
       "      <td>14260</td>\n",
       "      <td>Pave</td>\n",
       "      <td>NaN</td>\n",
       "      <td>IR1</td>\n",
       "      <td>Lvl</td>\n",
       "      <td>AllPub</td>\n",
       "      <td>...</td>\n",
       "      <td>0</td>\n",
       "      <td>NaN</td>\n",
       "      <td>NaN</td>\n",
       "      <td>NaN</td>\n",
       "      <td>0</td>\n",
       "      <td>12</td>\n",
       "      <td>2008</td>\n",
       "      <td>WD</td>\n",
       "      <td>Normal</td>\n",
       "      <td>250000</td>\n",
       "    </tr>\n",
       "    <tr>\n",
       "      <th>...</th>\n",
       "      <td>...</td>\n",
       "      <td>...</td>\n",
       "      <td>...</td>\n",
       "      <td>...</td>\n",
       "      <td>...</td>\n",
       "      <td>...</td>\n",
       "      <td>...</td>\n",
       "      <td>...</td>\n",
       "      <td>...</td>\n",
       "      <td>...</td>\n",
       "      <td>...</td>\n",
       "      <td>...</td>\n",
       "      <td>...</td>\n",
       "      <td>...</td>\n",
       "      <td>...</td>\n",
       "      <td>...</td>\n",
       "      <td>...</td>\n",
       "      <td>...</td>\n",
       "      <td>...</td>\n",
       "      <td>...</td>\n",
       "      <td>...</td>\n",
       "    </tr>\n",
       "    <tr>\n",
       "      <th>1455</th>\n",
       "      <td>1456</td>\n",
       "      <td>60</td>\n",
       "      <td>RL</td>\n",
       "      <td>62.0</td>\n",
       "      <td>7917</td>\n",
       "      <td>Pave</td>\n",
       "      <td>NaN</td>\n",
       "      <td>Reg</td>\n",
       "      <td>Lvl</td>\n",
       "      <td>AllPub</td>\n",
       "      <td>...</td>\n",
       "      <td>0</td>\n",
       "      <td>NaN</td>\n",
       "      <td>NaN</td>\n",
       "      <td>NaN</td>\n",
       "      <td>0</td>\n",
       "      <td>8</td>\n",
       "      <td>2007</td>\n",
       "      <td>WD</td>\n",
       "      <td>Normal</td>\n",
       "      <td>175000</td>\n",
       "    </tr>\n",
       "    <tr>\n",
       "      <th>1456</th>\n",
       "      <td>1457</td>\n",
       "      <td>20</td>\n",
       "      <td>RL</td>\n",
       "      <td>85.0</td>\n",
       "      <td>13175</td>\n",
       "      <td>Pave</td>\n",
       "      <td>NaN</td>\n",
       "      <td>Reg</td>\n",
       "      <td>Lvl</td>\n",
       "      <td>AllPub</td>\n",
       "      <td>...</td>\n",
       "      <td>0</td>\n",
       "      <td>NaN</td>\n",
       "      <td>MnPrv</td>\n",
       "      <td>NaN</td>\n",
       "      <td>0</td>\n",
       "      <td>2</td>\n",
       "      <td>2010</td>\n",
       "      <td>WD</td>\n",
       "      <td>Normal</td>\n",
       "      <td>210000</td>\n",
       "    </tr>\n",
       "    <tr>\n",
       "      <th>1457</th>\n",
       "      <td>1458</td>\n",
       "      <td>70</td>\n",
       "      <td>RL</td>\n",
       "      <td>66.0</td>\n",
       "      <td>9042</td>\n",
       "      <td>Pave</td>\n",
       "      <td>NaN</td>\n",
       "      <td>Reg</td>\n",
       "      <td>Lvl</td>\n",
       "      <td>AllPub</td>\n",
       "      <td>...</td>\n",
       "      <td>0</td>\n",
       "      <td>NaN</td>\n",
       "      <td>GdPrv</td>\n",
       "      <td>Shed</td>\n",
       "      <td>2500</td>\n",
       "      <td>5</td>\n",
       "      <td>2010</td>\n",
       "      <td>WD</td>\n",
       "      <td>Normal</td>\n",
       "      <td>266500</td>\n",
       "    </tr>\n",
       "    <tr>\n",
       "      <th>1458</th>\n",
       "      <td>1459</td>\n",
       "      <td>20</td>\n",
       "      <td>RL</td>\n",
       "      <td>68.0</td>\n",
       "      <td>9717</td>\n",
       "      <td>Pave</td>\n",
       "      <td>NaN</td>\n",
       "      <td>Reg</td>\n",
       "      <td>Lvl</td>\n",
       "      <td>AllPub</td>\n",
       "      <td>...</td>\n",
       "      <td>0</td>\n",
       "      <td>NaN</td>\n",
       "      <td>NaN</td>\n",
       "      <td>NaN</td>\n",
       "      <td>0</td>\n",
       "      <td>4</td>\n",
       "      <td>2010</td>\n",
       "      <td>WD</td>\n",
       "      <td>Normal</td>\n",
       "      <td>142125</td>\n",
       "    </tr>\n",
       "    <tr>\n",
       "      <th>1459</th>\n",
       "      <td>1460</td>\n",
       "      <td>20</td>\n",
       "      <td>RL</td>\n",
       "      <td>75.0</td>\n",
       "      <td>9937</td>\n",
       "      <td>Pave</td>\n",
       "      <td>NaN</td>\n",
       "      <td>Reg</td>\n",
       "      <td>Lvl</td>\n",
       "      <td>AllPub</td>\n",
       "      <td>...</td>\n",
       "      <td>0</td>\n",
       "      <td>NaN</td>\n",
       "      <td>NaN</td>\n",
       "      <td>NaN</td>\n",
       "      <td>0</td>\n",
       "      <td>6</td>\n",
       "      <td>2008</td>\n",
       "      <td>WD</td>\n",
       "      <td>Normal</td>\n",
       "      <td>147500</td>\n",
       "    </tr>\n",
       "  </tbody>\n",
       "</table>\n",
       "<p>1460 rows × 81 columns</p>\n",
       "</div>"
      ],
      "text/plain": [
       "        Id  MSSubClass MSZoning  LotFrontage  LotArea Street Alley LotShape  \\\n",
       "0        1          60       RL         65.0     8450   Pave   NaN      Reg   \n",
       "1        2          20       RL         80.0     9600   Pave   NaN      Reg   \n",
       "2        3          60       RL         68.0    11250   Pave   NaN      IR1   \n",
       "3        4          70       RL         60.0     9550   Pave   NaN      IR1   \n",
       "4        5          60       RL         84.0    14260   Pave   NaN      IR1   \n",
       "...    ...         ...      ...          ...      ...    ...   ...      ...   \n",
       "1455  1456          60       RL         62.0     7917   Pave   NaN      Reg   \n",
       "1456  1457          20       RL         85.0    13175   Pave   NaN      Reg   \n",
       "1457  1458          70       RL         66.0     9042   Pave   NaN      Reg   \n",
       "1458  1459          20       RL         68.0     9717   Pave   NaN      Reg   \n",
       "1459  1460          20       RL         75.0     9937   Pave   NaN      Reg   \n",
       "\n",
       "     LandContour Utilities  ... PoolArea PoolQC  Fence MiscFeature MiscVal  \\\n",
       "0            Lvl    AllPub  ...        0    NaN    NaN         NaN       0   \n",
       "1            Lvl    AllPub  ...        0    NaN    NaN         NaN       0   \n",
       "2            Lvl    AllPub  ...        0    NaN    NaN         NaN       0   \n",
       "3            Lvl    AllPub  ...        0    NaN    NaN         NaN       0   \n",
       "4            Lvl    AllPub  ...        0    NaN    NaN         NaN       0   \n",
       "...          ...       ...  ...      ...    ...    ...         ...     ...   \n",
       "1455         Lvl    AllPub  ...        0    NaN    NaN         NaN       0   \n",
       "1456         Lvl    AllPub  ...        0    NaN  MnPrv         NaN       0   \n",
       "1457         Lvl    AllPub  ...        0    NaN  GdPrv        Shed    2500   \n",
       "1458         Lvl    AllPub  ...        0    NaN    NaN         NaN       0   \n",
       "1459         Lvl    AllPub  ...        0    NaN    NaN         NaN       0   \n",
       "\n",
       "     MoSold YrSold  SaleType  SaleCondition  SalePrice  \n",
       "0         2   2008        WD         Normal     208500  \n",
       "1         5   2007        WD         Normal     181500  \n",
       "2         9   2008        WD         Normal     223500  \n",
       "3         2   2006        WD        Abnorml     140000  \n",
       "4        12   2008        WD         Normal     250000  \n",
       "...     ...    ...       ...            ...        ...  \n",
       "1455      8   2007        WD         Normal     175000  \n",
       "1456      2   2010        WD         Normal     210000  \n",
       "1457      5   2010        WD         Normal     266500  \n",
       "1458      4   2010        WD         Normal     142125  \n",
       "1459      6   2008        WD         Normal     147500  \n",
       "\n",
       "[1460 rows x 81 columns]"
      ]
     },
     "execution_count": 5,
     "metadata": {},
     "output_type": "execute_result"
    }
   ],
   "source": [
    "train = pd.read_csv(\"../input/house-prices-advanced-regression-techniques/train.csv\")\n",
    "train"
   ]
  },
  {
   "cell_type": "markdown",
   "id": "square-comment",
   "metadata": {
    "papermill": {
     "duration": 0.040088,
     "end_time": "2021-06-29T11:28:09.815800",
     "exception": false,
     "start_time": "2021-06-29T11:28:09.775712",
     "status": "completed"
    },
    "tags": []
   },
   "source": [
    "##### *Our target!*"
   ]
  },
  {
   "cell_type": "code",
   "execution_count": 6,
   "id": "present-microwave",
   "metadata": {
    "execution": {
     "iopub.execute_input": "2021-06-29T11:28:09.898615Z",
     "iopub.status.busy": "2021-06-29T11:28:09.897800Z",
     "iopub.status.idle": "2021-06-29T11:28:09.905007Z",
     "shell.execute_reply": "2021-06-29T11:28:09.905391Z",
     "shell.execute_reply.started": "2021-06-29T08:57:56.613769Z"
    },
    "papermill": {
     "duration": 0.050036,
     "end_time": "2021-06-29T11:28:09.905541",
     "exception": false,
     "start_time": "2021-06-29T11:28:09.855505",
     "status": "completed"
    },
    "tags": []
   },
   "outputs": [
    {
     "data": {
      "text/plain": [
       "0       208500\n",
       "1       181500\n",
       "2       223500\n",
       "3       140000\n",
       "4       250000\n",
       "         ...  \n",
       "1455    175000\n",
       "1456    210000\n",
       "1457    266500\n",
       "1458    142125\n",
       "1459    147500\n",
       "Name: SalePrice, Length: 1460, dtype: int64"
      ]
     },
     "execution_count": 6,
     "metadata": {},
     "output_type": "execute_result"
    }
   ],
   "source": [
    "train.SalePrice"
   ]
  },
  {
   "cell_type": "code",
   "execution_count": 7,
   "id": "stopped-bearing",
   "metadata": {
    "execution": {
     "iopub.execute_input": "2021-06-29T11:28:09.990076Z",
     "iopub.status.busy": "2021-06-29T11:28:09.989274Z",
     "iopub.status.idle": "2021-06-29T11:28:10.011829Z",
     "shell.execute_reply": "2021-06-29T11:28:10.012260Z",
     "shell.execute_reply.started": "2021-06-29T08:57:56.622639Z"
    },
    "papermill": {
     "duration": 0.066175,
     "end_time": "2021-06-29T11:28:10.012412",
     "exception": false,
     "start_time": "2021-06-29T11:28:09.946237",
     "status": "completed"
    },
    "tags": []
   },
   "outputs": [
    {
     "name": "stdout",
     "output_type": "stream",
     "text": [
      "<class 'pandas.core.frame.DataFrame'>\n",
      "RangeIndex: 1460 entries, 0 to 1459\n",
      "Data columns (total 81 columns):\n",
      " #   Column         Non-Null Count  Dtype  \n",
      "---  ------         --------------  -----  \n",
      " 0   Id             1460 non-null   int64  \n",
      " 1   MSSubClass     1460 non-null   int64  \n",
      " 2   MSZoning       1460 non-null   object \n",
      " 3   LotFrontage    1201 non-null   float64\n",
      " 4   LotArea        1460 non-null   int64  \n",
      " 5   Street         1460 non-null   object \n",
      " 6   Alley          91 non-null     object \n",
      " 7   LotShape       1460 non-null   object \n",
      " 8   LandContour    1460 non-null   object \n",
      " 9   Utilities      1460 non-null   object \n",
      " 10  LotConfig      1460 non-null   object \n",
      " 11  LandSlope      1460 non-null   object \n",
      " 12  Neighborhood   1460 non-null   object \n",
      " 13  Condition1     1460 non-null   object \n",
      " 14  Condition2     1460 non-null   object \n",
      " 15  BldgType       1460 non-null   object \n",
      " 16  HouseStyle     1460 non-null   object \n",
      " 17  OverallQual    1460 non-null   int64  \n",
      " 18  OverallCond    1460 non-null   int64  \n",
      " 19  YearBuilt      1460 non-null   int64  \n",
      " 20  YearRemodAdd   1460 non-null   int64  \n",
      " 21  RoofStyle      1460 non-null   object \n",
      " 22  RoofMatl       1460 non-null   object \n",
      " 23  Exterior1st    1460 non-null   object \n",
      " 24  Exterior2nd    1460 non-null   object \n",
      " 25  MasVnrType     1452 non-null   object \n",
      " 26  MasVnrArea     1452 non-null   float64\n",
      " 27  ExterQual      1460 non-null   object \n",
      " 28  ExterCond      1460 non-null   object \n",
      " 29  Foundation     1460 non-null   object \n",
      " 30  BsmtQual       1423 non-null   object \n",
      " 31  BsmtCond       1423 non-null   object \n",
      " 32  BsmtExposure   1422 non-null   object \n",
      " 33  BsmtFinType1   1423 non-null   object \n",
      " 34  BsmtFinSF1     1460 non-null   int64  \n",
      " 35  BsmtFinType2   1422 non-null   object \n",
      " 36  BsmtFinSF2     1460 non-null   int64  \n",
      " 37  BsmtUnfSF      1460 non-null   int64  \n",
      " 38  TotalBsmtSF    1460 non-null   int64  \n",
      " 39  Heating        1460 non-null   object \n",
      " 40  HeatingQC      1460 non-null   object \n",
      " 41  CentralAir     1460 non-null   object \n",
      " 42  Electrical     1459 non-null   object \n",
      " 43  1stFlrSF       1460 non-null   int64  \n",
      " 44  2ndFlrSF       1460 non-null   int64  \n",
      " 45  LowQualFinSF   1460 non-null   int64  \n",
      " 46  GrLivArea      1460 non-null   int64  \n",
      " 47  BsmtFullBath   1460 non-null   int64  \n",
      " 48  BsmtHalfBath   1460 non-null   int64  \n",
      " 49  FullBath       1460 non-null   int64  \n",
      " 50  HalfBath       1460 non-null   int64  \n",
      " 51  BedroomAbvGr   1460 non-null   int64  \n",
      " 52  KitchenAbvGr   1460 non-null   int64  \n",
      " 53  KitchenQual    1460 non-null   object \n",
      " 54  TotRmsAbvGrd   1460 non-null   int64  \n",
      " 55  Functional     1460 non-null   object \n",
      " 56  Fireplaces     1460 non-null   int64  \n",
      " 57  FireplaceQu    770 non-null    object \n",
      " 58  GarageType     1379 non-null   object \n",
      " 59  GarageYrBlt    1379 non-null   float64\n",
      " 60  GarageFinish   1379 non-null   object \n",
      " 61  GarageCars     1460 non-null   int64  \n",
      " 62  GarageArea     1460 non-null   int64  \n",
      " 63  GarageQual     1379 non-null   object \n",
      " 64  GarageCond     1379 non-null   object \n",
      " 65  PavedDrive     1460 non-null   object \n",
      " 66  WoodDeckSF     1460 non-null   int64  \n",
      " 67  OpenPorchSF    1460 non-null   int64  \n",
      " 68  EnclosedPorch  1460 non-null   int64  \n",
      " 69  3SsnPorch      1460 non-null   int64  \n",
      " 70  ScreenPorch    1460 non-null   int64  \n",
      " 71  PoolArea       1460 non-null   int64  \n",
      " 72  PoolQC         7 non-null      object \n",
      " 73  Fence          281 non-null    object \n",
      " 74  MiscFeature    54 non-null     object \n",
      " 75  MiscVal        1460 non-null   int64  \n",
      " 76  MoSold         1460 non-null   int64  \n",
      " 77  YrSold         1460 non-null   int64  \n",
      " 78  SaleType       1460 non-null   object \n",
      " 79  SaleCondition  1460 non-null   object \n",
      " 80  SalePrice      1460 non-null   int64  \n",
      "dtypes: float64(3), int64(35), object(43)\n",
      "memory usage: 924.0+ KB\n"
     ]
    }
   ],
   "source": [
    "train.info()\n"
   ]
  },
  {
   "cell_type": "code",
   "execution_count": 8,
   "id": "divided-measurement",
   "metadata": {
    "execution": {
     "iopub.execute_input": "2021-06-29T11:28:10.101633Z",
     "iopub.status.busy": "2021-06-29T11:28:10.100980Z",
     "iopub.status.idle": "2021-06-29T11:28:10.103506Z",
     "shell.execute_reply": "2021-06-29T11:28:10.103892Z",
     "shell.execute_reply.started": "2021-06-29T08:57:56.653395Z"
    },
    "papermill": {
     "duration": 0.050454,
     "end_time": "2021-06-29T11:28:10.104045",
     "exception": false,
     "start_time": "2021-06-29T11:28:10.053591",
     "status": "completed"
    },
    "tags": []
   },
   "outputs": [
    {
     "data": {
      "text/plain": [
       "Index(['Id', 'MSSubClass', 'LotFrontage', 'LotArea', 'OverallQual',\n",
       "       'OverallCond', 'YearBuilt', 'YearRemodAdd', 'MasVnrArea', 'BsmtFinSF1',\n",
       "       'BsmtFinSF2', 'BsmtUnfSF', 'TotalBsmtSF', '1stFlrSF', '2ndFlrSF',\n",
       "       'LowQualFinSF', 'GrLivArea', 'BsmtFullBath', 'BsmtHalfBath', 'FullBath',\n",
       "       'HalfBath', 'BedroomAbvGr', 'KitchenAbvGr', 'TotRmsAbvGrd',\n",
       "       'Fireplaces', 'GarageYrBlt', 'GarageCars', 'GarageArea', 'WoodDeckSF',\n",
       "       'OpenPorchSF', 'EnclosedPorch', '3SsnPorch', 'ScreenPorch', 'PoolArea',\n",
       "       'MiscVal', 'MoSold', 'YrSold', 'SalePrice'],\n",
       "      dtype='object')"
      ]
     },
     "execution_count": 8,
     "metadata": {},
     "output_type": "execute_result"
    }
   ],
   "source": [
    "train.select_dtypes(include = ['int', 'float']).columns"
   ]
  },
  {
   "cell_type": "code",
   "execution_count": 9,
   "id": "alleged-hands",
   "metadata": {
    "execution": {
     "iopub.execute_input": "2021-06-29T11:28:10.187936Z",
     "iopub.status.busy": "2021-06-29T11:28:10.187403Z",
     "iopub.status.idle": "2021-06-29T11:28:10.193511Z",
     "shell.execute_reply": "2021-06-29T11:28:10.193994Z",
     "shell.execute_reply.started": "2021-06-29T08:57:56.664976Z"
    },
    "papermill": {
     "duration": 0.049183,
     "end_time": "2021-06-29T11:28:10.194154",
     "exception": false,
     "start_time": "2021-06-29T11:28:10.144971",
     "status": "completed"
    },
    "tags": []
   },
   "outputs": [
    {
     "data": {
      "text/plain": [
       "Index(['MSZoning', 'Street', 'Alley', 'LotShape', 'LandContour', 'Utilities',\n",
       "       'LotConfig', 'LandSlope', 'Neighborhood', 'Condition1', 'Condition2',\n",
       "       'BldgType', 'HouseStyle', 'RoofStyle', 'RoofMatl', 'Exterior1st',\n",
       "       'Exterior2nd', 'MasVnrType', 'ExterQual', 'ExterCond', 'Foundation',\n",
       "       'BsmtQual', 'BsmtCond', 'BsmtExposure', 'BsmtFinType1', 'BsmtFinType2',\n",
       "       'Heating', 'HeatingQC', 'CentralAir', 'Electrical', 'KitchenQual',\n",
       "       'Functional', 'FireplaceQu', 'GarageType', 'GarageFinish', 'GarageQual',\n",
       "       'GarageCond', 'PavedDrive', 'PoolQC', 'Fence', 'MiscFeature',\n",
       "       'SaleType', 'SaleCondition'],\n",
       "      dtype='object')"
      ]
     },
     "execution_count": 9,
     "metadata": {},
     "output_type": "execute_result"
    }
   ],
   "source": [
    "train.select_dtypes(include = ['object']).columns"
   ]
  },
  {
   "cell_type": "markdown",
   "id": "removable-roller",
   "metadata": {
    "papermill": {
     "duration": 0.040542,
     "end_time": "2021-06-29T11:28:10.275457",
     "exception": false,
     "start_time": "2021-06-29T11:28:10.234915",
     "status": "completed"
    },
    "tags": []
   },
   "source": [
    "##### *Visualising some of the features, their influence on target variable*"
   ]
  },
  {
   "cell_type": "code",
   "execution_count": 10,
   "id": "processed-american",
   "metadata": {
    "execution": {
     "iopub.execute_input": "2021-06-29T11:28:10.360791Z",
     "iopub.status.busy": "2021-06-29T11:28:10.360267Z",
     "iopub.status.idle": "2021-06-29T11:28:10.568836Z",
     "shell.execute_reply": "2021-06-29T11:28:10.568395Z",
     "shell.execute_reply.started": "2021-06-29T08:57:56.675817Z"
    },
    "papermill": {
     "duration": 0.252723,
     "end_time": "2021-06-29T11:28:10.568955",
     "exception": false,
     "start_time": "2021-06-29T11:28:10.316232",
     "status": "completed"
    },
    "tags": []
   },
   "outputs": [
    {
     "data": {
      "image/png": "[encoded data removed]",
      "text/plain": [
       "<Figure size 432x288 with 1 Axes>"
      ]
     },
     "metadata": {
      "needs_background": "light"
     },
     "output_type": "display_data"
    }
   ],
   "source": [
    "ax = sns.histplot( x='OverallQual', y=\"SalePrice\", data=train)\n"
   ]
  },
  {
   "cell_type": "code",
   "execution_count": 11,
   "id": "distant-giant",
   "metadata": {
    "execution": {
     "iopub.execute_input": "2021-06-29T11:28:10.658905Z",
     "iopub.status.busy": "2021-06-29T11:28:10.658371Z",
     "iopub.status.idle": "2021-06-29T11:28:10.800973Z",
     "shell.execute_reply": "2021-06-29T11:28:10.801449Z",
     "shell.execute_reply.started": "2021-06-29T08:57:56.844011Z"
    },
    "papermill": {
     "duration": 0.189857,
     "end_time": "2021-06-29T11:28:10.801613",
     "exception": false,
     "start_time": "2021-06-29T11:28:10.611756",
     "status": "completed"
    },
    "tags": []
   },
   "outputs": [
    {
     "data": {
      "text/plain": [
       "<AxesSubplot:xlabel='MoSold', ylabel='count'>"
      ]
     },
     "execution_count": 11,
     "metadata": {},
     "output_type": "execute_result"
    },
    {
     "data": {
      "image/png": "[encoded data removed]",
      "text/plain": [
       "<Figure size 432x288 with 1 Axes>"
      ]
     },
     "metadata": {
      "needs_background": "light"
     },
     "output_type": "display_data"
    }
   ],
   "source": [
    "sns.countplot( x='MoSold', data=train)"
   ]
  },
  {
   "cell_type": "code",
   "execution_count": 12,
   "id": "warming-internship",
   "metadata": {
    "execution": {
     "iopub.execute_input": "2021-06-29T11:28:10.896857Z",
     "iopub.status.busy": "2021-06-29T11:28:10.896201Z",
     "iopub.status.idle": "2021-06-29T11:28:11.102830Z",
     "shell.execute_reply": "2021-06-29T11:28:11.102408Z",
     "shell.execute_reply.started": "2021-06-29T08:57:57.000028Z"
    },
    "papermill": {
     "duration": 0.256905,
     "end_time": "2021-06-29T11:28:11.102958",
     "exception": false,
     "start_time": "2021-06-29T11:28:10.846053",
     "status": "completed"
    },
    "tags": []
   },
   "outputs": [
    {
     "data": {
      "text/plain": [
       "<AxesSubplot:xlabel='MSZoning', ylabel='count'>"
      ]
     },
     "execution_count": 12,
     "metadata": {},
     "output_type": "execute_result"
    },
    {
     "data": {
      "image/png": "[encoded data removed]",
      "text/plain": [
       "<Figure size 432x288 with 1 Axes>"
      ]
     },
     "metadata": {
      "needs_background": "light"
     },
     "output_type": "display_data"
    }
   ],
   "source": [
    "sns.countplot( x='MSZoning', data=train)"
   ]
  },
  {
   "cell_type": "code",
   "execution_count": 13,
   "id": "pregnant-lunch",
   "metadata": {
    "execution": {
     "iopub.execute_input": "2021-06-29T11:28:11.197917Z",
     "iopub.status.busy": "2021-06-29T11:28:11.197349Z",
     "iopub.status.idle": "2021-06-29T11:28:11.454861Z",
     "shell.execute_reply": "2021-06-29T11:28:11.455393Z",
     "shell.execute_reply.started": "2021-06-29T08:57:57.228221Z"
    },
    "papermill": {
     "duration": 0.306545,
     "end_time": "2021-06-29T11:28:11.455586",
     "exception": false,
     "start_time": "2021-06-29T11:28:11.149041",
     "status": "completed"
    },
    "tags": []
   },
   "outputs": [
    {
     "data": {
      "text/plain": [
       "<seaborn.axisgrid.FacetGrid at 0x7f3687d09f10>"
      ]
     },
     "execution_count": 13,
     "metadata": {},
     "output_type": "execute_result"
    },
    {
     "data": {
      "image/png": "[encoded data removed]",
      "text/plain": [
       "<Figure size 360x360 with 1 Axes>"
      ]
     },
     "metadata": {
      "needs_background": "light"
     },
     "output_type": "display_data"
    }
   ],
   "source": [
    "sns.catplot(x=\"HouseStyle\", y=\"SalePrice\",jitter=False, data=train)"
   ]
  },
  {
   "cell_type": "markdown",
   "id": "blessed-behalf",
   "metadata": {
    "papermill": {
     "duration": 0.043664,
     "end_time": "2021-06-29T11:28:11.543585",
     "exception": false,
     "start_time": "2021-06-29T11:28:11.499921",
     "status": "completed"
    },
    "tags": []
   },
   "source": [
    "##### *Correlation mapping*"
   ]
  },
  {
   "cell_type": "code",
   "execution_count": 14,
   "id": "focused-recovery",
   "metadata": {
    "execution": {
     "iopub.execute_input": "2021-06-29T11:28:11.636924Z",
     "iopub.status.busy": "2021-06-29T11:28:11.636414Z",
     "iopub.status.idle": "2021-06-29T11:28:12.526392Z",
     "shell.execute_reply": "2021-06-29T11:28:12.526808Z",
     "shell.execute_reply.started": "2021-06-29T08:57:57.527253Z"
    },
    "papermill": {
     "duration": 0.939232,
     "end_time": "2021-06-29T11:28:12.526960",
     "exception": false,
     "start_time": "2021-06-29T11:28:11.587728",
     "status": "completed"
    },
    "tags": []
   },
   "outputs": [
    {
     "data": {
      "image/png": "[encoded data removed]",
      "text/plain": [
       "<Figure size 864x720 with 2 Axes>"
      ]
     },
     "metadata": {
      "needs_background": "light"
     },
     "output_type": "display_data"
    }
   ],
   "source": [
    "corr = train.corr()\n",
    "f, ax = plt.subplots(figsize=(12, 10))\n",
    "cmap = sns.diverging_palette(h_neg=10, h_pos=240, as_cmap = True)\n",
    "ax = sns.heatmap(corr, center=0, cmap=cmap, linewidths=1, fmt=\".2f\")\n"
   ]
  },
  {
   "cell_type": "code",
   "execution_count": 15,
   "id": "guided-navigator",
   "metadata": {
    "execution": {
     "iopub.execute_input": "2021-06-29T11:28:12.624909Z",
     "iopub.status.busy": "2021-06-29T11:28:12.624099Z",
     "iopub.status.idle": "2021-06-29T11:28:13.490090Z",
     "shell.execute_reply": "2021-06-29T11:28:13.489646Z",
     "shell.execute_reply.started": "2021-06-29T08:57:58.449340Z"
    },
    "papermill": {
     "duration": 0.916997,
     "end_time": "2021-06-29T11:28:13.490228",
     "exception": false,
     "start_time": "2021-06-29T11:28:12.573231",
     "status": "completed"
    },
    "tags": []
   },
   "outputs": [
    {
     "data": {
      "image/png": "[encoded data removed]",
      "text/plain": [
       "<Figure size 864x720 with 2 Axes>"
      ]
     },
     "metadata": {
      "needs_background": "light"
     },
     "output_type": "display_data"
    }
   ],
   "source": [
    "mask = np.triu(np.ones_like(corr, dtype=bool))\n",
    "f, ax = plt.subplots(figsize=(12, 10))\n",
    "ax = sns.heatmap(corr, mask=mask, center=0, cmap=cmap, linewidths=1, fmt=\".2f\")"
   ]
  },
  {
   "cell_type": "markdown",
   "id": "incorporate-dominant",
   "metadata": {
    "papermill": {
     "duration": 0.048004,
     "end_time": "2021-06-29T11:28:13.586702",
     "exception": false,
     "start_time": "2021-06-29T11:28:13.538698",
     "status": "completed"
    },
    "tags": []
   },
   "source": [
    "##### *Correlation value of all features with respect to target variable*"
   ]
  },
  {
   "cell_type": "code",
   "execution_count": 16,
   "id": "prospective-present",
   "metadata": {
    "execution": {
     "iopub.execute_input": "2021-06-29T11:28:13.687289Z",
     "iopub.status.busy": "2021-06-29T11:28:13.686725Z",
     "iopub.status.idle": "2021-06-29T11:28:13.708777Z",
     "shell.execute_reply": "2021-06-29T11:28:13.708348Z",
     "shell.execute_reply.started": "2021-06-29T08:57:59.336359Z"
    },
    "papermill": {
     "duration": 0.074078,
     "end_time": "2021-06-29T11:28:13.708892",
     "exception": false,
     "start_time": "2021-06-29T11:28:13.634814",
     "status": "completed"
    },
    "tags": []
   },
   "outputs": [
    {
     "data": {
      "text/html": [
       "<div>\n",
       "<style scoped>\n",
       "    .dataframe tbody tr th:only-of-type {\n",
       "        vertical-align: middle;\n",
       "    }\n",
       "\n",
       "    .dataframe tbody tr th {\n",
       "        vertical-align: top;\n",
       "    }\n",
       "\n",
       "    .dataframe thead th {\n",
       "        text-align: right;\n",
       "    }\n",
       "</style>\n",
       "<table border=\"1\" class=\"dataframe\">\n",
       "  <thead>\n",
       "    <tr style=\"text-align: right;\">\n",
       "      <th></th>\n",
       "      <th>0</th>\n",
       "    </tr>\n",
       "  </thead>\n",
       "  <tbody>\n",
       "    <tr>\n",
       "      <th>SalePrice</th>\n",
       "      <td>1.000000</td>\n",
       "    </tr>\n",
       "    <tr>\n",
       "      <th>OverallQual</th>\n",
       "      <td>0.790982</td>\n",
       "    </tr>\n",
       "    <tr>\n",
       "      <th>GrLivArea</th>\n",
       "      <td>0.708624</td>\n",
       "    </tr>\n",
       "    <tr>\n",
       "      <th>GarageCars</th>\n",
       "      <td>0.640409</td>\n",
       "    </tr>\n",
       "    <tr>\n",
       "      <th>GarageArea</th>\n",
       "      <td>0.623431</td>\n",
       "    </tr>\n",
       "    <tr>\n",
       "      <th>TotalBsmtSF</th>\n",
       "      <td>0.613581</td>\n",
       "    </tr>\n",
       "    <tr>\n",
       "      <th>1stFlrSF</th>\n",
       "      <td>0.605852</td>\n",
       "    </tr>\n",
       "    <tr>\n",
       "      <th>FullBath</th>\n",
       "      <td>0.560664</td>\n",
       "    </tr>\n",
       "    <tr>\n",
       "      <th>TotRmsAbvGrd</th>\n",
       "      <td>0.533723</td>\n",
       "    </tr>\n",
       "    <tr>\n",
       "      <th>YearBuilt</th>\n",
       "      <td>0.522897</td>\n",
       "    </tr>\n",
       "    <tr>\n",
       "      <th>YearRemodAdd</th>\n",
       "      <td>0.507101</td>\n",
       "    </tr>\n",
       "    <tr>\n",
       "      <th>GarageYrBlt</th>\n",
       "      <td>0.486362</td>\n",
       "    </tr>\n",
       "    <tr>\n",
       "      <th>MasVnrArea</th>\n",
       "      <td>0.477493</td>\n",
       "    </tr>\n",
       "    <tr>\n",
       "      <th>Fireplaces</th>\n",
       "      <td>0.466929</td>\n",
       "    </tr>\n",
       "    <tr>\n",
       "      <th>BsmtFinSF1</th>\n",
       "      <td>0.386420</td>\n",
       "    </tr>\n",
       "    <tr>\n",
       "      <th>LotFrontage</th>\n",
       "      <td>0.351799</td>\n",
       "    </tr>\n",
       "    <tr>\n",
       "      <th>WoodDeckSF</th>\n",
       "      <td>0.324413</td>\n",
       "    </tr>\n",
       "    <tr>\n",
       "      <th>2ndFlrSF</th>\n",
       "      <td>0.319334</td>\n",
       "    </tr>\n",
       "    <tr>\n",
       "      <th>OpenPorchSF</th>\n",
       "      <td>0.315856</td>\n",
       "    </tr>\n",
       "    <tr>\n",
       "      <th>HalfBath</th>\n",
       "      <td>0.284108</td>\n",
       "    </tr>\n",
       "    <tr>\n",
       "      <th>LotArea</th>\n",
       "      <td>0.263843</td>\n",
       "    </tr>\n",
       "    <tr>\n",
       "      <th>BsmtFullBath</th>\n",
       "      <td>0.227122</td>\n",
       "    </tr>\n",
       "    <tr>\n",
       "      <th>BsmtUnfSF</th>\n",
       "      <td>0.214479</td>\n",
       "    </tr>\n",
       "    <tr>\n",
       "      <th>BedroomAbvGr</th>\n",
       "      <td>0.168213</td>\n",
       "    </tr>\n",
       "    <tr>\n",
       "      <th>ScreenPorch</th>\n",
       "      <td>0.111447</td>\n",
       "    </tr>\n",
       "    <tr>\n",
       "      <th>PoolArea</th>\n",
       "      <td>0.092404</td>\n",
       "    </tr>\n",
       "    <tr>\n",
       "      <th>MoSold</th>\n",
       "      <td>0.046432</td>\n",
       "    </tr>\n",
       "    <tr>\n",
       "      <th>3SsnPorch</th>\n",
       "      <td>0.044584</td>\n",
       "    </tr>\n",
       "    <tr>\n",
       "      <th>BsmtFinSF2</th>\n",
       "      <td>-0.011378</td>\n",
       "    </tr>\n",
       "    <tr>\n",
       "      <th>BsmtHalfBath</th>\n",
       "      <td>-0.016844</td>\n",
       "    </tr>\n",
       "    <tr>\n",
       "      <th>MiscVal</th>\n",
       "      <td>-0.021190</td>\n",
       "    </tr>\n",
       "    <tr>\n",
       "      <th>Id</th>\n",
       "      <td>-0.021917</td>\n",
       "    </tr>\n",
       "    <tr>\n",
       "      <th>LowQualFinSF</th>\n",
       "      <td>-0.025606</td>\n",
       "    </tr>\n",
       "    <tr>\n",
       "      <th>YrSold</th>\n",
       "      <td>-0.028923</td>\n",
       "    </tr>\n",
       "    <tr>\n",
       "      <th>OverallCond</th>\n",
       "      <td>-0.077856</td>\n",
       "    </tr>\n",
       "    <tr>\n",
       "      <th>MSSubClass</th>\n",
       "      <td>-0.084284</td>\n",
       "    </tr>\n",
       "    <tr>\n",
       "      <th>EnclosedPorch</th>\n",
       "      <td>-0.128578</td>\n",
       "    </tr>\n",
       "    <tr>\n",
       "      <th>KitchenAbvGr</th>\n",
       "      <td>-0.135907</td>\n",
       "    </tr>\n",
       "  </tbody>\n",
       "</table>\n",
       "</div>"
      ],
      "text/plain": [
       "                      0\n",
       "SalePrice      1.000000\n",
       "OverallQual    0.790982\n",
       "GrLivArea      0.708624\n",
       "GarageCars     0.640409\n",
       "GarageArea     0.623431\n",
       "TotalBsmtSF    0.613581\n",
       "1stFlrSF       0.605852\n",
       "FullBath       0.560664\n",
       "TotRmsAbvGrd   0.533723\n",
       "YearBuilt      0.522897\n",
       "YearRemodAdd   0.507101\n",
       "GarageYrBlt    0.486362\n",
       "MasVnrArea     0.477493\n",
       "Fireplaces     0.466929\n",
       "BsmtFinSF1     0.386420\n",
       "LotFrontage    0.351799\n",
       "WoodDeckSF     0.324413\n",
       "2ndFlrSF       0.319334\n",
       "OpenPorchSF    0.315856\n",
       "HalfBath       0.284108\n",
       "LotArea        0.263843\n",
       "BsmtFullBath   0.227122\n",
       "BsmtUnfSF      0.214479\n",
       "BedroomAbvGr   0.168213\n",
       "ScreenPorch    0.111447\n",
       "PoolArea       0.092404\n",
       "MoSold         0.046432\n",
       "3SsnPorch      0.044584\n",
       "BsmtFinSF2    -0.011378\n",
       "BsmtHalfBath  -0.016844\n",
       "MiscVal       -0.021190\n",
       "Id            -0.021917\n",
       "LowQualFinSF  -0.025606\n",
       "YrSold        -0.028923\n",
       "OverallCond   -0.077856\n",
       "MSSubClass    -0.084284\n",
       "EnclosedPorch -0.128578\n",
       "KitchenAbvGr  -0.135907"
      ]
     },
     "execution_count": 16,
     "metadata": {},
     "output_type": "execute_result"
    }
   ],
   "source": [
    "corr_with_saleprice = train.corrwith(train[\"SalePrice\"]).sort_values(ascending=False).to_frame()\n",
    "corr_with_saleprice"
   ]
  },
  {
   "cell_type": "markdown",
   "id": "genuine-warehouse",
   "metadata": {
    "papermill": {
     "duration": 0.048634,
     "end_time": "2021-06-29T11:28:13.806797",
     "exception": false,
     "start_time": "2021-06-29T11:28:13.758163",
     "status": "completed"
    },
    "tags": []
   },
   "source": [
    "##### *Dropping features with less correlation value*"
   ]
  },
  {
   "cell_type": "code",
   "execution_count": 17,
   "id": "absolute-white",
   "metadata": {
    "execution": {
     "iopub.execute_input": "2021-06-29T11:28:13.910753Z",
     "iopub.status.busy": "2021-06-29T11:28:13.910215Z",
     "iopub.status.idle": "2021-06-29T11:28:13.914102Z",
     "shell.execute_reply": "2021-06-29T11:28:13.913670Z",
     "shell.execute_reply.started": "2021-06-29T08:57:59.366723Z"
    },
    "papermill": {
     "duration": 0.058504,
     "end_time": "2021-06-29T11:28:13.914234",
     "exception": false,
     "start_time": "2021-06-29T11:28:13.855730",
     "status": "completed"
    },
    "tags": []
   },
   "outputs": [
    {
     "data": {
      "text/plain": [
       "Index(['PoolArea', 'MoSold', '3SsnPorch', 'BsmtFinSF2', 'BsmtHalfBath',\n",
       "       'MiscVal', 'Id', 'LowQualFinSF', 'YrSold', 'OverallCond', 'MSSubClass',\n",
       "       'EnclosedPorch', 'KitchenAbvGr'],\n",
       "      dtype='object')"
      ]
     },
     "execution_count": 17,
     "metadata": {},
     "output_type": "execute_result"
    }
   ],
   "source": [
    "numcols_to_drop = corr_with_saleprice[corr_with_saleprice[0] < 0.1].index\n",
    "numcols_to_drop"
   ]
  },
  {
   "cell_type": "code",
   "execution_count": 18,
   "id": "resident-anxiety",
   "metadata": {
    "execution": {
     "iopub.execute_input": "2021-06-29T11:28:14.037213Z",
     "iopub.status.busy": "2021-06-29T11:28:14.019145Z",
     "iopub.status.idle": "2021-06-29T11:28:14.051627Z",
     "shell.execute_reply": "2021-06-29T11:28:14.051988Z",
     "shell.execute_reply.started": "2021-06-29T08:57:59.376388Z"
    },
    "papermill": {
     "duration": 0.088622,
     "end_time": "2021-06-29T11:28:14.052169",
     "exception": false,
     "start_time": "2021-06-29T11:28:13.963547",
     "status": "completed"
    },
    "tags": []
   },
   "outputs": [
    {
     "data": {
      "text/html": [
       "<div>\n",
       "<style scoped>\n",
       "    .dataframe tbody tr th:only-of-type {\n",
       "        vertical-align: middle;\n",
       "    }\n",
       "\n",
       "    .dataframe tbody tr th {\n",
       "        vertical-align: top;\n",
       "    }\n",
       "\n",
       "    .dataframe thead th {\n",
       "        text-align: right;\n",
       "    }\n",
       "</style>\n",
       "<table border=\"1\" class=\"dataframe\">\n",
       "  <thead>\n",
       "    <tr style=\"text-align: right;\">\n",
       "      <th></th>\n",
       "      <th>MSZoning</th>\n",
       "      <th>LotFrontage</th>\n",
       "      <th>LotArea</th>\n",
       "      <th>Street</th>\n",
       "      <th>Alley</th>\n",
       "      <th>LotShape</th>\n",
       "      <th>LandContour</th>\n",
       "      <th>Utilities</th>\n",
       "      <th>LotConfig</th>\n",
       "      <th>LandSlope</th>\n",
       "      <th>...</th>\n",
       "      <th>PavedDrive</th>\n",
       "      <th>WoodDeckSF</th>\n",
       "      <th>OpenPorchSF</th>\n",
       "      <th>ScreenPorch</th>\n",
       "      <th>PoolQC</th>\n",
       "      <th>Fence</th>\n",
       "      <th>MiscFeature</th>\n",
       "      <th>SaleType</th>\n",
       "      <th>SaleCondition</th>\n",
       "      <th>SalePrice</th>\n",
       "    </tr>\n",
       "  </thead>\n",
       "  <tbody>\n",
       "    <tr>\n",
       "      <th>0</th>\n",
       "      <td>RL</td>\n",
       "      <td>65.0</td>\n",
       "      <td>8450</td>\n",
       "      <td>Pave</td>\n",
       "      <td>NaN</td>\n",
       "      <td>Reg</td>\n",
       "      <td>Lvl</td>\n",
       "      <td>AllPub</td>\n",
       "      <td>Inside</td>\n",
       "      <td>Gtl</td>\n",
       "      <td>...</td>\n",
       "      <td>Y</td>\n",
       "      <td>0</td>\n",
       "      <td>61</td>\n",
       "      <td>0</td>\n",
       "      <td>NaN</td>\n",
       "      <td>NaN</td>\n",
       "      <td>NaN</td>\n",
       "      <td>WD</td>\n",
       "      <td>Normal</td>\n",
       "      <td>208500</td>\n",
       "    </tr>\n",
       "    <tr>\n",
       "      <th>1</th>\n",
       "      <td>RL</td>\n",
       "      <td>80.0</td>\n",
       "      <td>9600</td>\n",
       "      <td>Pave</td>\n",
       "      <td>NaN</td>\n",
       "      <td>Reg</td>\n",
       "      <td>Lvl</td>\n",
       "      <td>AllPub</td>\n",
       "      <td>FR2</td>\n",
       "      <td>Gtl</td>\n",
       "      <td>...</td>\n",
       "      <td>Y</td>\n",
       "      <td>298</td>\n",
       "      <td>0</td>\n",
       "      <td>0</td>\n",
       "      <td>NaN</td>\n",
       "      <td>NaN</td>\n",
       "      <td>NaN</td>\n",
       "      <td>WD</td>\n",
       "      <td>Normal</td>\n",
       "      <td>181500</td>\n",
       "    </tr>\n",
       "    <tr>\n",
       "      <th>2</th>\n",
       "      <td>RL</td>\n",
       "      <td>68.0</td>\n",
       "      <td>11250</td>\n",
       "      <td>Pave</td>\n",
       "      <td>NaN</td>\n",
       "      <td>IR1</td>\n",
       "      <td>Lvl</td>\n",
       "      <td>AllPub</td>\n",
       "      <td>Inside</td>\n",
       "      <td>Gtl</td>\n",
       "      <td>...</td>\n",
       "      <td>Y</td>\n",
       "      <td>0</td>\n",
       "      <td>42</td>\n",
       "      <td>0</td>\n",
       "      <td>NaN</td>\n",
       "      <td>NaN</td>\n",
       "      <td>NaN</td>\n",
       "      <td>WD</td>\n",
       "      <td>Normal</td>\n",
       "      <td>223500</td>\n",
       "    </tr>\n",
       "    <tr>\n",
       "      <th>3</th>\n",
       "      <td>RL</td>\n",
       "      <td>60.0</td>\n",
       "      <td>9550</td>\n",
       "      <td>Pave</td>\n",
       "      <td>NaN</td>\n",
       "      <td>IR1</td>\n",
       "      <td>Lvl</td>\n",
       "      <td>AllPub</td>\n",
       "      <td>Corner</td>\n",
       "      <td>Gtl</td>\n",
       "      <td>...</td>\n",
       "      <td>Y</td>\n",
       "      <td>0</td>\n",
       "      <td>35</td>\n",
       "      <td>0</td>\n",
       "      <td>NaN</td>\n",
       "      <td>NaN</td>\n",
       "      <td>NaN</td>\n",
       "      <td>WD</td>\n",
       "      <td>Abnorml</td>\n",
       "      <td>140000</td>\n",
       "    </tr>\n",
       "    <tr>\n",
       "      <th>4</th>\n",
       "      <td>RL</td>\n",
       "      <td>84.0</td>\n",
       "      <td>14260</td>\n",
       "      <td>Pave</td>\n",
       "      <td>NaN</td>\n",
       "      <td>IR1</td>\n",
       "      <td>Lvl</td>\n",
       "      <td>AllPub</td>\n",
       "      <td>FR2</td>\n",
       "      <td>Gtl</td>\n",
       "      <td>...</td>\n",
       "      <td>Y</td>\n",
       "      <td>192</td>\n",
       "      <td>84</td>\n",
       "      <td>0</td>\n",
       "      <td>NaN</td>\n",
       "      <td>NaN</td>\n",
       "      <td>NaN</td>\n",
       "      <td>WD</td>\n",
       "      <td>Normal</td>\n",
       "      <td>250000</td>\n",
       "    </tr>\n",
       "    <tr>\n",
       "      <th>...</th>\n",
       "      <td>...</td>\n",
       "      <td>...</td>\n",
       "      <td>...</td>\n",
       "      <td>...</td>\n",
       "      <td>...</td>\n",
       "      <td>...</td>\n",
       "      <td>...</td>\n",
       "      <td>...</td>\n",
       "      <td>...</td>\n",
       "      <td>...</td>\n",
       "      <td>...</td>\n",
       "      <td>...</td>\n",
       "      <td>...</td>\n",
       "      <td>...</td>\n",
       "      <td>...</td>\n",
       "      <td>...</td>\n",
       "      <td>...</td>\n",
       "      <td>...</td>\n",
       "      <td>...</td>\n",
       "      <td>...</td>\n",
       "      <td>...</td>\n",
       "    </tr>\n",
       "    <tr>\n",
       "      <th>1455</th>\n",
       "      <td>RL</td>\n",
       "      <td>62.0</td>\n",
       "      <td>7917</td>\n",
       "      <td>Pave</td>\n",
       "      <td>NaN</td>\n",
       "      <td>Reg</td>\n",
       "      <td>Lvl</td>\n",
       "      <td>AllPub</td>\n",
       "      <td>Inside</td>\n",
       "      <td>Gtl</td>\n",
       "      <td>...</td>\n",
       "      <td>Y</td>\n",
       "      <td>0</td>\n",
       "      <td>40</td>\n",
       "      <td>0</td>\n",
       "      <td>NaN</td>\n",
       "      <td>NaN</td>\n",
       "      <td>NaN</td>\n",
       "      <td>WD</td>\n",
       "      <td>Normal</td>\n",
       "      <td>175000</td>\n",
       "    </tr>\n",
       "    <tr>\n",
       "      <th>1456</th>\n",
       "      <td>RL</td>\n",
       "      <td>85.0</td>\n",
       "      <td>13175</td>\n",
       "      <td>Pave</td>\n",
       "      <td>NaN</td>\n",
       "      <td>Reg</td>\n",
       "      <td>Lvl</td>\n",
       "      <td>AllPub</td>\n",
       "      <td>Inside</td>\n",
       "      <td>Gtl</td>\n",
       "      <td>...</td>\n",
       "      <td>Y</td>\n",
       "      <td>349</td>\n",
       "      <td>0</td>\n",
       "      <td>0</td>\n",
       "      <td>NaN</td>\n",
       "      <td>MnPrv</td>\n",
       "      <td>NaN</td>\n",
       "      <td>WD</td>\n",
       "      <td>Normal</td>\n",
       "      <td>210000</td>\n",
       "    </tr>\n",
       "    <tr>\n",
       "      <th>1457</th>\n",
       "      <td>RL</td>\n",
       "      <td>66.0</td>\n",
       "      <td>9042</td>\n",
       "      <td>Pave</td>\n",
       "      <td>NaN</td>\n",
       "      <td>Reg</td>\n",
       "      <td>Lvl</td>\n",
       "      <td>AllPub</td>\n",
       "      <td>Inside</td>\n",
       "      <td>Gtl</td>\n",
       "      <td>...</td>\n",
       "      <td>Y</td>\n",
       "      <td>0</td>\n",
       "      <td>60</td>\n",
       "      <td>0</td>\n",
       "      <td>NaN</td>\n",
       "      <td>GdPrv</td>\n",
       "      <td>Shed</td>\n",
       "      <td>WD</td>\n",
       "      <td>Normal</td>\n",
       "      <td>266500</td>\n",
       "    </tr>\n",
       "    <tr>\n",
       "      <th>1458</th>\n",
       "      <td>RL</td>\n",
       "      <td>68.0</td>\n",
       "      <td>9717</td>\n",
       "      <td>Pave</td>\n",
       "      <td>NaN</td>\n",
       "      <td>Reg</td>\n",
       "      <td>Lvl</td>\n",
       "      <td>AllPub</td>\n",
       "      <td>Inside</td>\n",
       "      <td>Gtl</td>\n",
       "      <td>...</td>\n",
       "      <td>Y</td>\n",
       "      <td>366</td>\n",
       "      <td>0</td>\n",
       "      <td>0</td>\n",
       "      <td>NaN</td>\n",
       "      <td>NaN</td>\n",
       "      <td>NaN</td>\n",
       "      <td>WD</td>\n",
       "      <td>Normal</td>\n",
       "      <td>142125</td>\n",
       "    </tr>\n",
       "    <tr>\n",
       "      <th>1459</th>\n",
       "      <td>RL</td>\n",
       "      <td>75.0</td>\n",
       "      <td>9937</td>\n",
       "      <td>Pave</td>\n",
       "      <td>NaN</td>\n",
       "      <td>Reg</td>\n",
       "      <td>Lvl</td>\n",
       "      <td>AllPub</td>\n",
       "      <td>Inside</td>\n",
       "      <td>Gtl</td>\n",
       "      <td>...</td>\n",
       "      <td>Y</td>\n",
       "      <td>736</td>\n",
       "      <td>68</td>\n",
       "      <td>0</td>\n",
       "      <td>NaN</td>\n",
       "      <td>NaN</td>\n",
       "      <td>NaN</td>\n",
       "      <td>WD</td>\n",
       "      <td>Normal</td>\n",
       "      <td>147500</td>\n",
       "    </tr>\n",
       "  </tbody>\n",
       "</table>\n",
       "<p>1460 rows × 68 columns</p>\n",
       "</div>"
      ],
      "text/plain": [
       "     MSZoning  LotFrontage  LotArea Street Alley LotShape LandContour  \\\n",
       "0          RL         65.0     8450   Pave   NaN      Reg         Lvl   \n",
       "1          RL         80.0     9600   Pave   NaN      Reg         Lvl   \n",
       "2          RL         68.0    11250   Pave   NaN      IR1         Lvl   \n",
       "3          RL         60.0     9550   Pave   NaN      IR1         Lvl   \n",
       "4          RL         84.0    14260   Pave   NaN      IR1         Lvl   \n",
       "...       ...          ...      ...    ...   ...      ...         ...   \n",
       "1455       RL         62.0     7917   Pave   NaN      Reg         Lvl   \n",
       "1456       RL         85.0    13175   Pave   NaN      Reg         Lvl   \n",
       "1457       RL         66.0     9042   Pave   NaN      Reg         Lvl   \n",
       "1458       RL         68.0     9717   Pave   NaN      Reg         Lvl   \n",
       "1459       RL         75.0     9937   Pave   NaN      Reg         Lvl   \n",
       "\n",
       "     Utilities LotConfig LandSlope  ... PavedDrive WoodDeckSF OpenPorchSF  \\\n",
       "0       AllPub    Inside       Gtl  ...          Y          0          61   \n",
       "1       AllPub       FR2       Gtl  ...          Y        298           0   \n",
       "2       AllPub    Inside       Gtl  ...          Y          0          42   \n",
       "3       AllPub    Corner       Gtl  ...          Y          0          35   \n",
       "4       AllPub       FR2       Gtl  ...          Y        192          84   \n",
       "...        ...       ...       ...  ...        ...        ...         ...   \n",
       "1455    AllPub    Inside       Gtl  ...          Y          0          40   \n",
       "1456    AllPub    Inside       Gtl  ...          Y        349           0   \n",
       "1457    AllPub    Inside       Gtl  ...          Y          0          60   \n",
       "1458    AllPub    Inside       Gtl  ...          Y        366           0   \n",
       "1459    AllPub    Inside       Gtl  ...          Y        736          68   \n",
       "\n",
       "     ScreenPorch PoolQC  Fence  MiscFeature  SaleType SaleCondition SalePrice  \n",
       "0              0    NaN    NaN          NaN        WD        Normal    208500  \n",
       "1              0    NaN    NaN          NaN        WD        Normal    181500  \n",
       "2              0    NaN    NaN          NaN        WD        Normal    223500  \n",
       "3              0    NaN    NaN          NaN        WD       Abnorml    140000  \n",
       "4              0    NaN    NaN          NaN        WD        Normal    250000  \n",
       "...          ...    ...    ...          ...       ...           ...       ...  \n",
       "1455           0    NaN    NaN          NaN        WD        Normal    175000  \n",
       "1456           0    NaN  MnPrv          NaN        WD        Normal    210000  \n",
       "1457           0    NaN  GdPrv         Shed        WD        Normal    266500  \n",
       "1458           0    NaN    NaN          NaN        WD        Normal    142125  \n",
       "1459           0    NaN    NaN          NaN        WD        Normal    147500  \n",
       "\n",
       "[1460 rows x 68 columns]"
      ]
     },
     "execution_count": 18,
     "metadata": {},
     "output_type": "execute_result"
    }
   ],
   "source": [
    "train = train.drop(numcols_to_drop, axis=1)\n",
    "train"
   ]
  },
  {
   "cell_type": "code",
   "execution_count": 19,
   "id": "opposed-typing",
   "metadata": {
    "execution": {
     "iopub.execute_input": "2021-06-29T11:28:14.162607Z",
     "iopub.status.busy": "2021-06-29T11:28:14.159827Z",
     "iopub.status.idle": "2021-06-29T11:28:14.166743Z",
     "shell.execute_reply": "2021-06-29T11:28:14.166310Z",
     "shell.execute_reply.started": "2021-06-29T08:57:59.425372Z"
    },
    "papermill": {
     "duration": 0.063706,
     "end_time": "2021-06-29T11:28:14.166863",
     "exception": false,
     "start_time": "2021-06-29T11:28:14.103157",
     "status": "completed"
    },
    "tags": []
   },
   "outputs": [
    {
     "data": {
      "text/plain": [
       "MSZoning            0\n",
       "LotFrontage       259\n",
       "LotArea             0\n",
       "Street              0\n",
       "Alley            1369\n",
       "LotShape            0\n",
       "LandContour         0\n",
       "Utilities           0\n",
       "LotConfig           0\n",
       "LandSlope           0\n",
       "Neighborhood        0\n",
       "Condition1          0\n",
       "Condition2          0\n",
       "BldgType            0\n",
       "HouseStyle          0\n",
       "OverallQual         0\n",
       "YearBuilt           0\n",
       "YearRemodAdd        0\n",
       "RoofStyle           0\n",
       "RoofMatl            0\n",
       "Exterior1st         0\n",
       "Exterior2nd         0\n",
       "MasVnrType          8\n",
       "MasVnrArea          8\n",
       "ExterQual           0\n",
       "ExterCond           0\n",
       "Foundation          0\n",
       "BsmtQual           37\n",
       "BsmtCond           37\n",
       "BsmtExposure       38\n",
       "BsmtFinType1       37\n",
       "BsmtFinSF1          0\n",
       "BsmtFinType2       38\n",
       "BsmtUnfSF           0\n",
       "TotalBsmtSF         0\n",
       "Heating             0\n",
       "HeatingQC           0\n",
       "CentralAir          0\n",
       "Electrical          1\n",
       "1stFlrSF            0\n",
       "2ndFlrSF            0\n",
       "GrLivArea           0\n",
       "BsmtFullBath        0\n",
       "FullBath            0\n",
       "HalfBath            0\n",
       "BedroomAbvGr        0\n",
       "KitchenQual         0\n",
       "TotRmsAbvGrd        0\n",
       "Functional          0\n",
       "Fireplaces          0\n",
       "FireplaceQu       690\n",
       "GarageType         81\n",
       "GarageYrBlt        81\n",
       "GarageFinish       81\n",
       "GarageCars          0\n",
       "GarageArea          0\n",
       "GarageQual         81\n",
       "GarageCond         81\n",
       "PavedDrive          0\n",
       "WoodDeckSF          0\n",
       "OpenPorchSF         0\n",
       "ScreenPorch         0\n",
       "PoolQC           1453\n",
       "Fence            1179\n",
       "MiscFeature      1406\n",
       "SaleType            0\n",
       "SaleCondition       0\n",
       "SalePrice           0\n",
       "dtype: int64"
      ]
     },
     "execution_count": 19,
     "metadata": {},
     "output_type": "execute_result"
    }
   ],
   "source": [
    "pd.options.display.max_rows = 100\n",
    "train.columns\n",
    "train.shape\n",
    "train.isnull().sum()\n"
   ]
  },
  {
   "cell_type": "code",
   "execution_count": 20,
   "id": "nasty-masters",
   "metadata": {
    "execution": {
     "iopub.execute_input": "2021-06-29T11:28:14.274620Z",
     "iopub.status.busy": "2021-06-29T11:28:14.272772Z",
     "iopub.status.idle": "2021-06-29T11:28:14.278461Z",
     "shell.execute_reply": "2021-06-29T11:28:14.278005Z",
     "shell.execute_reply.started": "2021-06-29T08:57:59.437712Z"
    },
    "papermill": {
     "duration": 0.062034,
     "end_time": "2021-06-29T11:28:14.278581",
     "exception": false,
     "start_time": "2021-06-29T11:28:14.216547",
     "status": "completed"
    },
    "tags": []
   },
   "outputs": [
    {
     "data": {
      "text/plain": [
       "Index(['LotFrontage', 'Alley', 'MasVnrType', 'MasVnrArea', 'BsmtQual',\n",
       "       'BsmtCond', 'BsmtExposure', 'BsmtFinType1', 'BsmtFinType2',\n",
       "       'Electrical', 'FireplaceQu', 'GarageType', 'GarageYrBlt',\n",
       "       'GarageFinish', 'GarageQual', 'GarageCond', 'PoolQC', 'Fence',\n",
       "       'MiscFeature'],\n",
       "      dtype='object')"
      ]
     },
     "execution_count": 20,
     "metadata": {},
     "output_type": "execute_result"
    }
   ],
   "source": [
    "null_columns = train.columns[train.isnull().any()]\n",
    "null_columns"
   ]
  },
  {
   "cell_type": "markdown",
   "id": "olive-weekend",
   "metadata": {
    "papermill": {
     "duration": 0.049447,
     "end_time": "2021-06-29T11:28:14.377779",
     "exception": false,
     "start_time": "2021-06-29T11:28:14.328332",
     "status": "completed"
    },
    "tags": []
   },
   "source": [
    "##### *Replacing null numerical columns with mean value*"
   ]
  },
  {
   "cell_type": "code",
   "execution_count": 21,
   "id": "short-apollo",
   "metadata": {
    "execution": {
     "iopub.execute_input": "2021-06-29T11:28:14.482496Z",
     "iopub.status.busy": "2021-06-29T11:28:14.481434Z",
     "iopub.status.idle": "2021-06-29T11:28:14.484899Z",
     "shell.execute_reply": "2021-06-29T11:28:14.484405Z",
     "shell.execute_reply.started": "2021-06-29T08:57:59.454691Z"
    },
    "papermill": {
     "duration": 0.057478,
     "end_time": "2021-06-29T11:28:14.485040",
     "exception": false,
     "start_time": "2021-06-29T11:28:14.427562",
     "status": "completed"
    },
    "tags": []
   },
   "outputs": [],
   "source": [
    "\n",
    "lotfrontage_mean = train[\"LotFrontage\"].mean().round(1)\n",
    "train[\"LotFrontage\"].fillna(lotfrontage_mean, inplace=True)\n"
   ]
  },
  {
   "cell_type": "code",
   "execution_count": 22,
   "id": "extra-atlas",
   "metadata": {
    "execution": {
     "iopub.execute_input": "2021-06-29T11:28:14.590005Z",
     "iopub.status.busy": "2021-06-29T11:28:14.589237Z",
     "iopub.status.idle": "2021-06-29T11:28:14.592789Z",
     "shell.execute_reply": "2021-06-29T11:28:14.592284Z",
     "shell.execute_reply.started": "2021-06-29T08:57:59.465772Z"
    },
    "papermill": {
     "duration": 0.057714,
     "end_time": "2021-06-29T11:28:14.592908",
     "exception": false,
     "start_time": "2021-06-29T11:28:14.535194",
     "status": "completed"
    },
    "tags": []
   },
   "outputs": [
    {
     "data": {
      "text/plain": [
       "Index(['Alley', 'MasVnrType', 'MasVnrArea', 'BsmtQual', 'BsmtCond',\n",
       "       'BsmtExposure', 'BsmtFinType1', 'BsmtFinType2', 'Electrical',\n",
       "       'FireplaceQu', 'GarageType', 'GarageYrBlt', 'GarageFinish',\n",
       "       'GarageQual', 'GarageCond', 'PoolQC', 'Fence', 'MiscFeature'],\n",
       "      dtype='object')"
      ]
     },
     "execution_count": 22,
     "metadata": {},
     "output_type": "execute_result"
    }
   ],
   "source": [
    "null_columns_categorical = null_columns.drop(labels='LotFrontage')\n",
    "null_columns_categorical"
   ]
  },
  {
   "cell_type": "markdown",
   "id": "essential-mechanics",
   "metadata": {
    "papermill": {
     "duration": 0.049627,
     "end_time": "2021-06-29T11:28:14.692749",
     "exception": false,
     "start_time": "2021-06-29T11:28:14.643122",
     "status": "completed"
    },
    "tags": []
   },
   "source": [
    "##### *Replacing null categorical columns with the most frequent category*"
   ]
  },
  {
   "cell_type": "code",
   "execution_count": 23,
   "id": "dominant-oasis",
   "metadata": {
    "execution": {
     "iopub.execute_input": "2021-06-29T11:28:14.800099Z",
     "iopub.status.busy": "2021-06-29T11:28:14.799256Z",
     "iopub.status.idle": "2021-06-29T11:28:14.823956Z",
     "shell.execute_reply": "2021-06-29T11:28:14.823448Z",
     "shell.execute_reply.started": "2021-06-29T08:57:59.482385Z"
    },
    "papermill": {
     "duration": 0.081373,
     "end_time": "2021-06-29T11:28:14.824093",
     "exception": false,
     "start_time": "2021-06-29T11:28:14.742720",
     "status": "completed"
    },
    "tags": []
   },
   "outputs": [
    {
     "data": {
      "text/plain": [
       "MSZoning         0\n",
       "LotFrontage      0\n",
       "LotArea          0\n",
       "Street           0\n",
       "Alley            0\n",
       "LotShape         0\n",
       "LandContour      0\n",
       "Utilities        0\n",
       "LotConfig        0\n",
       "LandSlope        0\n",
       "Neighborhood     0\n",
       "Condition1       0\n",
       "Condition2       0\n",
       "BldgType         0\n",
       "HouseStyle       0\n",
       "OverallQual      0\n",
       "YearBuilt        0\n",
       "YearRemodAdd     0\n",
       "RoofStyle        0\n",
       "RoofMatl         0\n",
       "Exterior1st      0\n",
       "Exterior2nd      0\n",
       "MasVnrType       0\n",
       "MasVnrArea       0\n",
       "ExterQual        0\n",
       "ExterCond        0\n",
       "Foundation       0\n",
       "BsmtQual         0\n",
       "BsmtCond         0\n",
       "BsmtExposure     0\n",
       "BsmtFinType1     0\n",
       "BsmtFinSF1       0\n",
       "BsmtFinType2     0\n",
       "BsmtUnfSF        0\n",
       "TotalBsmtSF      0\n",
       "Heating          0\n",
       "HeatingQC        0\n",
       "CentralAir       0\n",
       "Electrical       0\n",
       "1stFlrSF         0\n",
       "2ndFlrSF         0\n",
       "GrLivArea        0\n",
       "BsmtFullBath     0\n",
       "FullBath         0\n",
       "HalfBath         0\n",
       "BedroomAbvGr     0\n",
       "KitchenQual      0\n",
       "TotRmsAbvGrd     0\n",
       "Functional       0\n",
       "Fireplaces       0\n",
       "FireplaceQu      0\n",
       "GarageType       0\n",
       "GarageYrBlt      0\n",
       "GarageFinish     0\n",
       "GarageCars       0\n",
       "GarageArea       0\n",
       "GarageQual       0\n",
       "GarageCond       0\n",
       "PavedDrive       0\n",
       "WoodDeckSF       0\n",
       "OpenPorchSF      0\n",
       "ScreenPorch      0\n",
       "PoolQC           0\n",
       "Fence            0\n",
       "MiscFeature      0\n",
       "SaleType         0\n",
       "SaleCondition    0\n",
       "SalePrice        0\n",
       "dtype: int64"
      ]
     },
     "execution_count": 23,
     "metadata": {},
     "output_type": "execute_result"
    }
   ],
   "source": [
    "for c in null_columns_categorical:\n",
    "    train[c].fillna(train[c].value_counts().idxmax(), inplace=True)\n",
    "train.isnull().sum()    "
   ]
  },
  {
   "cell_type": "code",
   "execution_count": 24,
   "id": "together-membrane",
   "metadata": {
    "execution": {
     "iopub.execute_input": "2021-06-29T11:28:14.934359Z",
     "iopub.status.busy": "2021-06-29T11:28:14.931988Z",
     "iopub.status.idle": "2021-06-29T11:28:14.962432Z",
     "shell.execute_reply": "2021-06-29T11:28:14.961977Z",
     "shell.execute_reply.started": "2021-06-29T08:57:59.521950Z"
    },
    "papermill": {
     "duration": 0.087926,
     "end_time": "2021-06-29T11:28:14.962564",
     "exception": false,
     "start_time": "2021-06-29T11:28:14.874638",
     "status": "completed"
    },
    "tags": []
   },
   "outputs": [
    {
     "data": {
      "text/html": [
       "<div>\n",
       "<style scoped>\n",
       "    .dataframe tbody tr th:only-of-type {\n",
       "        vertical-align: middle;\n",
       "    }\n",
       "\n",
       "    .dataframe tbody tr th {\n",
       "        vertical-align: top;\n",
       "    }\n",
       "\n",
       "    .dataframe thead th {\n",
       "        text-align: right;\n",
       "    }\n",
       "</style>\n",
       "<table border=\"1\" class=\"dataframe\">\n",
       "  <thead>\n",
       "    <tr style=\"text-align: right;\">\n",
       "      <th></th>\n",
       "      <th>MSZoning</th>\n",
       "      <th>LotFrontage</th>\n",
       "      <th>LotArea</th>\n",
       "      <th>Street</th>\n",
       "      <th>Alley</th>\n",
       "      <th>LotShape</th>\n",
       "      <th>LandContour</th>\n",
       "      <th>Utilities</th>\n",
       "      <th>LotConfig</th>\n",
       "      <th>LandSlope</th>\n",
       "      <th>...</th>\n",
       "      <th>GarageCond</th>\n",
       "      <th>PavedDrive</th>\n",
       "      <th>WoodDeckSF</th>\n",
       "      <th>OpenPorchSF</th>\n",
       "      <th>ScreenPorch</th>\n",
       "      <th>PoolQC</th>\n",
       "      <th>Fence</th>\n",
       "      <th>MiscFeature</th>\n",
       "      <th>SaleType</th>\n",
       "      <th>SaleCondition</th>\n",
       "    </tr>\n",
       "  </thead>\n",
       "  <tbody>\n",
       "    <tr>\n",
       "      <th>0</th>\n",
       "      <td>RL</td>\n",
       "      <td>65.0</td>\n",
       "      <td>8450</td>\n",
       "      <td>Pave</td>\n",
       "      <td>Grvl</td>\n",
       "      <td>Reg</td>\n",
       "      <td>Lvl</td>\n",
       "      <td>AllPub</td>\n",
       "      <td>Inside</td>\n",
       "      <td>Gtl</td>\n",
       "      <td>...</td>\n",
       "      <td>TA</td>\n",
       "      <td>Y</td>\n",
       "      <td>0</td>\n",
       "      <td>61</td>\n",
       "      <td>0</td>\n",
       "      <td>Gd</td>\n",
       "      <td>MnPrv</td>\n",
       "      <td>Shed</td>\n",
       "      <td>WD</td>\n",
       "      <td>Normal</td>\n",
       "    </tr>\n",
       "    <tr>\n",
       "      <th>1</th>\n",
       "      <td>RL</td>\n",
       "      <td>80.0</td>\n",
       "      <td>9600</td>\n",
       "      <td>Pave</td>\n",
       "      <td>Grvl</td>\n",
       "      <td>Reg</td>\n",
       "      <td>Lvl</td>\n",
       "      <td>AllPub</td>\n",
       "      <td>FR2</td>\n",
       "      <td>Gtl</td>\n",
       "      <td>...</td>\n",
       "      <td>TA</td>\n",
       "      <td>Y</td>\n",
       "      <td>298</td>\n",
       "      <td>0</td>\n",
       "      <td>0</td>\n",
       "      <td>Gd</td>\n",
       "      <td>MnPrv</td>\n",
       "      <td>Shed</td>\n",
       "      <td>WD</td>\n",
       "      <td>Normal</td>\n",
       "    </tr>\n",
       "    <tr>\n",
       "      <th>2</th>\n",
       "      <td>RL</td>\n",
       "      <td>68.0</td>\n",
       "      <td>11250</td>\n",
       "      <td>Pave</td>\n",
       "      <td>Grvl</td>\n",
       "      <td>IR1</td>\n",
       "      <td>Lvl</td>\n",
       "      <td>AllPub</td>\n",
       "      <td>Inside</td>\n",
       "      <td>Gtl</td>\n",
       "      <td>...</td>\n",
       "      <td>TA</td>\n",
       "      <td>Y</td>\n",
       "      <td>0</td>\n",
       "      <td>42</td>\n",
       "      <td>0</td>\n",
       "      <td>Gd</td>\n",
       "      <td>MnPrv</td>\n",
       "      <td>Shed</td>\n",
       "      <td>WD</td>\n",
       "      <td>Normal</td>\n",
       "    </tr>\n",
       "    <tr>\n",
       "      <th>3</th>\n",
       "      <td>RL</td>\n",
       "      <td>60.0</td>\n",
       "      <td>9550</td>\n",
       "      <td>Pave</td>\n",
       "      <td>Grvl</td>\n",
       "      <td>IR1</td>\n",
       "      <td>Lvl</td>\n",
       "      <td>AllPub</td>\n",
       "      <td>Corner</td>\n",
       "      <td>Gtl</td>\n",
       "      <td>...</td>\n",
       "      <td>TA</td>\n",
       "      <td>Y</td>\n",
       "      <td>0</td>\n",
       "      <td>35</td>\n",
       "      <td>0</td>\n",
       "      <td>Gd</td>\n",
       "      <td>MnPrv</td>\n",
       "      <td>Shed</td>\n",
       "      <td>WD</td>\n",
       "      <td>Abnorml</td>\n",
       "    </tr>\n",
       "    <tr>\n",
       "      <th>4</th>\n",
       "      <td>RL</td>\n",
       "      <td>84.0</td>\n",
       "      <td>14260</td>\n",
       "      <td>Pave</td>\n",
       "      <td>Grvl</td>\n",
       "      <td>IR1</td>\n",
       "      <td>Lvl</td>\n",
       "      <td>AllPub</td>\n",
       "      <td>FR2</td>\n",
       "      <td>Gtl</td>\n",
       "      <td>...</td>\n",
       "      <td>TA</td>\n",
       "      <td>Y</td>\n",
       "      <td>192</td>\n",
       "      <td>84</td>\n",
       "      <td>0</td>\n",
       "      <td>Gd</td>\n",
       "      <td>MnPrv</td>\n",
       "      <td>Shed</td>\n",
       "      <td>WD</td>\n",
       "      <td>Normal</td>\n",
       "    </tr>\n",
       "    <tr>\n",
       "      <th>...</th>\n",
       "      <td>...</td>\n",
       "      <td>...</td>\n",
       "      <td>...</td>\n",
       "      <td>...</td>\n",
       "      <td>...</td>\n",
       "      <td>...</td>\n",
       "      <td>...</td>\n",
       "      <td>...</td>\n",
       "      <td>...</td>\n",
       "      <td>...</td>\n",
       "      <td>...</td>\n",
       "      <td>...</td>\n",
       "      <td>...</td>\n",
       "      <td>...</td>\n",
       "      <td>...</td>\n",
       "      <td>...</td>\n",
       "      <td>...</td>\n",
       "      <td>...</td>\n",
       "      <td>...</td>\n",
       "      <td>...</td>\n",
       "      <td>...</td>\n",
       "    </tr>\n",
       "    <tr>\n",
       "      <th>1455</th>\n",
       "      <td>RL</td>\n",
       "      <td>62.0</td>\n",
       "      <td>7917</td>\n",
       "      <td>Pave</td>\n",
       "      <td>Grvl</td>\n",
       "      <td>Reg</td>\n",
       "      <td>Lvl</td>\n",
       "      <td>AllPub</td>\n",
       "      <td>Inside</td>\n",
       "      <td>Gtl</td>\n",
       "      <td>...</td>\n",
       "      <td>TA</td>\n",
       "      <td>Y</td>\n",
       "      <td>0</td>\n",
       "      <td>40</td>\n",
       "      <td>0</td>\n",
       "      <td>Gd</td>\n",
       "      <td>MnPrv</td>\n",
       "      <td>Shed</td>\n",
       "      <td>WD</td>\n",
       "      <td>Normal</td>\n",
       "    </tr>\n",
       "    <tr>\n",
       "      <th>1456</th>\n",
       "      <td>RL</td>\n",
       "      <td>85.0</td>\n",
       "      <td>13175</td>\n",
       "      <td>Pave</td>\n",
       "      <td>Grvl</td>\n",
       "      <td>Reg</td>\n",
       "      <td>Lvl</td>\n",
       "      <td>AllPub</td>\n",
       "      <td>Inside</td>\n",
       "      <td>Gtl</td>\n",
       "      <td>...</td>\n",
       "      <td>TA</td>\n",
       "      <td>Y</td>\n",
       "      <td>349</td>\n",
       "      <td>0</td>\n",
       "      <td>0</td>\n",
       "      <td>Gd</td>\n",
       "      <td>MnPrv</td>\n",
       "      <td>Shed</td>\n",
       "      <td>WD</td>\n",
       "      <td>Normal</td>\n",
       "    </tr>\n",
       "    <tr>\n",
       "      <th>1457</th>\n",
       "      <td>RL</td>\n",
       "      <td>66.0</td>\n",
       "      <td>9042</td>\n",
       "      <td>Pave</td>\n",
       "      <td>Grvl</td>\n",
       "      <td>Reg</td>\n",
       "      <td>Lvl</td>\n",
       "      <td>AllPub</td>\n",
       "      <td>Inside</td>\n",
       "      <td>Gtl</td>\n",
       "      <td>...</td>\n",
       "      <td>TA</td>\n",
       "      <td>Y</td>\n",
       "      <td>0</td>\n",
       "      <td>60</td>\n",
       "      <td>0</td>\n",
       "      <td>Gd</td>\n",
       "      <td>GdPrv</td>\n",
       "      <td>Shed</td>\n",
       "      <td>WD</td>\n",
       "      <td>Normal</td>\n",
       "    </tr>\n",
       "    <tr>\n",
       "      <th>1458</th>\n",
       "      <td>RL</td>\n",
       "      <td>68.0</td>\n",
       "      <td>9717</td>\n",
       "      <td>Pave</td>\n",
       "      <td>Grvl</td>\n",
       "      <td>Reg</td>\n",
       "      <td>Lvl</td>\n",
       "      <td>AllPub</td>\n",
       "      <td>Inside</td>\n",
       "      <td>Gtl</td>\n",
       "      <td>...</td>\n",
       "      <td>TA</td>\n",
       "      <td>Y</td>\n",
       "      <td>366</td>\n",
       "      <td>0</td>\n",
       "      <td>0</td>\n",
       "      <td>Gd</td>\n",
       "      <td>MnPrv</td>\n",
       "      <td>Shed</td>\n",
       "      <td>WD</td>\n",
       "      <td>Normal</td>\n",
       "    </tr>\n",
       "    <tr>\n",
       "      <th>1459</th>\n",
       "      <td>RL</td>\n",
       "      <td>75.0</td>\n",
       "      <td>9937</td>\n",
       "      <td>Pave</td>\n",
       "      <td>Grvl</td>\n",
       "      <td>Reg</td>\n",
       "      <td>Lvl</td>\n",
       "      <td>AllPub</td>\n",
       "      <td>Inside</td>\n",
       "      <td>Gtl</td>\n",
       "      <td>...</td>\n",
       "      <td>TA</td>\n",
       "      <td>Y</td>\n",
       "      <td>736</td>\n",
       "      <td>68</td>\n",
       "      <td>0</td>\n",
       "      <td>Gd</td>\n",
       "      <td>MnPrv</td>\n",
       "      <td>Shed</td>\n",
       "      <td>WD</td>\n",
       "      <td>Normal</td>\n",
       "    </tr>\n",
       "  </tbody>\n",
       "</table>\n",
       "<p>1460 rows × 67 columns</p>\n",
       "</div>"
      ],
      "text/plain": [
       "     MSZoning  LotFrontage  LotArea Street Alley LotShape LandContour  \\\n",
       "0          RL         65.0     8450   Pave  Grvl      Reg         Lvl   \n",
       "1          RL         80.0     9600   Pave  Grvl      Reg         Lvl   \n",
       "2          RL         68.0    11250   Pave  Grvl      IR1         Lvl   \n",
       "3          RL         60.0     9550   Pave  Grvl      IR1         Lvl   \n",
       "4          RL         84.0    14260   Pave  Grvl      IR1         Lvl   \n",
       "...       ...          ...      ...    ...   ...      ...         ...   \n",
       "1455       RL         62.0     7917   Pave  Grvl      Reg         Lvl   \n",
       "1456       RL         85.0    13175   Pave  Grvl      Reg         Lvl   \n",
       "1457       RL         66.0     9042   Pave  Grvl      Reg         Lvl   \n",
       "1458       RL         68.0     9717   Pave  Grvl      Reg         Lvl   \n",
       "1459       RL         75.0     9937   Pave  Grvl      Reg         Lvl   \n",
       "\n",
       "     Utilities LotConfig LandSlope  ... GarageCond PavedDrive WoodDeckSF  \\\n",
       "0       AllPub    Inside       Gtl  ...         TA          Y          0   \n",
       "1       AllPub       FR2       Gtl  ...         TA          Y        298   \n",
       "2       AllPub    Inside       Gtl  ...         TA          Y          0   \n",
       "3       AllPub    Corner       Gtl  ...         TA          Y          0   \n",
       "4       AllPub       FR2       Gtl  ...         TA          Y        192   \n",
       "...        ...       ...       ...  ...        ...        ...        ...   \n",
       "1455    AllPub    Inside       Gtl  ...         TA          Y          0   \n",
       "1456    AllPub    Inside       Gtl  ...         TA          Y        349   \n",
       "1457    AllPub    Inside       Gtl  ...         TA          Y          0   \n",
       "1458    AllPub    Inside       Gtl  ...         TA          Y        366   \n",
       "1459    AllPub    Inside       Gtl  ...         TA          Y        736   \n",
       "\n",
       "     OpenPorchSF ScreenPorch  PoolQC  Fence  MiscFeature SaleType  \\\n",
       "0             61           0      Gd  MnPrv         Shed       WD   \n",
       "1              0           0      Gd  MnPrv         Shed       WD   \n",
       "2             42           0      Gd  MnPrv         Shed       WD   \n",
       "3             35           0      Gd  MnPrv         Shed       WD   \n",
       "4             84           0      Gd  MnPrv         Shed       WD   \n",
       "...          ...         ...     ...    ...          ...      ...   \n",
       "1455          40           0      Gd  MnPrv         Shed       WD   \n",
       "1456           0           0      Gd  MnPrv         Shed       WD   \n",
       "1457          60           0      Gd  GdPrv         Shed       WD   \n",
       "1458           0           0      Gd  MnPrv         Shed       WD   \n",
       "1459          68           0      Gd  MnPrv         Shed       WD   \n",
       "\n",
       "     SaleCondition  \n",
       "0           Normal  \n",
       "1           Normal  \n",
       "2           Normal  \n",
       "3          Abnorml  \n",
       "4           Normal  \n",
       "...            ...  \n",
       "1455        Normal  \n",
       "1456        Normal  \n",
       "1457        Normal  \n",
       "1458        Normal  \n",
       "1459        Normal  \n",
       "\n",
       "[1460 rows x 67 columns]"
      ]
     },
     "execution_count": 24,
     "metadata": {},
     "output_type": "execute_result"
    }
   ],
   "source": [
    "\n",
    "train_features = train.drop([\"SalePrice\"], axis=1)\n",
    "train_features"
   ]
  },
  {
   "cell_type": "code",
   "execution_count": 25,
   "id": "willing-conjunction",
   "metadata": {
    "execution": {
     "iopub.execute_input": "2021-06-29T11:28:15.073919Z",
     "iopub.status.busy": "2021-06-29T11:28:15.073129Z",
     "iopub.status.idle": "2021-06-29T11:28:15.076886Z",
     "shell.execute_reply": "2021-06-29T11:28:15.076474Z",
     "shell.execute_reply.started": "2021-06-29T08:57:59.561835Z"
    },
    "papermill": {
     "duration": 0.06347,
     "end_time": "2021-06-29T11:28:15.077005",
     "exception": false,
     "start_time": "2021-06-29T11:28:15.013535",
     "status": "completed"
    },
    "tags": []
   },
   "outputs": [
    {
     "data": {
      "text/html": [
       "<div>\n",
       "<style scoped>\n",
       "    .dataframe tbody tr th:only-of-type {\n",
       "        vertical-align: middle;\n",
       "    }\n",
       "\n",
       "    .dataframe tbody tr th {\n",
       "        vertical-align: top;\n",
       "    }\n",
       "\n",
       "    .dataframe thead th {\n",
       "        text-align: right;\n",
       "    }\n",
       "</style>\n",
       "<table border=\"1\" class=\"dataframe\">\n",
       "  <thead>\n",
       "    <tr style=\"text-align: right;\">\n",
       "      <th></th>\n",
       "      <th>SalePrice</th>\n",
       "    </tr>\n",
       "  </thead>\n",
       "  <tbody>\n",
       "    <tr>\n",
       "      <th>0</th>\n",
       "      <td>208500</td>\n",
       "    </tr>\n",
       "    <tr>\n",
       "      <th>1</th>\n",
       "      <td>181500</td>\n",
       "    </tr>\n",
       "    <tr>\n",
       "      <th>2</th>\n",
       "      <td>223500</td>\n",
       "    </tr>\n",
       "    <tr>\n",
       "      <th>3</th>\n",
       "      <td>140000</td>\n",
       "    </tr>\n",
       "    <tr>\n",
       "      <th>4</th>\n",
       "      <td>250000</td>\n",
       "    </tr>\n",
       "    <tr>\n",
       "      <th>...</th>\n",
       "      <td>...</td>\n",
       "    </tr>\n",
       "    <tr>\n",
       "      <th>1455</th>\n",
       "      <td>175000</td>\n",
       "    </tr>\n",
       "    <tr>\n",
       "      <th>1456</th>\n",
       "      <td>210000</td>\n",
       "    </tr>\n",
       "    <tr>\n",
       "      <th>1457</th>\n",
       "      <td>266500</td>\n",
       "    </tr>\n",
       "    <tr>\n",
       "      <th>1458</th>\n",
       "      <td>142125</td>\n",
       "    </tr>\n",
       "    <tr>\n",
       "      <th>1459</th>\n",
       "      <td>147500</td>\n",
       "    </tr>\n",
       "  </tbody>\n",
       "</table>\n",
       "<p>1460 rows × 1 columns</p>\n",
       "</div>"
      ],
      "text/plain": [
       "      SalePrice\n",
       "0        208500\n",
       "1        181500\n",
       "2        223500\n",
       "3        140000\n",
       "4        250000\n",
       "...         ...\n",
       "1455     175000\n",
       "1456     210000\n",
       "1457     266500\n",
       "1458     142125\n",
       "1459     147500\n",
       "\n",
       "[1460 rows x 1 columns]"
      ]
     },
     "execution_count": 25,
     "metadata": {},
     "output_type": "execute_result"
    }
   ],
   "source": [
    "train_target = train[[\"SalePrice\"]]\n",
    "train_target"
   ]
  },
  {
   "cell_type": "markdown",
   "id": "automatic-relevance",
   "metadata": {
    "papermill": {
     "duration": 0.051423,
     "end_time": "2021-06-29T11:28:15.181590",
     "exception": false,
     "start_time": "2021-06-29T11:28:15.130167",
     "status": "completed"
    },
    "tags": []
   },
   "source": [
    "##### *Encoding & Standardising*"
   ]
  },
  {
   "cell_type": "code",
   "execution_count": 26,
   "id": "satisfactory-renewal",
   "metadata": {
    "execution": {
     "iopub.execute_input": "2021-06-29T11:28:15.295995Z",
     "iopub.status.busy": "2021-06-29T11:28:15.295473Z",
     "iopub.status.idle": "2021-06-29T11:28:15.413854Z",
     "shell.execute_reply": "2021-06-29T11:28:15.413427Z",
     "shell.execute_reply.started": "2021-06-29T08:57:59.579822Z"
    },
    "papermill": {
     "duration": 0.180958,
     "end_time": "2021-06-29T11:28:15.413988",
     "exception": false,
     "start_time": "2021-06-29T11:28:15.233030",
     "status": "completed"
    },
    "tags": []
   },
   "outputs": [
    {
     "data": {
      "text/plain": [
       "array([[0., 0., 0., ..., 0., 1., 0.],\n",
       "       [0., 0., 0., ..., 0., 1., 0.],\n",
       "       [0., 0., 0., ..., 0., 1., 0.],\n",
       "       ...,\n",
       "       [0., 0., 0., ..., 0., 1., 0.],\n",
       "       [0., 0., 0., ..., 0., 1., 0.],\n",
       "       [0., 0., 0., ..., 0., 1., 0.]])"
      ]
     },
     "execution_count": 26,
     "metadata": {},
     "output_type": "execute_result"
    }
   ],
   "source": [
    "ohe = OneHotEncoder(sparse=False, handle_unknown = \"ignore\")\n",
    "train_features_encoded = ohe.fit_transform(train_features)\n",
    "train_features_encoded"
   ]
  },
  {
   "cell_type": "code",
   "execution_count": 27,
   "id": "organizational-western",
   "metadata": {
    "execution": {
     "iopub.execute_input": "2021-06-29T11:28:15.523618Z",
     "iopub.status.busy": "2021-06-29T11:28:15.523045Z",
     "iopub.status.idle": "2021-06-29T11:28:15.768236Z",
     "shell.execute_reply": "2021-06-29T11:28:15.768635Z",
     "shell.execute_reply.started": "2021-06-29T08:57:59.734374Z"
    },
    "papermill": {
     "duration": 0.302472,
     "end_time": "2021-06-29T11:28:15.768806",
     "exception": false,
     "start_time": "2021-06-29T11:28:15.466334",
     "status": "completed"
    },
    "tags": []
   },
   "outputs": [],
   "source": [
    "scaler = StandardScaler()\n",
    "train_features_scaled = scaler.fit_transform(train_features_encoded)\n"
   ]
  },
  {
   "cell_type": "code",
   "execution_count": 28,
   "id": "standard-cradle",
   "metadata": {
    "execution": {
     "iopub.execute_input": "2021-06-29T11:28:15.876142Z",
     "iopub.status.busy": "2021-06-29T11:28:15.875608Z",
     "iopub.status.idle": "2021-06-29T11:28:15.879295Z",
     "shell.execute_reply": "2021-06-29T11:28:15.878860Z",
     "shell.execute_reply.started": "2021-06-29T08:58:00.007285Z"
    },
    "papermill": {
     "duration": 0.058442,
     "end_time": "2021-06-29T11:28:15.879412",
     "exception": false,
     "start_time": "2021-06-29T11:28:15.820970",
     "status": "completed"
    },
    "tags": []
   },
   "outputs": [],
   "source": [
    "X = train_features_scaled\n",
    "y = train_target"
   ]
  },
  {
   "cell_type": "code",
   "execution_count": 29,
   "id": "appropriate-semiconductor",
   "metadata": {
    "execution": {
     "iopub.execute_input": "2021-06-29T11:28:15.988867Z",
     "iopub.status.busy": "2021-06-29T11:28:15.988317Z",
     "iopub.status.idle": "2021-06-29T11:28:16.026356Z",
     "shell.execute_reply": "2021-06-29T11:28:16.025829Z",
     "shell.execute_reply.started": "2021-06-29T08:58:00.013461Z"
    },
    "papermill": {
     "duration": 0.095115,
     "end_time": "2021-06-29T11:28:16.026503",
     "exception": false,
     "start_time": "2021-06-29T11:28:15.931388",
     "status": "completed"
    },
    "tags": []
   },
   "outputs": [],
   "source": [
    "X_train, X_val, y_train, y_val = train_test_split(X, y, test_size=0.25, random_state=21)\n"
   ]
  },
  {
   "cell_type": "markdown",
   "id": "sublime-negative",
   "metadata": {
    "papermill": {
     "duration": 0.054422,
     "end_time": "2021-06-29T11:28:16.136180",
     "exception": false,
     "start_time": "2021-06-29T11:28:16.081758",
     "status": "completed"
    },
    "tags": []
   },
   "source": [
    "##### *Linear Regression*"
   ]
  },
  {
   "cell_type": "code",
   "execution_count": 30,
   "id": "blank-connectivity",
   "metadata": {
    "execution": {
     "iopub.execute_input": "2021-06-29T11:28:16.246629Z",
     "iopub.status.busy": "2021-06-29T11:28:16.245932Z",
     "iopub.status.idle": "2021-06-29T11:28:16.248512Z",
     "shell.execute_reply": "2021-06-29T11:28:16.248906Z",
     "shell.execute_reply.started": "2021-06-29T08:58:00.057628Z"
    },
    "papermill": {
     "duration": 0.059899,
     "end_time": "2021-06-29T11:28:16.249105",
     "exception": false,
     "start_time": "2021-06-29T11:28:16.189206",
     "status": "completed"
    },
    "tags": []
   },
   "outputs": [],
   "source": [
    "#lr = LinearRegression()\n",
    "#score_lr = cross_val_score(lr, X_train, y_train, cv=10)\n",
    "#score_lr.mean()\n"
   ]
  },
  {
   "cell_type": "markdown",
   "id": "communist-president",
   "metadata": {
    "papermill": {
     "duration": 0.052611,
     "end_time": "2021-06-29T11:28:16.354192",
     "exception": false,
     "start_time": "2021-06-29T11:28:16.301581",
     "status": "completed"
    },
    "tags": []
   },
   "source": [
    "##### *Ridge Regression*"
   ]
  },
  {
   "cell_type": "code",
   "execution_count": 31,
   "id": "subsequent-sleeve",
   "metadata": {
    "execution": {
     "iopub.execute_input": "2021-06-29T11:28:16.462892Z",
     "iopub.status.busy": "2021-06-29T11:28:16.462300Z",
     "iopub.status.idle": "2021-06-29T11:28:16.465252Z",
     "shell.execute_reply": "2021-06-29T11:28:16.464787Z",
     "shell.execute_reply.started": "2021-06-29T08:58:00.063162Z"
    },
    "papermill": {
     "duration": 0.058695,
     "end_time": "2021-06-29T11:28:16.465394",
     "exception": false,
     "start_time": "2021-06-29T11:28:16.406699",
     "status": "completed"
    },
    "tags": []
   },
   "outputs": [],
   "source": [
    "#rg = Ridge(alpha=0.1)\n",
    "#score_rg= cross_val_score(rg, X_train, y_train, cv=10)\n",
    "#score_rg.mean()\n"
   ]
  },
  {
   "cell_type": "markdown",
   "id": "together-offset",
   "metadata": {
    "papermill": {
     "duration": 0.053451,
     "end_time": "2021-06-29T11:28:16.572775",
     "exception": false,
     "start_time": "2021-06-29T11:28:16.519324",
     "status": "completed"
    },
    "tags": []
   },
   "source": [
    "##### *Lasso Regression*"
   ]
  },
  {
   "cell_type": "code",
   "execution_count": 32,
   "id": "stainless-child",
   "metadata": {
    "execution": {
     "iopub.execute_input": "2021-06-29T11:28:16.688226Z",
     "iopub.status.busy": "2021-06-29T11:28:16.687625Z",
     "iopub.status.idle": "2021-06-29T11:28:16.689899Z",
     "shell.execute_reply": "2021-06-29T11:28:16.689370Z",
     "shell.execute_reply.started": "2021-06-29T08:58:00.074592Z"
    },
    "papermill": {
     "duration": 0.060053,
     "end_time": "2021-06-29T11:28:16.690048",
     "exception": false,
     "start_time": "2021-06-29T11:28:16.629995",
     "status": "completed"
    },
    "tags": []
   },
   "outputs": [],
   "source": [
    "#lasso = Lasso(alpha=0.5, max_iter = 10000, normalize=False)\n",
    "#score_lasso = cross_val_score(lasso, X_train, y_train, cv=10)\n",
    "#score_lasso.mean()"
   ]
  },
  {
   "cell_type": "markdown",
   "id": "identical-nitrogen",
   "metadata": {
    "papermill": {
     "duration": 0.051749,
     "end_time": "2021-06-29T11:28:16.794876",
     "exception": false,
     "start_time": "2021-06-29T11:28:16.743127",
     "status": "completed"
    },
    "tags": []
   },
   "source": [
    "##### *Decision Tree regressor*"
   ]
  },
  {
   "cell_type": "code",
   "execution_count": 33,
   "id": "located-german",
   "metadata": {
    "execution": {
     "iopub.execute_input": "2021-06-29T11:28:16.906905Z",
     "iopub.status.busy": "2021-06-29T11:28:16.905957Z",
     "iopub.status.idle": "2021-06-29T11:28:16.908757Z",
     "shell.execute_reply": "2021-06-29T11:28:16.908220Z",
     "shell.execute_reply.started": "2021-06-29T08:58:00.087536Z"
    },
    "papermill": {
     "duration": 0.058898,
     "end_time": "2021-06-29T11:28:16.908888",
     "exception": false,
     "start_time": "2021-06-29T11:28:16.849990",
     "status": "completed"
    },
    "tags": []
   },
   "outputs": [],
   "source": [
    "\n",
    "#dt = DecisionTreeRegressor(max_depth = 10, min_samples_leaf = 0.1, random_state = 3)#\n",
    "#score_dt = cross_val_score(dt, X_train, y_train, cv=10)\n",
    "#score_dt.mean()"
   ]
  },
  {
   "cell_type": "markdown",
   "id": "spare-filename",
   "metadata": {
    "papermill": {
     "duration": 0.052117,
     "end_time": "2021-06-29T11:28:17.013442",
     "exception": false,
     "start_time": "2021-06-29T11:28:16.961325",
     "status": "completed"
    },
    "tags": []
   },
   "source": [
    "# Gridsearch CV for Lasso Regression"
   ]
  },
  {
   "cell_type": "code",
   "execution_count": 34,
   "id": "judicial-mechanism",
   "metadata": {
    "execution": {
     "iopub.execute_input": "2021-06-29T11:28:17.125693Z",
     "iopub.status.busy": "2021-06-29T11:28:17.125153Z",
     "iopub.status.idle": "2021-06-29T12:02:28.921001Z",
     "shell.execute_reply": "2021-06-29T12:02:28.921502Z",
     "shell.execute_reply.started": "2021-06-29T08:58:00.097699Z"
    },
    "papermill": {
     "duration": 2051.854808,
     "end_time": "2021-06-29T12:02:28.921678",
     "exception": false,
     "start_time": "2021-06-29T11:28:17.066870",
     "status": "completed"
    },
    "tags": []
   },
   "outputs": [
    {
     "name": "stdout",
     "output_type": "stream",
     "text": [
      "Fitting 10 folds for each of 5 candidates, totalling 50 fits\n"
     ]
    },
    {
     "data": {
      "text/plain": [
       "GridSearchCV(cv=10, estimator=Lasso(max_iter=10000),\n",
       "             param_grid={'alpha': [3.0, 2.0, 1.0, 0.8, 0.5]}, verbose=1)"
      ]
     },
     "execution_count": 34,
     "metadata": {},
     "output_type": "execute_result"
    }
   ],
   "source": [
    "param_dist = { \"alpha\": [3.0, 2.0, 1.0, 0.8, 0.5]}\n",
    "ls = Lasso(max_iter = 10000, normalize=False)\n",
    "grid_search = GridSearchCV(estimator=ls, param_grid=param_dist, verbose=1, cv=10)\n",
    "grid_search.fit(X_train, y_train)\n"
   ]
  },
  {
   "cell_type": "code",
   "execution_count": 35,
   "id": "breathing-frost",
   "metadata": {
    "execution": {
     "iopub.execute_input": "2021-06-29T12:02:29.031195Z",
     "iopub.status.busy": "2021-06-29T12:02:29.030602Z",
     "iopub.status.idle": "2021-06-29T12:02:29.044071Z",
     "shell.execute_reply": "2021-06-29T12:02:29.044529Z",
     "shell.execute_reply.started": "2021-06-29T09:52:31.299712Z"
    },
    "papermill": {
     "duration": 0.070409,
     "end_time": "2021-06-29T12:02:29.044683",
     "exception": false,
     "start_time": "2021-06-29T12:02:28.974274",
     "status": "completed"
    },
    "tags": []
   },
   "outputs": [
    {
     "data": {
      "text/plain": [
       "array([171611.73467616, 181801.00056796, 315183.83718622, 198278.08859301,\n",
       "        97049.50490376, 320702.57627979, 180771.45274907, 404970.67205295,\n",
       "       371866.33800562, 141068.6448967 , 153939.60460412, 216214.46153649,\n",
       "       170720.92609415, 138401.42313234, 169685.56980981, 145148.8857015 ,\n",
       "       240852.93801527, 103313.38067652, 220344.18073   ,  90984.98918648,\n",
       "       170969.56212045, 139265.40445061, 227849.50472682, 161835.21205457,\n",
       "       223474.17469632, 493004.00528137, 148708.99709134, 153678.84108048,\n",
       "       113857.87668082, 169460.03733302, 216350.05505766, 128187.19372528,\n",
       "       152127.54357375, 158130.5420277 , 193823.49452834,  90650.2434848 ,\n",
       "       289612.43260163, 148588.56225137, 187225.05782929, 193352.28157268,\n",
       "       177698.68433586, 191984.58545256, 112114.15413511, 268576.34329746,\n",
       "        99254.48833504, 156277.43119539, 162073.83600226, 322361.6014447 ,\n",
       "       220853.05980236, 241404.86537748, 136166.73692962, 178135.87538192,\n",
       "       102171.59490053, 268703.82111315, 233527.42963116, 148571.41454048,\n",
       "       101392.71171884, 210461.57291436, 152924.77408356, 210390.20745415,\n",
       "       222645.33837987, 121471.28532682, 150526.07771527, 139592.95773389,\n",
       "       144831.06431057, 252411.64029015, 177373.67361713, 125124.04962744,\n",
       "       120718.38400504, 124719.31951584, 116518.48254462, 150922.64963139,\n",
       "       172100.74651758, 154744.43518131, 136553.14726767, 224157.76330172,\n",
       "       130511.15588276, 195376.11202764, 174720.32227761, 199164.54186447,\n",
       "       142863.13153667, 198403.83222157, 252185.32543773, 125388.70362521,\n",
       "       135064.58804059, 222283.61284536, 166821.97968734, 132568.66287532,\n",
       "       149692.77954926, 206134.57338395, 121881.47398912,  73855.85912062,\n",
       "       141963.75435726, 196264.429726  , 152388.4209897 , 296131.71285463,\n",
       "       131071.43767382, 142918.43763728, 173391.59511135, 209721.68081636,\n",
       "       217842.43928573, 143082.409164  , 217611.33643214, 121996.56229806,\n",
       "       177938.20305851,  96025.25787724, 118052.72921971, 287640.26108068,\n",
       "       128095.1243396 , 284671.34810934, 128629.08569061, 260743.46881603,\n",
       "       206833.96272824, 146185.7552774 , 172823.16462833, 200379.13283961,\n",
       "       168595.42032917, 164739.70895293, 234150.21694697, 111569.53500104,\n",
       "       221309.67446633, 220361.59185913, 291768.84484919, 133304.46299156,\n",
       "       172530.06972689, 106475.57042246, 134242.78872998, 399333.00954831,\n",
       "       161600.93705476, 183052.24555493, 160896.21515165, 211037.62033209,\n",
       "       294102.295763  , 162686.4489822 , 122948.18713376, 138325.89792328,\n",
       "       207819.06898988, 119539.004785  , 146612.87449914, 166321.71362229,\n",
       "       164193.76422859, 262455.71060106, 133993.72307708,  79591.41388778,\n",
       "       131549.3620803 , 178583.29715892, 157435.3357007 , 196077.03139065,\n",
       "       309864.6112106 , 112612.69209745, 129295.29050684, 167755.2605125 ,\n",
       "        80485.34289044, 144900.06240843,  97610.69765142, 153530.08770313,\n",
       "       119830.46183362, 194264.75522933, 160369.18564043, 431311.63526137,\n",
       "       213914.61795724, 247143.06435238, 157689.18756796, 161671.69313258,\n",
       "       124089.22261255, 110048.76469918, 134129.50159896, 191199.84534234,\n",
       "       134855.07702635, 184239.58210267, 196462.67466203, 137976.83711436,\n",
       "       269071.70951204, 133869.10221493, 193303.2184501 , 185665.38032664,\n",
       "       307704.91885987,  98257.01059966, 130602.32524905, 136558.04821025,\n",
       "       188183.49875319, 235054.93325827, 307067.01496987, 258775.00168719,\n",
       "       125170.88613061, 348072.18622549, 102401.50871034, 164021.44151516,\n",
       "       171902.04041206,  98392.57082869, 342796.95666487, 184216.55419525,\n",
       "       205404.18515983, 111496.15573037, 286285.34560453, 224212.11209462,\n",
       "       212336.55450711, 171374.95850496, 314587.17665438, 208358.81317303,\n",
       "       128684.32348798, 120932.52084973, 209604.9233558 , 230931.2613708 ,\n",
       "       205508.09935508, 205748.49730582, 135027.19875575, 138676.35247511,\n",
       "       135043.79905348, 147168.45555828, 130345.26573507, 167899.41576079,\n",
       "       176321.02994253, 121760.46709427, 319843.13308906, 130128.25021837,\n",
       "       256113.24056361, 190496.61130883, 109944.30351467, 135583.5274024 ,\n",
       "       114645.37689843, 166347.65050287, 116957.71864792, 138805.93483699,\n",
       "       142675.62268853,  83338.50530488, 149681.24704515, 173554.37217597,\n",
       "       149476.25457278, 195989.88337335, 172423.0251355 , 235499.65914927,\n",
       "       113810.00629927, 148505.04899172, 128459.10858026, 126639.74388533,\n",
       "       168916.04197725, 150828.05541282, 123248.44703408, 237886.57078693,\n",
       "       199826.57092392, 128601.93683493, 137605.04553555, 262324.73474524,\n",
       "        98923.81433873, 104589.29068033, 144805.95352949, 127784.03036175,\n",
       "       266719.72894087, 105139.69562151, 104238.59310394, 150473.16262265,\n",
       "        67590.756932  , 279758.6991721 , 186969.29879164, 201074.01532059,\n",
       "       203577.19196205,  75102.63147289, 179380.85090647, 191541.8707808 ,\n",
       "       173941.58151499, 141427.31684096, 296091.0224716 , 252462.02607982,\n",
       "       156376.97945297, 137965.01669254, 187703.47996545, 128137.08675351,\n",
       "       187298.16293346, 129019.18187533, 127631.11137892, 111868.64887297,\n",
       "        77538.65080875, 126274.88457138, 214189.38424167, 443629.48057691,\n",
       "       230947.80134139, 182718.41211365, 247792.99565539, 158958.50004763,\n",
       "        90591.97612262, 142182.21022756, 163821.7711585 , 220988.26515795,\n",
       "       101435.73848481, 158619.24871339,  91595.8791369 , 217494.5388845 ,\n",
       "       351033.59371182,  86172.76571367, 116291.99414164, 157225.82299349,\n",
       "        99458.14832098, 106136.88479486, 163783.4515279 , 197599.92013286,\n",
       "       212279.85572742, 160094.65031414, 166942.30655257, 250149.7420375 ,\n",
       "       159549.61947191, 157681.05834059, 180392.20995462,  99182.90880527,\n",
       "       189057.9243042 ,  91467.13091328, 198410.01915256, 223450.71097564,\n",
       "       179529.40786311, 136378.6811405 , 101402.47871746, 267345.33805557,\n",
       "       143949.91630197, 206601.32125002, 395119.09700774, 113343.1708705 ,\n",
       "       262618.99200895, 275025.3423766 , 160477.24367743, 156591.30956912,\n",
       "       151781.45237356, 131195.07921421, 184797.56675313, 289311.87692642,\n",
       "       105042.12322834, 188232.94191728, 197070.79125602, 161691.66242744,\n",
       "       312546.59950857, 163321.44992347, 226722.50259001, 117801.71742316,\n",
       "       105947.88919535, 127911.19042811, 105300.41149305, 180981.30981162,\n",
       "       119363.47126308, 151137.18586409, 194378.37648417, 214439.21771825,\n",
       "       188044.3015596 , 189454.97045359, 140327.9200588 ,  90711.62247608,\n",
       "       217915.10067637, 185124.82311182, 138079.36770055, 192778.26941193,\n",
       "       188744.19731261, 169291.604973  , 101307.36870419, 148872.61365561,\n",
       "       157081.67307093, 157852.01942339, 185940.69514173, 217701.08913393,\n",
       "       122901.22375663, 117130.3873318 , 100789.47408341, 117108.24312576,\n",
       "       200210.94417377, 153044.27707545, 324558.18906584, 150699.41424206,\n",
       "       170025.43027847])"
      ]
     },
     "execution_count": 35,
     "metadata": {},
     "output_type": "execute_result"
    }
   ],
   "source": [
    "y_pred = grid_search.predict(X_val)\n",
    "y_pred"
   ]
  },
  {
   "cell_type": "code",
   "execution_count": 36,
   "id": "infinite-american",
   "metadata": {
    "execution": {
     "iopub.execute_input": "2021-06-29T12:02:29.207134Z",
     "iopub.status.busy": "2021-06-29T12:02:29.206455Z",
     "iopub.status.idle": "2021-06-29T12:02:29.209325Z",
     "shell.execute_reply": "2021-06-29T12:02:29.209801Z",
     "shell.execute_reply.started": "2021-06-29T09:52:26.627143Z"
    },
    "papermill": {
     "duration": 0.063762,
     "end_time": "2021-06-29T12:02:29.209948",
     "exception": false,
     "start_time": "2021-06-29T12:02:29.146186",
     "status": "completed"
    },
    "tags": []
   },
   "outputs": [
    {
     "data": {
      "text/plain": [
       "0.8240681810416571"
      ]
     },
     "execution_count": 36,
     "metadata": {},
     "output_type": "execute_result"
    }
   ],
   "source": [
    "grid_search.best_score_"
   ]
  },
  {
   "cell_type": "code",
   "execution_count": 37,
   "id": "provincial-sudan",
   "metadata": {
    "execution": {
     "iopub.execute_input": "2021-06-29T12:02:29.320153Z",
     "iopub.status.busy": "2021-06-29T12:02:29.319332Z",
     "iopub.status.idle": "2021-06-29T12:02:29.323975Z",
     "shell.execute_reply": "2021-06-29T12:02:29.324448Z",
     "shell.execute_reply.started": "2021-06-29T09:52:36.922770Z"
    },
    "papermill": {
     "duration": 0.061379,
     "end_time": "2021-06-29T12:02:29.324604",
     "exception": false,
     "start_time": "2021-06-29T12:02:29.263225",
     "status": "completed"
    },
    "tags": []
   },
   "outputs": [
    {
     "data": {
      "text/plain": [
       "Lasso(alpha=3.0, max_iter=10000)"
      ]
     },
     "execution_count": 37,
     "metadata": {},
     "output_type": "execute_result"
    }
   ],
   "source": [
    "grid_search.best_estimator_"
   ]
  },
  {
   "cell_type": "code",
   "execution_count": 38,
   "id": "corresponding-shower",
   "metadata": {
    "execution": {
     "iopub.execute_input": "2021-06-29T12:02:29.435358Z",
     "iopub.status.busy": "2021-06-29T12:02:29.434534Z",
     "iopub.status.idle": "2021-06-29T12:02:29.438974Z",
     "shell.execute_reply": "2021-06-29T12:02:29.439387Z",
     "shell.execute_reply.started": "2021-06-29T09:35:25.893514Z"
    },
    "papermill": {
     "duration": 0.061735,
     "end_time": "2021-06-29T12:02:29.439530",
     "exception": false,
     "start_time": "2021-06-29T12:02:29.377795",
     "status": "completed"
    },
    "tags": []
   },
   "outputs": [
    {
     "data": {
      "text/plain": [
       "{'alpha': 3.0}"
      ]
     },
     "execution_count": 38,
     "metadata": {},
     "output_type": "execute_result"
    }
   ],
   "source": [
    "grid_search.best_params_"
   ]
  },
  {
   "cell_type": "markdown",
   "id": "reserved-diving",
   "metadata": {
    "papermill": {
     "duration": 0.053628,
     "end_time": "2021-06-29T12:02:29.546461",
     "exception": false,
     "start_time": "2021-06-29T12:02:29.492833",
     "status": "completed"
    },
    "tags": []
   },
   "source": [
    "##### *Parameter tuning results*"
   ]
  },
  {
   "cell_type": "code",
   "execution_count": 39,
   "id": "positive-mills",
   "metadata": {
    "execution": {
     "iopub.execute_input": "2021-06-29T12:02:29.656754Z",
     "iopub.status.busy": "2021-06-29T12:02:29.655972Z",
     "iopub.status.idle": "2021-06-29T12:02:29.677737Z",
     "shell.execute_reply": "2021-06-29T12:02:29.677232Z",
     "shell.execute_reply.started": "2021-06-29T09:35:25.908385Z"
    },
    "papermill": {
     "duration": 0.077807,
     "end_time": "2021-06-29T12:02:29.677855",
     "exception": false,
     "start_time": "2021-06-29T12:02:29.600048",
     "status": "completed"
    },
    "tags": []
   },
   "outputs": [
    {
     "data": {
      "text/html": [
       "<div>\n",
       "<style scoped>\n",
       "    .dataframe tbody tr th:only-of-type {\n",
       "        vertical-align: middle;\n",
       "    }\n",
       "\n",
       "    .dataframe tbody tr th {\n",
       "        vertical-align: top;\n",
       "    }\n",
       "\n",
       "    .dataframe thead th {\n",
       "        text-align: right;\n",
       "    }\n",
       "</style>\n",
       "<table border=\"1\" class=\"dataframe\">\n",
       "  <thead>\n",
       "    <tr style=\"text-align: right;\">\n",
       "      <th></th>\n",
       "      <th>mean_fit_time</th>\n",
       "      <th>std_fit_time</th>\n",
       "      <th>mean_score_time</th>\n",
       "      <th>std_score_time</th>\n",
       "      <th>param_alpha</th>\n",
       "      <th>params</th>\n",
       "      <th>split0_test_score</th>\n",
       "      <th>split1_test_score</th>\n",
       "      <th>split2_test_score</th>\n",
       "      <th>split3_test_score</th>\n",
       "      <th>split4_test_score</th>\n",
       "      <th>split5_test_score</th>\n",
       "      <th>split6_test_score</th>\n",
       "      <th>split7_test_score</th>\n",
       "      <th>split8_test_score</th>\n",
       "      <th>split9_test_score</th>\n",
       "      <th>mean_test_score</th>\n",
       "      <th>std_test_score</th>\n",
       "      <th>rank_test_score</th>\n",
       "    </tr>\n",
       "  </thead>\n",
       "  <tbody>\n",
       "    <tr>\n",
       "      <th>0</th>\n",
       "      <td>30.643016</td>\n",
       "      <td>3.705430</td>\n",
       "      <td>0.006692</td>\n",
       "      <td>0.002932</td>\n",
       "      <td>3.0</td>\n",
       "      <td>{'alpha': 3.0}</td>\n",
       "      <td>0.717509</td>\n",
       "      <td>0.808547</td>\n",
       "      <td>0.861111</td>\n",
       "      <td>0.771139</td>\n",
       "      <td>0.873698</td>\n",
       "      <td>0.823112</td>\n",
       "      <td>0.889797</td>\n",
       "      <td>0.753056</td>\n",
       "      <td>0.872739</td>\n",
       "      <td>0.869975</td>\n",
       "      <td>0.824068</td>\n",
       "      <td>0.056633</td>\n",
       "      <td>1</td>\n",
       "    </tr>\n",
       "    <tr>\n",
       "      <th>1</th>\n",
       "      <td>42.549952</td>\n",
       "      <td>2.981070</td>\n",
       "      <td>0.005286</td>\n",
       "      <td>0.002058</td>\n",
       "      <td>2.0</td>\n",
       "      <td>{'alpha': 2.0}</td>\n",
       "      <td>0.714682</td>\n",
       "      <td>0.807927</td>\n",
       "      <td>0.859817</td>\n",
       "      <td>0.770172</td>\n",
       "      <td>0.872234</td>\n",
       "      <td>0.820656</td>\n",
       "      <td>0.888899</td>\n",
       "      <td>0.750788</td>\n",
       "      <td>0.867926</td>\n",
       "      <td>0.868259</td>\n",
       "      <td>0.822136</td>\n",
       "      <td>0.056703</td>\n",
       "      <td>2</td>\n",
       "    </tr>\n",
       "    <tr>\n",
       "      <th>2</th>\n",
       "      <td>38.339497</td>\n",
       "      <td>4.342422</td>\n",
       "      <td>0.007323</td>\n",
       "      <td>0.004847</td>\n",
       "      <td>1.0</td>\n",
       "      <td>{'alpha': 1.0}</td>\n",
       "      <td>0.704549</td>\n",
       "      <td>0.786628</td>\n",
       "      <td>0.841403</td>\n",
       "      <td>0.734453</td>\n",
       "      <td>0.875888</td>\n",
       "      <td>0.823820</td>\n",
       "      <td>0.850751</td>\n",
       "      <td>0.712126</td>\n",
       "      <td>0.838541</td>\n",
       "      <td>0.854304</td>\n",
       "      <td>0.802246</td>\n",
       "      <td>0.060256</td>\n",
       "      <td>3</td>\n",
       "    </tr>\n",
       "    <tr>\n",
       "      <th>3</th>\n",
       "      <td>41.234686</td>\n",
       "      <td>1.673592</td>\n",
       "      <td>0.004685</td>\n",
       "      <td>0.000284</td>\n",
       "      <td>0.8</td>\n",
       "      <td>{'alpha': 0.8}</td>\n",
       "      <td>0.704446</td>\n",
       "      <td>0.783351</td>\n",
       "      <td>0.824375</td>\n",
       "      <td>0.726803</td>\n",
       "      <td>0.872263</td>\n",
       "      <td>0.824859</td>\n",
       "      <td>0.828820</td>\n",
       "      <td>0.692483</td>\n",
       "      <td>0.830929</td>\n",
       "      <td>0.829352</td>\n",
       "      <td>0.791768</td>\n",
       "      <td>0.058933</td>\n",
       "      <td>4</td>\n",
       "    </tr>\n",
       "    <tr>\n",
       "      <th>4</th>\n",
       "      <td>48.947937</td>\n",
       "      <td>2.291725</td>\n",
       "      <td>0.006393</td>\n",
       "      <td>0.002113</td>\n",
       "      <td>0.5</td>\n",
       "      <td>{'alpha': 0.5}</td>\n",
       "      <td>0.669501</td>\n",
       "      <td>0.756229</td>\n",
       "      <td>0.784771</td>\n",
       "      <td>0.663595</td>\n",
       "      <td>0.835485</td>\n",
       "      <td>0.821776</td>\n",
       "      <td>0.740988</td>\n",
       "      <td>0.640943</td>\n",
       "      <td>0.781776</td>\n",
       "      <td>0.747047</td>\n",
       "      <td>0.744211</td>\n",
       "      <td>0.063491</td>\n",
       "      <td>5</td>\n",
       "    </tr>\n",
       "  </tbody>\n",
       "</table>\n",
       "</div>"
      ],
      "text/plain": [
       "   mean_fit_time  std_fit_time  mean_score_time  std_score_time param_alpha  \\\n",
       "0      30.643016      3.705430         0.006692        0.002932         3.0   \n",
       "1      42.549952      2.981070         0.005286        0.002058         2.0   \n",
       "2      38.339497      4.342422         0.007323        0.004847         1.0   \n",
       "3      41.234686      1.673592         0.004685        0.000284         0.8   \n",
       "4      48.947937      2.291725         0.006393        0.002113         0.5   \n",
       "\n",
       "           params  split0_test_score  split1_test_score  split2_test_score  \\\n",
       "0  {'alpha': 3.0}           0.717509           0.808547           0.861111   \n",
       "1  {'alpha': 2.0}           0.714682           0.807927           0.859817   \n",
       "2  {'alpha': 1.0}           0.704549           0.786628           0.841403   \n",
       "3  {'alpha': 0.8}           0.704446           0.783351           0.824375   \n",
       "4  {'alpha': 0.5}           0.669501           0.756229           0.784771   \n",
       "\n",
       "   split3_test_score  split4_test_score  split5_test_score  split6_test_score  \\\n",
       "0           0.771139           0.873698           0.823112           0.889797   \n",
       "1           0.770172           0.872234           0.820656           0.888899   \n",
       "2           0.734453           0.875888           0.823820           0.850751   \n",
       "3           0.726803           0.872263           0.824859           0.828820   \n",
       "4           0.663595           0.835485           0.821776           0.740988   \n",
       "\n",
       "   split7_test_score  split8_test_score  split9_test_score  mean_test_score  \\\n",
       "0           0.753056           0.872739           0.869975         0.824068   \n",
       "1           0.750788           0.867926           0.868259         0.822136   \n",
       "2           0.712126           0.838541           0.854304         0.802246   \n",
       "3           0.692483           0.830929           0.829352         0.791768   \n",
       "4           0.640943           0.781776           0.747047         0.744211   \n",
       "\n",
       "   std_test_score  rank_test_score  \n",
       "0        0.056633                1  \n",
       "1        0.056703                2  \n",
       "2        0.060256                3  \n",
       "3        0.058933                4  \n",
       "4        0.063491                5  "
      ]
     },
     "execution_count": 39,
     "metadata": {},
     "output_type": "execute_result"
    }
   ],
   "source": [
    "pd.DataFrame(grid_search.cv_results_)"
   ]
  },
  {
   "cell_type": "markdown",
   "id": "frequent-quebec",
   "metadata": {
    "papermill": {
     "duration": 0.054788,
     "end_time": "2021-06-29T12:02:29.786854",
     "exception": false,
     "start_time": "2021-06-29T12:02:29.732066",
     "status": "completed"
    },
    "tags": []
   },
   "source": [
    "##### *Visualising alpha value for more accuracy*"
   ]
  },
  {
   "cell_type": "code",
   "execution_count": 40,
   "id": "standing-prague",
   "metadata": {
    "execution": {
     "iopub.execute_input": "2021-06-29T12:02:29.914888Z",
     "iopub.status.busy": "2021-06-29T12:02:29.912759Z",
     "iopub.status.idle": "2021-06-29T12:02:30.040843Z",
     "shell.execute_reply": "2021-06-29T12:02:30.040419Z",
     "shell.execute_reply.started": "2021-06-29T09:35:25.961820Z"
    },
    "papermill": {
     "duration": 0.199715,
     "end_time": "2021-06-29T12:02:30.040971",
     "exception": false,
     "start_time": "2021-06-29T12:02:29.841256",
     "status": "completed"
    },
    "tags": []
   },
   "outputs": [
    {
     "data": {
      "text/plain": [
       "[Text(0.5, 0, 'alpha'), Text(0, 0.5, 'Mean Test Score')]"
      ]
     },
     "execution_count": 40,
     "metadata": {},
     "output_type": "execute_result"
    },
    {
     "data": {
      "image/png": "[encoded data removed]",
      "text/plain": [
       "<Figure size 864x288 with 1 Axes>"
      ]
     },
     "metadata": {
      "needs_background": "light"
     },
     "output_type": "display_data"
    }
   ],
   "source": [
    "fig,ax = plt.subplots(figsize=(12,4))\n",
    "sns.barplot(data=grid_search.cv_results_, x='param_alpha', y='mean_test_score', ax=ax, palette='rocket')\n",
    "ax.set(ylim=(0.7, 0.9))\n",
    "ax.set(title=\"Grid Search Ridge Accuracy\")\n",
    "ax.set(xlabel=\"alpha\", ylabel=\"Mean Test Score\")"
   ]
  },
  {
   "cell_type": "markdown",
   "id": "noble-james",
   "metadata": {
    "papermill": {
     "duration": 0.054976,
     "end_time": "2021-06-29T12:02:30.151360",
     "exception": false,
     "start_time": "2021-06-29T12:02:30.096384",
     "status": "completed"
    },
    "tags": []
   },
   "source": [
    "##### *Best Estimator*"
   ]
  },
  {
   "cell_type": "code",
   "execution_count": 41,
   "id": "portable-salon",
   "metadata": {
    "execution": {
     "iopub.execute_input": "2021-06-29T12:02:30.266602Z",
     "iopub.status.busy": "2021-06-29T12:02:30.265720Z",
     "iopub.status.idle": "2021-06-29T12:02:30.268642Z",
     "shell.execute_reply": "2021-06-29T12:02:30.268243Z",
     "shell.execute_reply.started": "2021-06-29T09:53:05.691458Z"
    },
    "papermill": {
     "duration": 0.062137,
     "end_time": "2021-06-29T12:02:30.268767",
     "exception": false,
     "start_time": "2021-06-29T12:02:30.206630",
     "status": "completed"
    },
    "tags": []
   },
   "outputs": [],
   "source": [
    "model = grid_search.best_estimator_"
   ]
  },
  {
   "cell_type": "code",
   "execution_count": 42,
   "id": "removed-insured",
   "metadata": {
    "execution": {
     "iopub.execute_input": "2021-06-29T12:02:30.390905Z",
     "iopub.status.busy": "2021-06-29T12:02:30.390311Z",
     "iopub.status.idle": "2021-06-29T12:03:07.101273Z",
     "shell.execute_reply": "2021-06-29T12:03:07.101708Z",
     "shell.execute_reply.started": "2021-06-29T09:53:11.495981Z"
    },
    "papermill": {
     "duration": 36.777322,
     "end_time": "2021-06-29T12:03:07.101870",
     "exception": false,
     "start_time": "2021-06-29T12:02:30.324548",
     "status": "completed"
    },
    "tags": []
   },
   "outputs": [
    {
     "data": {
      "text/plain": [
       "0.8227027117135364"
      ]
     },
     "execution_count": 42,
     "metadata": {},
     "output_type": "execute_result"
    }
   ],
   "source": [
    "model.fit(X_train, y_train)\n",
    "model.score(X_val, y_val)\n"
   ]
  },
  {
   "cell_type": "markdown",
   "id": "fleet-harvest",
   "metadata": {
    "papermill": {
     "duration": 0.055353,
     "end_time": "2021-06-29T12:03:07.212966",
     "exception": false,
     "start_time": "2021-06-29T12:03:07.157613",
     "status": "completed"
    },
    "tags": []
   },
   "source": [
    "##### *Test Data*"
   ]
  },
  {
   "cell_type": "code",
   "execution_count": 43,
   "id": "annual-formation",
   "metadata": {
    "execution": {
     "iopub.execute_input": "2021-06-29T12:03:07.327713Z",
     "iopub.status.busy": "2021-06-29T12:03:07.327152Z",
     "iopub.status.idle": "2021-06-29T12:03:07.354729Z",
     "shell.execute_reply": "2021-06-29T12:03:07.355186Z",
     "shell.execute_reply.started": "2021-06-29T09:36:01.778741Z"
    },
    "papermill": {
     "duration": 0.086898,
     "end_time": "2021-06-29T12:03:07.355377",
     "exception": false,
     "start_time": "2021-06-29T12:03:07.268479",
     "status": "completed"
    },
    "tags": []
   },
   "outputs": [],
   "source": [
    "test = pd.read_csv(\"../input/house-prices-advanced-regression-techniques/test.csv\")"
   ]
  },
  {
   "cell_type": "code",
   "execution_count": 44,
   "id": "unusual-browse",
   "metadata": {
    "execution": {
     "iopub.execute_input": "2021-06-29T12:03:07.471636Z",
     "iopub.status.busy": "2021-06-29T12:03:07.471095Z",
     "iopub.status.idle": "2021-06-29T12:03:07.502302Z",
     "shell.execute_reply": "2021-06-29T12:03:07.501854Z",
     "shell.execute_reply.started": "2021-06-29T09:36:01.854044Z"
    },
    "papermill": {
     "duration": 0.090101,
     "end_time": "2021-06-29T12:03:07.502437",
     "exception": false,
     "start_time": "2021-06-29T12:03:07.412336",
     "status": "completed"
    },
    "tags": []
   },
   "outputs": [
    {
     "data": {
      "text/html": [
       "<div>\n",
       "<style scoped>\n",
       "    .dataframe tbody tr th:only-of-type {\n",
       "        vertical-align: middle;\n",
       "    }\n",
       "\n",
       "    .dataframe tbody tr th {\n",
       "        vertical-align: top;\n",
       "    }\n",
       "\n",
       "    .dataframe thead th {\n",
       "        text-align: right;\n",
       "    }\n",
       "</style>\n",
       "<table border=\"1\" class=\"dataframe\">\n",
       "  <thead>\n",
       "    <tr style=\"text-align: right;\">\n",
       "      <th></th>\n",
       "      <th>Id</th>\n",
       "      <th>MSSubClass</th>\n",
       "      <th>MSZoning</th>\n",
       "      <th>LotFrontage</th>\n",
       "      <th>LotArea</th>\n",
       "      <th>Street</th>\n",
       "      <th>Alley</th>\n",
       "      <th>LotShape</th>\n",
       "      <th>LandContour</th>\n",
       "      <th>Utilities</th>\n",
       "      <th>...</th>\n",
       "      <th>ScreenPorch</th>\n",
       "      <th>PoolArea</th>\n",
       "      <th>PoolQC</th>\n",
       "      <th>Fence</th>\n",
       "      <th>MiscFeature</th>\n",
       "      <th>MiscVal</th>\n",
       "      <th>MoSold</th>\n",
       "      <th>YrSold</th>\n",
       "      <th>SaleType</th>\n",
       "      <th>SaleCondition</th>\n",
       "    </tr>\n",
       "  </thead>\n",
       "  <tbody>\n",
       "    <tr>\n",
       "      <th>0</th>\n",
       "      <td>1461</td>\n",
       "      <td>20</td>\n",
       "      <td>RH</td>\n",
       "      <td>80.0</td>\n",
       "      <td>11622</td>\n",
       "      <td>Pave</td>\n",
       "      <td>NaN</td>\n",
       "      <td>Reg</td>\n",
       "      <td>Lvl</td>\n",
       "      <td>AllPub</td>\n",
       "      <td>...</td>\n",
       "      <td>120</td>\n",
       "      <td>0</td>\n",
       "      <td>NaN</td>\n",
       "      <td>MnPrv</td>\n",
       "      <td>NaN</td>\n",
       "      <td>0</td>\n",
       "      <td>6</td>\n",
       "      <td>2010</td>\n",
       "      <td>WD</td>\n",
       "      <td>Normal</td>\n",
       "    </tr>\n",
       "    <tr>\n",
       "      <th>1</th>\n",
       "      <td>1462</td>\n",
       "      <td>20</td>\n",
       "      <td>RL</td>\n",
       "      <td>81.0</td>\n",
       "      <td>14267</td>\n",
       "      <td>Pave</td>\n",
       "      <td>NaN</td>\n",
       "      <td>IR1</td>\n",
       "      <td>Lvl</td>\n",
       "      <td>AllPub</td>\n",
       "      <td>...</td>\n",
       "      <td>0</td>\n",
       "      <td>0</td>\n",
       "      <td>NaN</td>\n",
       "      <td>NaN</td>\n",
       "      <td>Gar2</td>\n",
       "      <td>12500</td>\n",
       "      <td>6</td>\n",
       "      <td>2010</td>\n",
       "      <td>WD</td>\n",
       "      <td>Normal</td>\n",
       "    </tr>\n",
       "    <tr>\n",
       "      <th>2</th>\n",
       "      <td>1463</td>\n",
       "      <td>60</td>\n",
       "      <td>RL</td>\n",
       "      <td>74.0</td>\n",
       "      <td>13830</td>\n",
       "      <td>Pave</td>\n",
       "      <td>NaN</td>\n",
       "      <td>IR1</td>\n",
       "      <td>Lvl</td>\n",
       "      <td>AllPub</td>\n",
       "      <td>...</td>\n",
       "      <td>0</td>\n",
       "      <td>0</td>\n",
       "      <td>NaN</td>\n",
       "      <td>MnPrv</td>\n",
       "      <td>NaN</td>\n",
       "      <td>0</td>\n",
       "      <td>3</td>\n",
       "      <td>2010</td>\n",
       "      <td>WD</td>\n",
       "      <td>Normal</td>\n",
       "    </tr>\n",
       "    <tr>\n",
       "      <th>3</th>\n",
       "      <td>1464</td>\n",
       "      <td>60</td>\n",
       "      <td>RL</td>\n",
       "      <td>78.0</td>\n",
       "      <td>9978</td>\n",
       "      <td>Pave</td>\n",
       "      <td>NaN</td>\n",
       "      <td>IR1</td>\n",
       "      <td>Lvl</td>\n",
       "      <td>AllPub</td>\n",
       "      <td>...</td>\n",
       "      <td>0</td>\n",
       "      <td>0</td>\n",
       "      <td>NaN</td>\n",
       "      <td>NaN</td>\n",
       "      <td>NaN</td>\n",
       "      <td>0</td>\n",
       "      <td>6</td>\n",
       "      <td>2010</td>\n",
       "      <td>WD</td>\n",
       "      <td>Normal</td>\n",
       "    </tr>\n",
       "    <tr>\n",
       "      <th>4</th>\n",
       "      <td>1465</td>\n",
       "      <td>120</td>\n",
       "      <td>RL</td>\n",
       "      <td>43.0</td>\n",
       "      <td>5005</td>\n",
       "      <td>Pave</td>\n",
       "      <td>NaN</td>\n",
       "      <td>IR1</td>\n",
       "      <td>HLS</td>\n",
       "      <td>AllPub</td>\n",
       "      <td>...</td>\n",
       "      <td>144</td>\n",
       "      <td>0</td>\n",
       "      <td>NaN</td>\n",
       "      <td>NaN</td>\n",
       "      <td>NaN</td>\n",
       "      <td>0</td>\n",
       "      <td>1</td>\n",
       "      <td>2010</td>\n",
       "      <td>WD</td>\n",
       "      <td>Normal</td>\n",
       "    </tr>\n",
       "    <tr>\n",
       "      <th>...</th>\n",
       "      <td>...</td>\n",
       "      <td>...</td>\n",
       "      <td>...</td>\n",
       "      <td>...</td>\n",
       "      <td>...</td>\n",
       "      <td>...</td>\n",
       "      <td>...</td>\n",
       "      <td>...</td>\n",
       "      <td>...</td>\n",
       "      <td>...</td>\n",
       "      <td>...</td>\n",
       "      <td>...</td>\n",
       "      <td>...</td>\n",
       "      <td>...</td>\n",
       "      <td>...</td>\n",
       "      <td>...</td>\n",
       "      <td>...</td>\n",
       "      <td>...</td>\n",
       "      <td>...</td>\n",
       "      <td>...</td>\n",
       "      <td>...</td>\n",
       "    </tr>\n",
       "    <tr>\n",
       "      <th>1454</th>\n",
       "      <td>2915</td>\n",
       "      <td>160</td>\n",
       "      <td>RM</td>\n",
       "      <td>21.0</td>\n",
       "      <td>1936</td>\n",
       "      <td>Pave</td>\n",
       "      <td>NaN</td>\n",
       "      <td>Reg</td>\n",
       "      <td>Lvl</td>\n",
       "      <td>AllPub</td>\n",
       "      <td>...</td>\n",
       "      <td>0</td>\n",
       "      <td>0</td>\n",
       "      <td>NaN</td>\n",
       "      <td>NaN</td>\n",
       "      <td>NaN</td>\n",
       "      <td>0</td>\n",
       "      <td>6</td>\n",
       "      <td>2006</td>\n",
       "      <td>WD</td>\n",
       "      <td>Normal</td>\n",
       "    </tr>\n",
       "    <tr>\n",
       "      <th>1455</th>\n",
       "      <td>2916</td>\n",
       "      <td>160</td>\n",
       "      <td>RM</td>\n",
       "      <td>21.0</td>\n",
       "      <td>1894</td>\n",
       "      <td>Pave</td>\n",
       "      <td>NaN</td>\n",
       "      <td>Reg</td>\n",
       "      <td>Lvl</td>\n",
       "      <td>AllPub</td>\n",
       "      <td>...</td>\n",
       "      <td>0</td>\n",
       "      <td>0</td>\n",
       "      <td>NaN</td>\n",
       "      <td>NaN</td>\n",
       "      <td>NaN</td>\n",
       "      <td>0</td>\n",
       "      <td>4</td>\n",
       "      <td>2006</td>\n",
       "      <td>WD</td>\n",
       "      <td>Abnorml</td>\n",
       "    </tr>\n",
       "    <tr>\n",
       "      <th>1456</th>\n",
       "      <td>2917</td>\n",
       "      <td>20</td>\n",
       "      <td>RL</td>\n",
       "      <td>160.0</td>\n",
       "      <td>20000</td>\n",
       "      <td>Pave</td>\n",
       "      <td>NaN</td>\n",
       "      <td>Reg</td>\n",
       "      <td>Lvl</td>\n",
       "      <td>AllPub</td>\n",
       "      <td>...</td>\n",
       "      <td>0</td>\n",
       "      <td>0</td>\n",
       "      <td>NaN</td>\n",
       "      <td>NaN</td>\n",
       "      <td>NaN</td>\n",
       "      <td>0</td>\n",
       "      <td>9</td>\n",
       "      <td>2006</td>\n",
       "      <td>WD</td>\n",
       "      <td>Abnorml</td>\n",
       "    </tr>\n",
       "    <tr>\n",
       "      <th>1457</th>\n",
       "      <td>2918</td>\n",
       "      <td>85</td>\n",
       "      <td>RL</td>\n",
       "      <td>62.0</td>\n",
       "      <td>10441</td>\n",
       "      <td>Pave</td>\n",
       "      <td>NaN</td>\n",
       "      <td>Reg</td>\n",
       "      <td>Lvl</td>\n",
       "      <td>AllPub</td>\n",
       "      <td>...</td>\n",
       "      <td>0</td>\n",
       "      <td>0</td>\n",
       "      <td>NaN</td>\n",
       "      <td>MnPrv</td>\n",
       "      <td>Shed</td>\n",
       "      <td>700</td>\n",
       "      <td>7</td>\n",
       "      <td>2006</td>\n",
       "      <td>WD</td>\n",
       "      <td>Normal</td>\n",
       "    </tr>\n",
       "    <tr>\n",
       "      <th>1458</th>\n",
       "      <td>2919</td>\n",
       "      <td>60</td>\n",
       "      <td>RL</td>\n",
       "      <td>74.0</td>\n",
       "      <td>9627</td>\n",
       "      <td>Pave</td>\n",
       "      <td>NaN</td>\n",
       "      <td>Reg</td>\n",
       "      <td>Lvl</td>\n",
       "      <td>AllPub</td>\n",
       "      <td>...</td>\n",
       "      <td>0</td>\n",
       "      <td>0</td>\n",
       "      <td>NaN</td>\n",
       "      <td>NaN</td>\n",
       "      <td>NaN</td>\n",
       "      <td>0</td>\n",
       "      <td>11</td>\n",
       "      <td>2006</td>\n",
       "      <td>WD</td>\n",
       "      <td>Normal</td>\n",
       "    </tr>\n",
       "  </tbody>\n",
       "</table>\n",
       "<p>1459 rows × 80 columns</p>\n",
       "</div>"
      ],
      "text/plain": [
       "        Id  MSSubClass MSZoning  LotFrontage  LotArea Street Alley LotShape  \\\n",
       "0     1461          20       RH         80.0    11622   Pave   NaN      Reg   \n",
       "1     1462          20       RL         81.0    14267   Pave   NaN      IR1   \n",
       "2     1463          60       RL         74.0    13830   Pave   NaN      IR1   \n",
       "3     1464          60       RL         78.0     9978   Pave   NaN      IR1   \n",
       "4     1465         120       RL         43.0     5005   Pave   NaN      IR1   \n",
       "...    ...         ...      ...          ...      ...    ...   ...      ...   \n",
       "1454  2915         160       RM         21.0     1936   Pave   NaN      Reg   \n",
       "1455  2916         160       RM         21.0     1894   Pave   NaN      Reg   \n",
       "1456  2917          20       RL        160.0    20000   Pave   NaN      Reg   \n",
       "1457  2918          85       RL         62.0    10441   Pave   NaN      Reg   \n",
       "1458  2919          60       RL         74.0     9627   Pave   NaN      Reg   \n",
       "\n",
       "     LandContour Utilities  ... ScreenPorch PoolArea PoolQC  Fence  \\\n",
       "0            Lvl    AllPub  ...         120        0    NaN  MnPrv   \n",
       "1            Lvl    AllPub  ...           0        0    NaN    NaN   \n",
       "2            Lvl    AllPub  ...           0        0    NaN  MnPrv   \n",
       "3            Lvl    AllPub  ...           0        0    NaN    NaN   \n",
       "4            HLS    AllPub  ...         144        0    NaN    NaN   \n",
       "...          ...       ...  ...         ...      ...    ...    ...   \n",
       "1454         Lvl    AllPub  ...           0        0    NaN    NaN   \n",
       "1455         Lvl    AllPub  ...           0        0    NaN    NaN   \n",
       "1456         Lvl    AllPub  ...           0        0    NaN    NaN   \n",
       "1457         Lvl    AllPub  ...           0        0    NaN  MnPrv   \n",
       "1458         Lvl    AllPub  ...           0        0    NaN    NaN   \n",
       "\n",
       "     MiscFeature MiscVal MoSold  YrSold  SaleType  SaleCondition  \n",
       "0            NaN       0      6    2010        WD         Normal  \n",
       "1           Gar2   12500      6    2010        WD         Normal  \n",
       "2            NaN       0      3    2010        WD         Normal  \n",
       "3            NaN       0      6    2010        WD         Normal  \n",
       "4            NaN       0      1    2010        WD         Normal  \n",
       "...          ...     ...    ...     ...       ...            ...  \n",
       "1454         NaN       0      6    2006        WD         Normal  \n",
       "1455         NaN       0      4    2006        WD        Abnorml  \n",
       "1456         NaN       0      9    2006        WD        Abnorml  \n",
       "1457        Shed     700      7    2006        WD         Normal  \n",
       "1458         NaN       0     11    2006        WD         Normal  \n",
       "\n",
       "[1459 rows x 80 columns]"
      ]
     },
     "execution_count": 44,
     "metadata": {},
     "output_type": "execute_result"
    }
   ],
   "source": [
    "test"
   ]
  },
  {
   "cell_type": "code",
   "execution_count": 45,
   "id": "pressing-genre",
   "metadata": {
    "execution": {
     "iopub.execute_input": "2021-06-29T12:03:07.619057Z",
     "iopub.status.busy": "2021-06-29T12:03:07.618543Z",
     "iopub.status.idle": "2021-06-29T12:03:07.620954Z",
     "shell.execute_reply": "2021-06-29T12:03:07.621449Z",
     "shell.execute_reply.started": "2021-06-29T09:36:01.905857Z"
    },
    "papermill": {
     "duration": 0.062397,
     "end_time": "2021-06-29T12:03:07.621596",
     "exception": false,
     "start_time": "2021-06-29T12:03:07.559199",
     "status": "completed"
    },
    "tags": []
   },
   "outputs": [
    {
     "data": {
      "text/plain": [
       "(1459, 80)"
      ]
     },
     "execution_count": 45,
     "metadata": {},
     "output_type": "execute_result"
    }
   ],
   "source": [
    "test.shape"
   ]
  },
  {
   "cell_type": "markdown",
   "id": "japanese-wellington",
   "metadata": {
    "papermill": {
     "duration": 0.055533,
     "end_time": "2021-06-29T12:03:07.733314",
     "exception": false,
     "start_time": "2021-06-29T12:03:07.677781",
     "status": "completed"
    },
    "tags": []
   },
   "source": [
    "##### *Test Data cleaning*"
   ]
  },
  {
   "cell_type": "code",
   "execution_count": 46,
   "id": "constitutional-anniversary",
   "metadata": {
    "execution": {
     "iopub.execute_input": "2021-06-29T12:03:07.848243Z",
     "iopub.status.busy": "2021-06-29T12:03:07.847718Z",
     "iopub.status.idle": "2021-06-29T12:03:07.852888Z",
     "shell.execute_reply": "2021-06-29T12:03:07.852460Z",
     "shell.execute_reply.started": "2021-06-29T09:36:01.913330Z"
    },
    "papermill": {
     "duration": 0.063241,
     "end_time": "2021-06-29T12:03:07.853028",
     "exception": false,
     "start_time": "2021-06-29T12:03:07.789787",
     "status": "completed"
    },
    "tags": []
   },
   "outputs": [
    {
     "data": {
      "text/plain": [
       "Index(['PoolArea', 'MoSold', '3SsnPorch', 'BsmtFinSF2', 'BsmtHalfBath',\n",
       "       'MiscVal', 'Id', 'LowQualFinSF', 'YrSold', 'OverallCond', 'MSSubClass',\n",
       "       'EnclosedPorch', 'KitchenAbvGr'],\n",
       "      dtype='object')"
      ]
     },
     "execution_count": 46,
     "metadata": {},
     "output_type": "execute_result"
    }
   ],
   "source": [
    "numcols_to_drop"
   ]
  },
  {
   "cell_type": "code",
   "execution_count": 47,
   "id": "interim-happiness",
   "metadata": {
    "execution": {
     "iopub.execute_input": "2021-06-29T12:03:07.973736Z",
     "iopub.status.busy": "2021-06-29T12:03:07.973183Z",
     "iopub.status.idle": "2021-06-29T12:03:07.999947Z",
     "shell.execute_reply": "2021-06-29T12:03:07.999539Z",
     "shell.execute_reply.started": "2021-06-29T09:36:01.927127Z"
    },
    "papermill": {
     "duration": 0.090627,
     "end_time": "2021-06-29T12:03:08.000090",
     "exception": false,
     "start_time": "2021-06-29T12:03:07.909463",
     "status": "completed"
    },
    "tags": []
   },
   "outputs": [
    {
     "data": {
      "text/html": [
       "<div>\n",
       "<style scoped>\n",
       "    .dataframe tbody tr th:only-of-type {\n",
       "        vertical-align: middle;\n",
       "    }\n",
       "\n",
       "    .dataframe tbody tr th {\n",
       "        vertical-align: top;\n",
       "    }\n",
       "\n",
       "    .dataframe thead th {\n",
       "        text-align: right;\n",
       "    }\n",
       "</style>\n",
       "<table border=\"1\" class=\"dataframe\">\n",
       "  <thead>\n",
       "    <tr style=\"text-align: right;\">\n",
       "      <th></th>\n",
       "      <th>MSZoning</th>\n",
       "      <th>LotFrontage</th>\n",
       "      <th>LotArea</th>\n",
       "      <th>Street</th>\n",
       "      <th>Alley</th>\n",
       "      <th>LotShape</th>\n",
       "      <th>LandContour</th>\n",
       "      <th>Utilities</th>\n",
       "      <th>LotConfig</th>\n",
       "      <th>LandSlope</th>\n",
       "      <th>...</th>\n",
       "      <th>GarageCond</th>\n",
       "      <th>PavedDrive</th>\n",
       "      <th>WoodDeckSF</th>\n",
       "      <th>OpenPorchSF</th>\n",
       "      <th>ScreenPorch</th>\n",
       "      <th>PoolQC</th>\n",
       "      <th>Fence</th>\n",
       "      <th>MiscFeature</th>\n",
       "      <th>SaleType</th>\n",
       "      <th>SaleCondition</th>\n",
       "    </tr>\n",
       "  </thead>\n",
       "  <tbody>\n",
       "    <tr>\n",
       "      <th>0</th>\n",
       "      <td>RH</td>\n",
       "      <td>80.0</td>\n",
       "      <td>11622</td>\n",
       "      <td>Pave</td>\n",
       "      <td>NaN</td>\n",
       "      <td>Reg</td>\n",
       "      <td>Lvl</td>\n",
       "      <td>AllPub</td>\n",
       "      <td>Inside</td>\n",
       "      <td>Gtl</td>\n",
       "      <td>...</td>\n",
       "      <td>TA</td>\n",
       "      <td>Y</td>\n",
       "      <td>140</td>\n",
       "      <td>0</td>\n",
       "      <td>120</td>\n",
       "      <td>NaN</td>\n",
       "      <td>MnPrv</td>\n",
       "      <td>NaN</td>\n",
       "      <td>WD</td>\n",
       "      <td>Normal</td>\n",
       "    </tr>\n",
       "    <tr>\n",
       "      <th>1</th>\n",
       "      <td>RL</td>\n",
       "      <td>81.0</td>\n",
       "      <td>14267</td>\n",
       "      <td>Pave</td>\n",
       "      <td>NaN</td>\n",
       "      <td>IR1</td>\n",
       "      <td>Lvl</td>\n",
       "      <td>AllPub</td>\n",
       "      <td>Corner</td>\n",
       "      <td>Gtl</td>\n",
       "      <td>...</td>\n",
       "      <td>TA</td>\n",
       "      <td>Y</td>\n",
       "      <td>393</td>\n",
       "      <td>36</td>\n",
       "      <td>0</td>\n",
       "      <td>NaN</td>\n",
       "      <td>NaN</td>\n",
       "      <td>Gar2</td>\n",
       "      <td>WD</td>\n",
       "      <td>Normal</td>\n",
       "    </tr>\n",
       "    <tr>\n",
       "      <th>2</th>\n",
       "      <td>RL</td>\n",
       "      <td>74.0</td>\n",
       "      <td>13830</td>\n",
       "      <td>Pave</td>\n",
       "      <td>NaN</td>\n",
       "      <td>IR1</td>\n",
       "      <td>Lvl</td>\n",
       "      <td>AllPub</td>\n",
       "      <td>Inside</td>\n",
       "      <td>Gtl</td>\n",
       "      <td>...</td>\n",
       "      <td>TA</td>\n",
       "      <td>Y</td>\n",
       "      <td>212</td>\n",
       "      <td>34</td>\n",
       "      <td>0</td>\n",
       "      <td>NaN</td>\n",
       "      <td>MnPrv</td>\n",
       "      <td>NaN</td>\n",
       "      <td>WD</td>\n",
       "      <td>Normal</td>\n",
       "    </tr>\n",
       "    <tr>\n",
       "      <th>3</th>\n",
       "      <td>RL</td>\n",
       "      <td>78.0</td>\n",
       "      <td>9978</td>\n",
       "      <td>Pave</td>\n",
       "      <td>NaN</td>\n",
       "      <td>IR1</td>\n",
       "      <td>Lvl</td>\n",
       "      <td>AllPub</td>\n",
       "      <td>Inside</td>\n",
       "      <td>Gtl</td>\n",
       "      <td>...</td>\n",
       "      <td>TA</td>\n",
       "      <td>Y</td>\n",
       "      <td>360</td>\n",
       "      <td>36</td>\n",
       "      <td>0</td>\n",
       "      <td>NaN</td>\n",
       "      <td>NaN</td>\n",
       "      <td>NaN</td>\n",
       "      <td>WD</td>\n",
       "      <td>Normal</td>\n",
       "    </tr>\n",
       "    <tr>\n",
       "      <th>4</th>\n",
       "      <td>RL</td>\n",
       "      <td>43.0</td>\n",
       "      <td>5005</td>\n",
       "      <td>Pave</td>\n",
       "      <td>NaN</td>\n",
       "      <td>IR1</td>\n",
       "      <td>HLS</td>\n",
       "      <td>AllPub</td>\n",
       "      <td>Inside</td>\n",
       "      <td>Gtl</td>\n",
       "      <td>...</td>\n",
       "      <td>TA</td>\n",
       "      <td>Y</td>\n",
       "      <td>0</td>\n",
       "      <td>82</td>\n",
       "      <td>144</td>\n",
       "      <td>NaN</td>\n",
       "      <td>NaN</td>\n",
       "      <td>NaN</td>\n",
       "      <td>WD</td>\n",
       "      <td>Normal</td>\n",
       "    </tr>\n",
       "    <tr>\n",
       "      <th>...</th>\n",
       "      <td>...</td>\n",
       "      <td>...</td>\n",
       "      <td>...</td>\n",
       "      <td>...</td>\n",
       "      <td>...</td>\n",
       "      <td>...</td>\n",
       "      <td>...</td>\n",
       "      <td>...</td>\n",
       "      <td>...</td>\n",
       "      <td>...</td>\n",
       "      <td>...</td>\n",
       "      <td>...</td>\n",
       "      <td>...</td>\n",
       "      <td>...</td>\n",
       "      <td>...</td>\n",
       "      <td>...</td>\n",
       "      <td>...</td>\n",
       "      <td>...</td>\n",
       "      <td>...</td>\n",
       "      <td>...</td>\n",
       "      <td>...</td>\n",
       "    </tr>\n",
       "    <tr>\n",
       "      <th>1454</th>\n",
       "      <td>RM</td>\n",
       "      <td>21.0</td>\n",
       "      <td>1936</td>\n",
       "      <td>Pave</td>\n",
       "      <td>NaN</td>\n",
       "      <td>Reg</td>\n",
       "      <td>Lvl</td>\n",
       "      <td>AllPub</td>\n",
       "      <td>Inside</td>\n",
       "      <td>Gtl</td>\n",
       "      <td>...</td>\n",
       "      <td>NaN</td>\n",
       "      <td>Y</td>\n",
       "      <td>0</td>\n",
       "      <td>0</td>\n",
       "      <td>0</td>\n",
       "      <td>NaN</td>\n",
       "      <td>NaN</td>\n",
       "      <td>NaN</td>\n",
       "      <td>WD</td>\n",
       "      <td>Normal</td>\n",
       "    </tr>\n",
       "    <tr>\n",
       "      <th>1455</th>\n",
       "      <td>RM</td>\n",
       "      <td>21.0</td>\n",
       "      <td>1894</td>\n",
       "      <td>Pave</td>\n",
       "      <td>NaN</td>\n",
       "      <td>Reg</td>\n",
       "      <td>Lvl</td>\n",
       "      <td>AllPub</td>\n",
       "      <td>Inside</td>\n",
       "      <td>Gtl</td>\n",
       "      <td>...</td>\n",
       "      <td>TA</td>\n",
       "      <td>Y</td>\n",
       "      <td>0</td>\n",
       "      <td>24</td>\n",
       "      <td>0</td>\n",
       "      <td>NaN</td>\n",
       "      <td>NaN</td>\n",
       "      <td>NaN</td>\n",
       "      <td>WD</td>\n",
       "      <td>Abnorml</td>\n",
       "    </tr>\n",
       "    <tr>\n",
       "      <th>1456</th>\n",
       "      <td>RL</td>\n",
       "      <td>160.0</td>\n",
       "      <td>20000</td>\n",
       "      <td>Pave</td>\n",
       "      <td>NaN</td>\n",
       "      <td>Reg</td>\n",
       "      <td>Lvl</td>\n",
       "      <td>AllPub</td>\n",
       "      <td>Inside</td>\n",
       "      <td>Gtl</td>\n",
       "      <td>...</td>\n",
       "      <td>TA</td>\n",
       "      <td>Y</td>\n",
       "      <td>474</td>\n",
       "      <td>0</td>\n",
       "      <td>0</td>\n",
       "      <td>NaN</td>\n",
       "      <td>NaN</td>\n",
       "      <td>NaN</td>\n",
       "      <td>WD</td>\n",
       "      <td>Abnorml</td>\n",
       "    </tr>\n",
       "    <tr>\n",
       "      <th>1457</th>\n",
       "      <td>RL</td>\n",
       "      <td>62.0</td>\n",
       "      <td>10441</td>\n",
       "      <td>Pave</td>\n",
       "      <td>NaN</td>\n",
       "      <td>Reg</td>\n",
       "      <td>Lvl</td>\n",
       "      <td>AllPub</td>\n",
       "      <td>Inside</td>\n",
       "      <td>Gtl</td>\n",
       "      <td>...</td>\n",
       "      <td>NaN</td>\n",
       "      <td>Y</td>\n",
       "      <td>80</td>\n",
       "      <td>32</td>\n",
       "      <td>0</td>\n",
       "      <td>NaN</td>\n",
       "      <td>MnPrv</td>\n",
       "      <td>Shed</td>\n",
       "      <td>WD</td>\n",
       "      <td>Normal</td>\n",
       "    </tr>\n",
       "    <tr>\n",
       "      <th>1458</th>\n",
       "      <td>RL</td>\n",
       "      <td>74.0</td>\n",
       "      <td>9627</td>\n",
       "      <td>Pave</td>\n",
       "      <td>NaN</td>\n",
       "      <td>Reg</td>\n",
       "      <td>Lvl</td>\n",
       "      <td>AllPub</td>\n",
       "      <td>Inside</td>\n",
       "      <td>Mod</td>\n",
       "      <td>...</td>\n",
       "      <td>TA</td>\n",
       "      <td>Y</td>\n",
       "      <td>190</td>\n",
       "      <td>48</td>\n",
       "      <td>0</td>\n",
       "      <td>NaN</td>\n",
       "      <td>NaN</td>\n",
       "      <td>NaN</td>\n",
       "      <td>WD</td>\n",
       "      <td>Normal</td>\n",
       "    </tr>\n",
       "  </tbody>\n",
       "</table>\n",
       "<p>1459 rows × 67 columns</p>\n",
       "</div>"
      ],
      "text/plain": [
       "     MSZoning  LotFrontage  LotArea Street Alley LotShape LandContour  \\\n",
       "0          RH         80.0    11622   Pave   NaN      Reg         Lvl   \n",
       "1          RL         81.0    14267   Pave   NaN      IR1         Lvl   \n",
       "2          RL         74.0    13830   Pave   NaN      IR1         Lvl   \n",
       "3          RL         78.0     9978   Pave   NaN      IR1         Lvl   \n",
       "4          RL         43.0     5005   Pave   NaN      IR1         HLS   \n",
       "...       ...          ...      ...    ...   ...      ...         ...   \n",
       "1454       RM         21.0     1936   Pave   NaN      Reg         Lvl   \n",
       "1455       RM         21.0     1894   Pave   NaN      Reg         Lvl   \n",
       "1456       RL        160.0    20000   Pave   NaN      Reg         Lvl   \n",
       "1457       RL         62.0    10441   Pave   NaN      Reg         Lvl   \n",
       "1458       RL         74.0     9627   Pave   NaN      Reg         Lvl   \n",
       "\n",
       "     Utilities LotConfig LandSlope  ... GarageCond PavedDrive WoodDeckSF  \\\n",
       "0       AllPub    Inside       Gtl  ...         TA          Y        140   \n",
       "1       AllPub    Corner       Gtl  ...         TA          Y        393   \n",
       "2       AllPub    Inside       Gtl  ...         TA          Y        212   \n",
       "3       AllPub    Inside       Gtl  ...         TA          Y        360   \n",
       "4       AllPub    Inside       Gtl  ...         TA          Y          0   \n",
       "...        ...       ...       ...  ...        ...        ...        ...   \n",
       "1454    AllPub    Inside       Gtl  ...        NaN          Y          0   \n",
       "1455    AllPub    Inside       Gtl  ...         TA          Y          0   \n",
       "1456    AllPub    Inside       Gtl  ...         TA          Y        474   \n",
       "1457    AllPub    Inside       Gtl  ...        NaN          Y         80   \n",
       "1458    AllPub    Inside       Mod  ...         TA          Y        190   \n",
       "\n",
       "     OpenPorchSF ScreenPorch  PoolQC  Fence  MiscFeature SaleType  \\\n",
       "0              0         120     NaN  MnPrv          NaN       WD   \n",
       "1             36           0     NaN    NaN         Gar2       WD   \n",
       "2             34           0     NaN  MnPrv          NaN       WD   \n",
       "3             36           0     NaN    NaN          NaN       WD   \n",
       "4             82         144     NaN    NaN          NaN       WD   \n",
       "...          ...         ...     ...    ...          ...      ...   \n",
       "1454           0           0     NaN    NaN          NaN       WD   \n",
       "1455          24           0     NaN    NaN          NaN       WD   \n",
       "1456           0           0     NaN    NaN          NaN       WD   \n",
       "1457          32           0     NaN  MnPrv         Shed       WD   \n",
       "1458          48           0     NaN    NaN          NaN       WD   \n",
       "\n",
       "     SaleCondition  \n",
       "0           Normal  \n",
       "1           Normal  \n",
       "2           Normal  \n",
       "3           Normal  \n",
       "4           Normal  \n",
       "...            ...  \n",
       "1454        Normal  \n",
       "1455       Abnorml  \n",
       "1456       Abnorml  \n",
       "1457        Normal  \n",
       "1458        Normal  \n",
       "\n",
       "[1459 rows x 67 columns]"
      ]
     },
     "execution_count": 47,
     "metadata": {},
     "output_type": "execute_result"
    }
   ],
   "source": [
    "test = test.drop(numcols_to_drop, axis=1)\n",
    "test"
   ]
  },
  {
   "cell_type": "code",
   "execution_count": 48,
   "id": "comprehensive-battlefield",
   "metadata": {
    "execution": {
     "iopub.execute_input": "2021-06-29T12:03:08.120663Z",
     "iopub.status.busy": "2021-06-29T12:03:08.120106Z",
     "iopub.status.idle": "2021-06-29T12:03:08.123034Z",
     "shell.execute_reply": "2021-06-29T12:03:08.123439Z",
     "shell.execute_reply.started": "2021-06-29T09:36:01.973954Z"
    },
    "papermill": {
     "duration": 0.065862,
     "end_time": "2021-06-29T12:03:08.123592",
     "exception": false,
     "start_time": "2021-06-29T12:03:08.057730",
     "status": "completed"
    },
    "tags": []
   },
   "outputs": [
    {
     "data": {
      "text/plain": [
       "(1459, 67)"
      ]
     },
     "execution_count": 48,
     "metadata": {},
     "output_type": "execute_result"
    }
   ],
   "source": [
    "test.shape"
   ]
  },
  {
   "cell_type": "code",
   "execution_count": 49,
   "id": "nutritional-florida",
   "metadata": {
    "execution": {
     "iopub.execute_input": "2021-06-29T12:03:08.244238Z",
     "iopub.status.busy": "2021-06-29T12:03:08.243675Z",
     "iopub.status.idle": "2021-06-29T12:03:08.250651Z",
     "shell.execute_reply": "2021-06-29T12:03:08.250227Z",
     "shell.execute_reply.started": "2021-06-29T09:36:01.982618Z"
    },
    "papermill": {
     "duration": 0.069887,
     "end_time": "2021-06-29T12:03:08.250777",
     "exception": false,
     "start_time": "2021-06-29T12:03:08.180890",
     "status": "completed"
    },
    "tags": []
   },
   "outputs": [
    {
     "data": {
      "text/plain": [
       "MSZoning            4\n",
       "LotFrontage       227\n",
       "LotArea             0\n",
       "Street              0\n",
       "Alley            1352\n",
       "LotShape            0\n",
       "LandContour         0\n",
       "Utilities           2\n",
       "LotConfig           0\n",
       "LandSlope           0\n",
       "Neighborhood        0\n",
       "Condition1          0\n",
       "Condition2          0\n",
       "BldgType            0\n",
       "HouseStyle          0\n",
       "OverallQual         0\n",
       "YearBuilt           0\n",
       "YearRemodAdd        0\n",
       "RoofStyle           0\n",
       "RoofMatl            0\n",
       "Exterior1st         1\n",
       "Exterior2nd         1\n",
       "MasVnrType         16\n",
       "MasVnrArea         15\n",
       "ExterQual           0\n",
       "ExterCond           0\n",
       "Foundation          0\n",
       "BsmtQual           44\n",
       "BsmtCond           45\n",
       "BsmtExposure       44\n",
       "BsmtFinType1       42\n",
       "BsmtFinSF1          1\n",
       "BsmtFinType2       42\n",
       "BsmtUnfSF           1\n",
       "TotalBsmtSF         1\n",
       "Heating             0\n",
       "HeatingQC           0\n",
       "CentralAir          0\n",
       "Electrical          0\n",
       "1stFlrSF            0\n",
       "2ndFlrSF            0\n",
       "GrLivArea           0\n",
       "BsmtFullBath        2\n",
       "FullBath            0\n",
       "HalfBath            0\n",
       "BedroomAbvGr        0\n",
       "KitchenQual         1\n",
       "TotRmsAbvGrd        0\n",
       "Functional          2\n",
       "Fireplaces          0\n",
       "FireplaceQu       730\n",
       "GarageType         76\n",
       "GarageYrBlt        78\n",
       "GarageFinish       78\n",
       "GarageCars          1\n",
       "GarageArea          1\n",
       "GarageQual         78\n",
       "GarageCond         78\n",
       "PavedDrive          0\n",
       "WoodDeckSF          0\n",
       "OpenPorchSF         0\n",
       "ScreenPorch         0\n",
       "PoolQC           1456\n",
       "Fence            1169\n",
       "MiscFeature      1408\n",
       "SaleType            1\n",
       "SaleCondition       0\n",
       "dtype: int64"
      ]
     },
     "execution_count": 49,
     "metadata": {},
     "output_type": "execute_result"
    }
   ],
   "source": [
    "test.isnull().sum()"
   ]
  },
  {
   "cell_type": "code",
   "execution_count": 50,
   "id": "strategic-reflection",
   "metadata": {
    "execution": {
     "iopub.execute_input": "2021-06-29T12:03:08.373561Z",
     "iopub.status.busy": "2021-06-29T12:03:08.372914Z",
     "iopub.status.idle": "2021-06-29T12:03:08.380685Z",
     "shell.execute_reply": "2021-06-29T12:03:08.381162Z",
     "shell.execute_reply.started": "2021-06-29T09:36:02.002816Z"
    },
    "papermill": {
     "duration": 0.073031,
     "end_time": "2021-06-29T12:03:08.381330",
     "exception": false,
     "start_time": "2021-06-29T12:03:08.308299",
     "status": "completed"
    },
    "tags": []
   },
   "outputs": [
    {
     "data": {
      "text/plain": [
       "Index(['MSZoning', 'LotFrontage', 'Alley', 'Utilities', 'Exterior1st',\n",
       "       'Exterior2nd', 'MasVnrType', 'MasVnrArea', 'BsmtQual', 'BsmtCond',\n",
       "       'BsmtExposure', 'BsmtFinType1', 'BsmtFinSF1', 'BsmtFinType2',\n",
       "       'BsmtUnfSF', 'TotalBsmtSF', 'BsmtFullBath', 'KitchenQual', 'Functional',\n",
       "       'FireplaceQu', 'GarageType', 'GarageYrBlt', 'GarageFinish',\n",
       "       'GarageCars', 'GarageArea', 'GarageQual', 'GarageCond', 'PoolQC',\n",
       "       'Fence', 'MiscFeature', 'SaleType'],\n",
       "      dtype='object')"
      ]
     },
     "execution_count": 50,
     "metadata": {},
     "output_type": "execute_result"
    }
   ],
   "source": [
    "null_columns_test = test.columns[test.isnull().any()]\n",
    "null_columns_test"
   ]
  },
  {
   "cell_type": "code",
   "execution_count": 51,
   "id": "homeless-night",
   "metadata": {
    "execution": {
     "iopub.execute_input": "2021-06-29T12:03:08.503176Z",
     "iopub.status.busy": "2021-06-29T12:03:08.502631Z",
     "iopub.status.idle": "2021-06-29T12:03:08.506806Z",
     "shell.execute_reply": "2021-06-29T12:03:08.507255Z",
     "shell.execute_reply.started": "2021-06-29T09:36:02.016753Z"
    },
    "papermill": {
     "duration": 0.065154,
     "end_time": "2021-06-29T12:03:08.507427",
     "exception": false,
     "start_time": "2021-06-29T12:03:08.442273",
     "status": "completed"
    },
    "tags": []
   },
   "outputs": [],
   "source": [
    "#null_columns_numerical_test\n",
    "lotfrontage_mean_test = test[\"LotFrontage\"].mean().round(1)\n",
    "test[\"LotFrontage\"].fillna(lotfrontage_mean_test, inplace=True)"
   ]
  },
  {
   "cell_type": "code",
   "execution_count": 52,
   "id": "contained-methodology",
   "metadata": {
    "execution": {
     "iopub.execute_input": "2021-06-29T12:03:08.625799Z",
     "iopub.status.busy": "2021-06-29T12:03:08.625300Z",
     "iopub.status.idle": "2021-06-29T12:03:08.630477Z",
     "shell.execute_reply": "2021-06-29T12:03:08.630940Z",
     "shell.execute_reply.started": "2021-06-29T09:36:02.030269Z"
    },
    "papermill": {
     "duration": 0.065593,
     "end_time": "2021-06-29T12:03:08.631122",
     "exception": false,
     "start_time": "2021-06-29T12:03:08.565529",
     "status": "completed"
    },
    "tags": []
   },
   "outputs": [
    {
     "data": {
      "text/plain": [
       "Index(['MSZoning', 'Alley', 'Utilities', 'Exterior1st', 'Exterior2nd',\n",
       "       'MasVnrType', 'MasVnrArea', 'BsmtQual', 'BsmtCond', 'BsmtExposure',\n",
       "       'BsmtFinType1', 'BsmtFinSF1', 'BsmtFinType2', 'BsmtUnfSF',\n",
       "       'TotalBsmtSF', 'BsmtFullBath', 'KitchenQual', 'Functional',\n",
       "       'FireplaceQu', 'GarageType', 'GarageYrBlt', 'GarageFinish',\n",
       "       'GarageCars', 'GarageArea', 'GarageQual', 'GarageCond', 'PoolQC',\n",
       "       'Fence', 'MiscFeature', 'SaleType'],\n",
       "      dtype='object')"
      ]
     },
     "execution_count": 52,
     "metadata": {},
     "output_type": "execute_result"
    }
   ],
   "source": [
    "null_columns_categorical_test = null_columns_test.drop(labels='LotFrontage')\n",
    "null_columns_categorical_test"
   ]
  },
  {
   "cell_type": "code",
   "execution_count": 53,
   "id": "smoking-boston",
   "metadata": {
    "execution": {
     "iopub.execute_input": "2021-06-29T12:03:08.749251Z",
     "iopub.status.busy": "2021-06-29T12:03:08.748722Z",
     "iopub.status.idle": "2021-06-29T12:03:08.784098Z",
     "shell.execute_reply": "2021-06-29T12:03:08.784589Z",
     "shell.execute_reply.started": "2021-06-29T09:36:02.044970Z"
    },
    "papermill": {
     "duration": 0.09586,
     "end_time": "2021-06-29T12:03:08.784744",
     "exception": false,
     "start_time": "2021-06-29T12:03:08.688884",
     "status": "completed"
    },
    "tags": []
   },
   "outputs": [
    {
     "data": {
      "text/plain": [
       "MSZoning         0\n",
       "LotFrontage      0\n",
       "LotArea          0\n",
       "Street           0\n",
       "Alley            0\n",
       "LotShape         0\n",
       "LandContour      0\n",
       "Utilities        0\n",
       "LotConfig        0\n",
       "LandSlope        0\n",
       "Neighborhood     0\n",
       "Condition1       0\n",
       "Condition2       0\n",
       "BldgType         0\n",
       "HouseStyle       0\n",
       "OverallQual      0\n",
       "YearBuilt        0\n",
       "YearRemodAdd     0\n",
       "RoofStyle        0\n",
       "RoofMatl         0\n",
       "Exterior1st      0\n",
       "Exterior2nd      0\n",
       "MasVnrType       0\n",
       "MasVnrArea       0\n",
       "ExterQual        0\n",
       "ExterCond        0\n",
       "Foundation       0\n",
       "BsmtQual         0\n",
       "BsmtCond         0\n",
       "BsmtExposure     0\n",
       "BsmtFinType1     0\n",
       "BsmtFinSF1       0\n",
       "BsmtFinType2     0\n",
       "BsmtUnfSF        0\n",
       "TotalBsmtSF      0\n",
       "Heating          0\n",
       "HeatingQC        0\n",
       "CentralAir       0\n",
       "Electrical       0\n",
       "1stFlrSF         0\n",
       "2ndFlrSF         0\n",
       "GrLivArea        0\n",
       "BsmtFullBath     0\n",
       "FullBath         0\n",
       "HalfBath         0\n",
       "BedroomAbvGr     0\n",
       "KitchenQual      0\n",
       "TotRmsAbvGrd     0\n",
       "Functional       0\n",
       "Fireplaces       0\n",
       "FireplaceQu      0\n",
       "GarageType       0\n",
       "GarageYrBlt      0\n",
       "GarageFinish     0\n",
       "GarageCars       0\n",
       "GarageArea       0\n",
       "GarageQual       0\n",
       "GarageCond       0\n",
       "PavedDrive       0\n",
       "WoodDeckSF       0\n",
       "OpenPorchSF      0\n",
       "ScreenPorch      0\n",
       "PoolQC           0\n",
       "Fence            0\n",
       "MiscFeature      0\n",
       "SaleType         0\n",
       "SaleCondition    0\n",
       "dtype: int64"
      ]
     },
     "execution_count": 53,
     "metadata": {},
     "output_type": "execute_result"
    }
   ],
   "source": [
    "for c in null_columns_categorical_test:\n",
    "    test[c].fillna(test[c].value_counts().idxmax(), inplace=True)\n",
    "test.isnull().sum()   "
   ]
  },
  {
   "cell_type": "code",
   "execution_count": 54,
   "id": "dirty-pitch",
   "metadata": {
    "execution": {
     "iopub.execute_input": "2021-06-29T12:03:08.904660Z",
     "iopub.status.busy": "2021-06-29T12:03:08.904155Z",
     "iopub.status.idle": "2021-06-29T12:03:08.920886Z",
     "shell.execute_reply": "2021-06-29T12:03:08.921264Z",
     "shell.execute_reply.started": "2021-06-29T09:36:02.092120Z"
    },
    "papermill": {
     "duration": 0.077911,
     "end_time": "2021-06-29T12:03:08.921432",
     "exception": false,
     "start_time": "2021-06-29T12:03:08.843521",
     "status": "completed"
    },
    "tags": []
   },
   "outputs": [
    {
     "name": "stdout",
     "output_type": "stream",
     "text": [
      "<class 'pandas.core.frame.DataFrame'>\n",
      "RangeIndex: 1459 entries, 0 to 1458\n",
      "Data columns (total 67 columns):\n",
      " #   Column         Non-Null Count  Dtype  \n",
      "---  ------         --------------  -----  \n",
      " 0   MSZoning       1459 non-null   object \n",
      " 1   LotFrontage    1459 non-null   float64\n",
      " 2   LotArea        1459 non-null   int64  \n",
      " 3   Street         1459 non-null   object \n",
      " 4   Alley          1459 non-null   object \n",
      " 5   LotShape       1459 non-null   object \n",
      " 6   LandContour    1459 non-null   object \n",
      " 7   Utilities      1459 non-null   object \n",
      " 8   LotConfig      1459 non-null   object \n",
      " 9   LandSlope      1459 non-null   object \n",
      " 10  Neighborhood   1459 non-null   object \n",
      " 11  Condition1     1459 non-null   object \n",
      " 12  Condition2     1459 non-null   object \n",
      " 13  BldgType       1459 non-null   object \n",
      " 14  HouseStyle     1459 non-null   object \n",
      " 15  OverallQual    1459 non-null   int64  \n",
      " 16  YearBuilt      1459 non-null   int64  \n",
      " 17  YearRemodAdd   1459 non-null   int64  \n",
      " 18  RoofStyle      1459 non-null   object \n",
      " 19  RoofMatl       1459 non-null   object \n",
      " 20  Exterior1st    1459 non-null   object \n",
      " 21  Exterior2nd    1459 non-null   object \n",
      " 22  MasVnrType     1459 non-null   object \n",
      " 23  MasVnrArea     1459 non-null   float64\n",
      " 24  ExterQual      1459 non-null   object \n",
      " 25  ExterCond      1459 non-null   object \n",
      " 26  Foundation     1459 non-null   object \n",
      " 27  BsmtQual       1459 non-null   object \n",
      " 28  BsmtCond       1459 non-null   object \n",
      " 29  BsmtExposure   1459 non-null   object \n",
      " 30  BsmtFinType1   1459 non-null   object \n",
      " 31  BsmtFinSF1     1459 non-null   float64\n",
      " 32  BsmtFinType2   1459 non-null   object \n",
      " 33  BsmtUnfSF      1459 non-null   float64\n",
      " 34  TotalBsmtSF    1459 non-null   float64\n",
      " 35  Heating        1459 non-null   object \n",
      " 36  HeatingQC      1459 non-null   object \n",
      " 37  CentralAir     1459 non-null   object \n",
      " 38  Electrical     1459 non-null   object \n",
      " 39  1stFlrSF       1459 non-null   int64  \n",
      " 40  2ndFlrSF       1459 non-null   int64  \n",
      " 41  GrLivArea      1459 non-null   int64  \n",
      " 42  BsmtFullBath   1459 non-null   float64\n",
      " 43  FullBath       1459 non-null   int64  \n",
      " 44  HalfBath       1459 non-null   int64  \n",
      " 45  BedroomAbvGr   1459 non-null   int64  \n",
      " 46  KitchenQual    1459 non-null   object \n",
      " 47  TotRmsAbvGrd   1459 non-null   int64  \n",
      " 48  Functional     1459 non-null   object \n",
      " 49  Fireplaces     1459 non-null   int64  \n",
      " 50  FireplaceQu    1459 non-null   object \n",
      " 51  GarageType     1459 non-null   object \n",
      " 52  GarageYrBlt    1459 non-null   float64\n",
      " 53  GarageFinish   1459 non-null   object \n",
      " 54  GarageCars     1459 non-null   float64\n",
      " 55  GarageArea     1459 non-null   float64\n",
      " 56  GarageQual     1459 non-null   object \n",
      " 57  GarageCond     1459 non-null   object \n",
      " 58  PavedDrive     1459 non-null   object \n",
      " 59  WoodDeckSF     1459 non-null   int64  \n",
      " 60  OpenPorchSF    1459 non-null   int64  \n",
      " 61  ScreenPorch    1459 non-null   int64  \n",
      " 62  PoolQC         1459 non-null   object \n",
      " 63  Fence          1459 non-null   object \n",
      " 64  MiscFeature    1459 non-null   object \n",
      " 65  SaleType       1459 non-null   object \n",
      " 66  SaleCondition  1459 non-null   object \n",
      "dtypes: float64(9), int64(15), object(43)\n",
      "memory usage: 763.8+ KB\n"
     ]
    }
   ],
   "source": [
    "test.info()"
   ]
  },
  {
   "cell_type": "markdown",
   "id": "available-alloy",
   "metadata": {
    "papermill": {
     "duration": 0.058989,
     "end_time": "2021-06-29T12:03:09.038910",
     "exception": false,
     "start_time": "2021-06-29T12:03:08.979921",
     "status": "completed"
    },
    "tags": []
   },
   "source": [
    "##### *Test features Encoding & Standardising*"
   ]
  },
  {
   "cell_type": "code",
   "execution_count": 55,
   "id": "transparent-vision",
   "metadata": {
    "execution": {
     "iopub.execute_input": "2021-06-29T12:03:09.168621Z",
     "iopub.status.busy": "2021-06-29T12:03:09.168059Z",
     "iopub.status.idle": "2021-06-29T12:03:09.274256Z",
     "shell.execute_reply": "2021-06-29T12:03:09.273780Z",
     "shell.execute_reply.started": "2021-06-29T09:36:02.114566Z"
    },
    "papermill": {
     "duration": 0.17656,
     "end_time": "2021-06-29T12:03:09.274382",
     "exception": false,
     "start_time": "2021-06-29T12:03:09.097822",
     "status": "completed"
    },
    "tags": []
   },
   "outputs": [
    {
     "data": {
      "text/plain": [
       "array([[0., 0., 1., ..., 0., 1., 0.],\n",
       "       [0., 0., 0., ..., 0., 1., 0.],\n",
       "       [0., 0., 0., ..., 0., 1., 0.],\n",
       "       ...,\n",
       "       [0., 0., 0., ..., 0., 0., 0.],\n",
       "       [0., 0., 0., ..., 0., 1., 0.],\n",
       "       [0., 0., 0., ..., 0., 1., 0.]])"
      ]
     },
     "execution_count": 55,
     "metadata": {},
     "output_type": "execute_result"
    }
   ],
   "source": [
    "\n",
    "test_encoded = ohe.transform(test)\n",
    "test_encoded"
   ]
  },
  {
   "cell_type": "code",
   "execution_count": 56,
   "id": "native-literature",
   "metadata": {
    "execution": {
     "iopub.execute_input": "2021-06-29T12:03:09.396659Z",
     "iopub.status.busy": "2021-06-29T12:03:09.396002Z",
     "iopub.status.idle": "2021-06-29T12:03:09.467042Z",
     "shell.execute_reply": "2021-06-29T12:03:09.466436Z",
     "shell.execute_reply.started": "2021-06-29T09:36:02.285598Z"
    },
    "papermill": {
     "duration": 0.133956,
     "end_time": "2021-06-29T12:03:09.467181",
     "exception": false,
     "start_time": "2021-06-29T12:03:09.333225",
     "status": "completed"
    },
    "tags": []
   },
   "outputs": [],
   "source": [
    "X_test = scaler.transform(test_encoded)"
   ]
  },
  {
   "cell_type": "code",
   "execution_count": 57,
   "id": "afraid-verse",
   "metadata": {
    "execution": {
     "iopub.execute_input": "2021-06-29T12:03:09.588624Z",
     "iopub.status.busy": "2021-06-29T12:03:09.588108Z",
     "iopub.status.idle": "2021-06-29T12:03:09.591967Z",
     "shell.execute_reply": "2021-06-29T12:03:09.592424Z",
     "shell.execute_reply.started": "2021-06-29T09:36:02.367738Z"
    },
    "papermill": {
     "duration": 0.06599,
     "end_time": "2021-06-29T12:03:09.592572",
     "exception": false,
     "start_time": "2021-06-29T12:03:09.526582",
     "status": "completed"
    },
    "tags": []
   },
   "outputs": [
    {
     "data": {
      "text/plain": [
       "(1459, 7244)"
      ]
     },
     "execution_count": 57,
     "metadata": {},
     "output_type": "execute_result"
    }
   ],
   "source": [
    "\n",
    "X_test.shape"
   ]
  },
  {
   "cell_type": "markdown",
   "id": "educational-wages",
   "metadata": {
    "papermill": {
     "duration": 0.058668,
     "end_time": "2021-06-29T12:03:09.710243",
     "exception": false,
     "start_time": "2021-06-29T12:03:09.651575",
     "status": "completed"
    },
    "tags": []
   },
   "source": [
    "##### *Fitting test data on the best estimator*"
   ]
  },
  {
   "cell_type": "code",
   "execution_count": 58,
   "id": "tired-fifth",
   "metadata": {
    "execution": {
     "iopub.execute_input": "2021-06-29T12:03:09.832955Z",
     "iopub.status.busy": "2021-06-29T12:03:09.832126Z",
     "iopub.status.idle": "2021-06-29T12:03:56.500673Z",
     "shell.execute_reply": "2021-06-29T12:03:56.501124Z",
     "shell.execute_reply.started": "2021-06-29T09:36:02.378003Z"
    },
    "papermill": {
     "duration": 46.731786,
     "end_time": "2021-06-29T12:03:56.501300",
     "exception": false,
     "start_time": "2021-06-29T12:03:09.769514",
     "status": "completed"
    },
    "tags": []
   },
   "outputs": [
    {
     "data": {
      "text/plain": [
       "array([127553.28579939, 151822.12506174, 198120.82555162, ...,\n",
       "       407549.09537111, 138880.49103846, 241964.86205752])"
      ]
     },
     "execution_count": 58,
     "metadata": {},
     "output_type": "execute_result"
    }
   ],
   "source": [
    "model.fit(X, y)\n",
    "target = model.predict(X_test)\n",
    "target"
   ]
  },
  {
   "cell_type": "markdown",
   "id": "outer-celebrity",
   "metadata": {
    "papermill": {
     "duration": 0.0593,
     "end_time": "2021-06-29T12:03:56.620611",
     "exception": false,
     "start_time": "2021-06-29T12:03:56.561311",
     "status": "completed"
    },
    "tags": []
   },
   "source": [
    "##### *Output Dataframe*"
   ]
  },
  {
   "cell_type": "code",
   "execution_count": 59,
   "id": "collected-portal",
   "metadata": {
    "execution": {
     "iopub.execute_input": "2021-06-29T12:03:56.749593Z",
     "iopub.status.busy": "2021-06-29T12:03:56.748940Z",
     "iopub.status.idle": "2021-06-29T12:03:56.751730Z",
     "shell.execute_reply": "2021-06-29T12:03:56.752164Z",
     "shell.execute_reply.started": "2021-06-29T09:36:46.798468Z"
    },
    "papermill": {
     "duration": 0.072279,
     "end_time": "2021-06-29T12:03:56.752316",
     "exception": false,
     "start_time": "2021-06-29T12:03:56.680037",
     "status": "completed"
    },
    "tags": []
   },
   "outputs": [
    {
     "data": {
      "text/html": [
       "<div>\n",
       "<style scoped>\n",
       "    .dataframe tbody tr th:only-of-type {\n",
       "        vertical-align: middle;\n",
       "    }\n",
       "\n",
       "    .dataframe tbody tr th {\n",
       "        vertical-align: top;\n",
       "    }\n",
       "\n",
       "    .dataframe thead th {\n",
       "        text-align: right;\n",
       "    }\n",
       "</style>\n",
       "<table border=\"1\" class=\"dataframe\">\n",
       "  <thead>\n",
       "    <tr style=\"text-align: right;\">\n",
       "      <th></th>\n",
       "      <th>SalePrice</th>\n",
       "    </tr>\n",
       "  </thead>\n",
       "  <tbody>\n",
       "    <tr>\n",
       "      <th>0</th>\n",
       "      <td>127553.285799</td>\n",
       "    </tr>\n",
       "    <tr>\n",
       "      <th>1</th>\n",
       "      <td>151822.125062</td>\n",
       "    </tr>\n",
       "    <tr>\n",
       "      <th>2</th>\n",
       "      <td>198120.825552</td>\n",
       "    </tr>\n",
       "    <tr>\n",
       "      <th>3</th>\n",
       "      <td>201975.645391</td>\n",
       "    </tr>\n",
       "    <tr>\n",
       "      <th>4</th>\n",
       "      <td>244387.985475</td>\n",
       "    </tr>\n",
       "    <tr>\n",
       "      <th>...</th>\n",
       "      <td>...</td>\n",
       "    </tr>\n",
       "    <tr>\n",
       "      <th>1454</th>\n",
       "      <td>79902.210858</td>\n",
       "    </tr>\n",
       "    <tr>\n",
       "      <th>1455</th>\n",
       "      <td>80436.189210</td>\n",
       "    </tr>\n",
       "    <tr>\n",
       "      <th>1456</th>\n",
       "      <td>407549.095371</td>\n",
       "    </tr>\n",
       "    <tr>\n",
       "      <th>1457</th>\n",
       "      <td>138880.491038</td>\n",
       "    </tr>\n",
       "    <tr>\n",
       "      <th>1458</th>\n",
       "      <td>241964.862058</td>\n",
       "    </tr>\n",
       "  </tbody>\n",
       "</table>\n",
       "<p>1459 rows × 1 columns</p>\n",
       "</div>"
      ],
      "text/plain": [
       "          SalePrice\n",
       "0     127553.285799\n",
       "1     151822.125062\n",
       "2     198120.825552\n",
       "3     201975.645391\n",
       "4     244387.985475\n",
       "...             ...\n",
       "1454   79902.210858\n",
       "1455   80436.189210\n",
       "1456  407549.095371\n",
       "1457  138880.491038\n",
       "1458  241964.862058\n",
       "\n",
       "[1459 rows x 1 columns]"
      ]
     },
     "execution_count": 59,
     "metadata": {},
     "output_type": "execute_result"
    }
   ],
   "source": [
    "df = pd.DataFrame(data= np.array(target), columns=[\"SalePrice\"])\n",
    "df"
   ]
  },
  {
   "cell_type": "code",
   "execution_count": 60,
   "id": "instant-belle",
   "metadata": {
    "execution": {
     "iopub.execute_input": "2021-06-29T12:03:56.876037Z",
     "iopub.status.busy": "2021-06-29T12:03:56.875041Z",
     "iopub.status.idle": "2021-06-29T12:03:56.887576Z",
     "shell.execute_reply": "2021-06-29T12:03:56.887992Z",
     "shell.execute_reply.started": "2021-06-29T09:36:46.833566Z"
    },
    "papermill": {
     "duration": 0.075573,
     "end_time": "2021-06-29T12:03:56.888160",
     "exception": false,
     "start_time": "2021-06-29T12:03:56.812587",
     "status": "completed"
    },
    "tags": []
   },
   "outputs": [
    {
     "data": {
      "text/html": [
       "<div>\n",
       "<style scoped>\n",
       "    .dataframe tbody tr th:only-of-type {\n",
       "        vertical-align: middle;\n",
       "    }\n",
       "\n",
       "    .dataframe tbody tr th {\n",
       "        vertical-align: top;\n",
       "    }\n",
       "\n",
       "    .dataframe thead th {\n",
       "        text-align: right;\n",
       "    }\n",
       "</style>\n",
       "<table border=\"1\" class=\"dataframe\">\n",
       "  <thead>\n",
       "    <tr style=\"text-align: right;\">\n",
       "      <th></th>\n",
       "      <th>Id</th>\n",
       "      <th>SalePrice</th>\n",
       "    </tr>\n",
       "  </thead>\n",
       "  <tbody>\n",
       "    <tr>\n",
       "      <th>0</th>\n",
       "      <td>1461</td>\n",
       "      <td>127553.285799</td>\n",
       "    </tr>\n",
       "    <tr>\n",
       "      <th>1</th>\n",
       "      <td>1462</td>\n",
       "      <td>151822.125062</td>\n",
       "    </tr>\n",
       "    <tr>\n",
       "      <th>2</th>\n",
       "      <td>1463</td>\n",
       "      <td>198120.825552</td>\n",
       "    </tr>\n",
       "    <tr>\n",
       "      <th>3</th>\n",
       "      <td>1464</td>\n",
       "      <td>201975.645391</td>\n",
       "    </tr>\n",
       "    <tr>\n",
       "      <th>4</th>\n",
       "      <td>1465</td>\n",
       "      <td>244387.985475</td>\n",
       "    </tr>\n",
       "    <tr>\n",
       "      <th>...</th>\n",
       "      <td>...</td>\n",
       "      <td>...</td>\n",
       "    </tr>\n",
       "    <tr>\n",
       "      <th>1454</th>\n",
       "      <td>2915</td>\n",
       "      <td>79902.210858</td>\n",
       "    </tr>\n",
       "    <tr>\n",
       "      <th>1455</th>\n",
       "      <td>2916</td>\n",
       "      <td>80436.189210</td>\n",
       "    </tr>\n",
       "    <tr>\n",
       "      <th>1456</th>\n",
       "      <td>2917</td>\n",
       "      <td>407549.095371</td>\n",
       "    </tr>\n",
       "    <tr>\n",
       "      <th>1457</th>\n",
       "      <td>2918</td>\n",
       "      <td>138880.491038</td>\n",
       "    </tr>\n",
       "    <tr>\n",
       "      <th>1458</th>\n",
       "      <td>2919</td>\n",
       "      <td>241964.862058</td>\n",
       "    </tr>\n",
       "  </tbody>\n",
       "</table>\n",
       "<p>1459 rows × 2 columns</p>\n",
       "</div>"
      ],
      "text/plain": [
       "        Id      SalePrice\n",
       "0     1461  127553.285799\n",
       "1     1462  151822.125062\n",
       "2     1463  198120.825552\n",
       "3     1464  201975.645391\n",
       "4     1465  244387.985475\n",
       "...    ...            ...\n",
       "1454  2915   79902.210858\n",
       "1455  2916   80436.189210\n",
       "1456  2917  407549.095371\n",
       "1457  2918  138880.491038\n",
       "1458  2919  241964.862058\n",
       "\n",
       "[1459 rows x 2 columns]"
      ]
     },
     "execution_count": 60,
     "metadata": {},
     "output_type": "execute_result"
    }
   ],
   "source": [
    "df[['Id']] = sample_submission.Id\n",
    "output = df[[\"Id\", \"SalePrice\"]]\n",
    "output"
   ]
  },
  {
   "cell_type": "code",
   "execution_count": 61,
   "id": "therapeutic-chamber",
   "metadata": {
    "execution": {
     "iopub.execute_input": "2021-06-29T12:03:57.012881Z",
     "iopub.status.busy": "2021-06-29T12:03:57.012063Z",
     "iopub.status.idle": "2021-06-29T12:03:57.023194Z",
     "shell.execute_reply": "2021-06-29T12:03:57.022747Z",
     "shell.execute_reply.started": "2021-06-29T10:01:22.802573Z"
    },
    "papermill": {
     "duration": 0.073988,
     "end_time": "2021-06-29T12:03:57.023327",
     "exception": false,
     "start_time": "2021-06-29T12:03:56.949339",
     "status": "completed"
    },
    "tags": []
   },
   "outputs": [],
   "source": [
    " \n",
    "output.to_csv(\"House_price_submission\", index=False)"
   ]
  }
 ],
 "metadata": {
  "kernelspec": {
   "display_name": "Python 3",
   "language": "python",
   "name": "python3"
  },
  "language_info": {
   "codemirror_mode": {
    "name": "ipython",
    "version": 3
   },
   "file_extension": ".py",
   "mimetype": "text/x-python",
   "name": "python",
   "nbconvert_exporter": "python",
   "pygments_lexer": "ipython3",
   "version": "3.7.10"
  },
  "papermill": {
   "default_parameters": {},
   "duration": 2157.477104,
   "end_time": "2021-06-29T12:03:58.808710",
   "environment_variables": {},
   "exception": null,
   "input_path": "__notebook__.ipynb",
   "output_path": "__notebook__.ipynb",
   "parameters": {},
   "start_time": "2021-06-29T11:28:01.331606",
   "version": "2.3.3"
  }
 },
 "nbformat": 4,
 "nbformat_minor": 5
}
